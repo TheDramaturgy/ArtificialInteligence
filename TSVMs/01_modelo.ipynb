{
 "cells": [
  {
   "cell_type": "markdown",
   "metadata": {},
   "source": [
    "**Instituto de Informática - UFG**\n",
    "\n",
    "Disciplina: Inteligência Computacional\n",
    "\n",
    "Prof. Cedric Luiz de Carvalho\n",
    "\n",
    "\n",
    "Grupo ( B )\n",
    "\n",
    "---\n",
    "\n",
    "\n",
    "Analista de dados:\n",
    "* William Teixeira Pires Junior\n",
    "\n",
    "---\n",
    "\n",
    "Engenheiro(a) do conhecimento:\n",
    "* Arthur Cavalcante de Andrade\n",
    "\n",
    "---"
   ]
  },
  {
   "cell_type": "markdown",
   "metadata": {},
   "source": [
    "# Modelo"
   ]
  },
  {
   "cell_type": "markdown",
   "metadata": {},
   "source": [
    "A base de dados [Breast Cancer Wisconsin (Prognostic) Data Set](http://archive.ics.uci.edu/ml/datasets/Breast+Cancer+Wisconsin+%28Prognostic%29), apresenta uma série de características referentes à um tumor no tecido mamário seguidos de uma classificação como maligno ou benigno. Com a intenção de corretamente identificar o tipo de um tumor a partir de suas características físicas, modelamos o problema como uma `SVM` capaz de inferir essa classificação.\n",
    "\n",
    "Em `02_analise.ipynb` os dados foram tratados e avaliados com auxilio de gráficos para uma identificação inicial de padrões e comportamentos que pudessem auxiliar na resolução do problema. Em `03_solucao.ipynb` foram gerados uma série de modelos gerados, e testados de diferentes formas buscando avaliar a qualidade de suas soluções. \n",
    "\n",
    "Tendo isso em vista, neste notebook descrevemos o funcionamento do modelo de Máquinas de Vetores de Suporte."
   ]
  },
  {
   "cell_type": "markdown",
   "metadata": {},
   "source": [
    "### Máquinas de Vetores de Suporte"
   ]
  },
  {
   "cell_type": "markdown",
   "metadata": {},
   "source": [
    "Máquinas de vetores de suporte (SVMs) são um conjunto de métodos de aprendizado supervisionado usados ​​para classificação, regressão e detecção de outliers. O SVM padrão toma como entrada um conjunto de dados e prediz, para cada entrada dada, qual de duas possíveis classes a entrada faz parte, o que faz do SVM um classificador linear binário não probabilístico.\n",
    "\n",
    "O modelo SVM representas cada entrada da base de dados com um ponto em um espaço, de forma que exemplos de cada categoria podem ser separados por um hiperplano. Quando um novo exemplo aparece, ele é mapeado para esse espaço, e então sua categoria é definida de acordo com a região em que se encontra.\n",
    "\n",
    "Chamamos de margem a distancia entre o hiperplano e o primeiro elemento de cada classe que ele separa, e na margem é traçado paralelo ao hiperplano de separação os hiperplanos (ou vetores) de suporte. A SVM tenta maximizar essa margem, para garantir que novos exemplos tenham maior chance de serem classificados corretamente. \n",
    "\n",
    "As vantagens das máquinas de vetores de suporte são:\n",
    "\n",
    "* É eficaz em espaços de alta dimensão.\n",
    "* Ainda eficaz nos casos em que o número de dimensões é maior que o número de amostras.\n",
    "* Usa um subconjunto de pontos de treinamento na função de decisão (chamados vetores de suporte), portanto, também é eficiente em termos de memória.\n",
    "* Versátil: diferentes funções do Kernel podem ser especificadas para a função de decisão. Kernels comuns são fornecidos, mas também é possível especificar kernels personalizados.\n",
    "* Consegue lidar bem com `outliers`.\n",
    "* Funciona bem independendo da complexidade do conjunto de dados, desde que suas classes sejam separáveis.\n",
    "\n",
    "As desvantagens das máquinas de vetores de suporte incluem:\n",
    "\n",
    "* Se o número de características é muito maior do que o número de amostras, a escolha adequada das funções de *kernel* e do termo de regularização para se evitar *over-fitting* é crucial.\n",
    "* As SVMs não são capazes de estimar probabilidades diretamente. Estas estimativas são feitas usando *validação cruzada de cinco etapas (five-fold cross-validation)*, que é muito custosa.\n",
    "* Pode se tornar ineficiente em conjunto de dados muito grandes, devido aos calculos de inversão de matriz.\n",
    "* Não é capaz de lidar bem com grande quantidade de ruído."
   ]
  },
  {
   "cell_type": "markdown",
   "metadata": {},
   "source": [
    "Os modelos implementados foram criados com biblioteca **SciKit Learn**, os modulos utilizados foram descritos a seguir."
   ]
  },
  {
   "cell_type": "markdown",
   "metadata": {},
   "source": [
    "##### SVC (C-Support Vector Classification)"
   ]
  },
  {
   "cell_type": "markdown",
   "metadata": {},
   "source": [
    "A implementação é baseada em `libsvm`. O tempo de ajuste escala pelo menos quadraticamente com o número de amostras."
   ]
  },
  {
   "cell_type": "markdown",
   "metadata": {},
   "source": [
    "Funções de kernel disponíveis:\n",
    "\n",
    "* Linear (`linear`): $<x, x'>$\n",
    "\n",
    "* Polinomial (`poly`): $(\\gamma <x, x' > + r )^d $ , onde **d** é especificado por um parâmetro grau, e **r** por *coef0*.\n",
    "\n",
    "* RBF (`rbf`): $ exp( -\\gamma ||x - x'||^2)$, onde $\\gamma$ é especificado pelo parâmetro gama, de valor maior que 0.\n",
    "\n",
    "* Sigmoidal (`sigmoid`): $ \\tanh( \\gamma<x,x'> +r) $, onde **r** é especificado por *coef0*."
   ]
  },
  {
   "cell_type": "markdown",
   "metadata": {},
   "source": [
    "A SVC pode ser impraticável além de dezenas de milhares de amostras.\n",
    "\n",
    "Para grandes conjuntos de dados, pode-se considerar usar a LinearSVC, que também utilizamos para a criação dos modelos."
   ]
  },
  {
   "cell_type": "markdown",
   "metadata": {},
   "source": [
    "##### LinearSVC (Linear Support Vector Classification)"
   ]
  },
  {
   "cell_type": "markdown",
   "metadata": {},
   "source": [
    "Semelhante ao SVC com o parâmetro kernel='linear', mas implementado em termos de `liblinear` em vez de `libsvm`, por isso tem mais flexibilidade na escolha de penalidades e funções de perda e deve escalar melhor para um grande número de amostras."
   ]
  }
 ],
 "metadata": {
  "interpreter": {
   "hash": "816c4ca1a442304386b640facc7eeaee53f275019272c999ca11fec791461f00"
  },
  "kernelspec": {
   "display_name": "Python 3.10.2 64-bit",
   "language": "python",
   "name": "python3"
  },
  "language_info": {
   "codemirror_mode": {
    "name": "ipython",
    "version": 3
   },
   "file_extension": ".py",
   "mimetype": "text/x-python",
   "name": "python",
   "nbconvert_exporter": "python",
   "pygments_lexer": "ipython3",
   "version": "3.9.1"
  },
  "orig_nbformat": 4
 },
 "nbformat": 4,
 "nbformat_minor": 2
}
