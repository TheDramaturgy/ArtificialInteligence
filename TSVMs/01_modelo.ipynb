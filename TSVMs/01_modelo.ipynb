{
 "cells": [
  {
   "cell_type": "markdown",
   "metadata": {},
   "source": [
    "**Instituto de Informática - UFG**\n",
    "\n",
    "Disciplina: Inteligência Computacional\n",
    "\n",
    "Prof. Cedric Luiz de Carvalho\n",
    "\n",
    "\n",
    "Grupo ( B )\n",
    "\n",
    "---\n",
    "\n",
    "\n",
    "Analista de dados:\n",
    "* William Teixeira Pires Junior\n",
    "\n",
    "---\n",
    "\n",
    "Engenheiro(a) do conhecimento:\n",
    "* Arthur Cavalcante de Andrade\n",
    "\n",
    "---"
   ]
  },
  {
   "cell_type": "markdown",
   "metadata": {},
   "source": [
    "# Modelo"
   ]
  },
  {
   "cell_type": "markdown",
   "metadata": {},
   "source": [
    "A área médica é uma área especialmente desafiadora para o uso de técnicas de Inteligência Artificial. Essas técnicas podem ser aplicadas na solução dos mais diversos problemas dentro desse contexto. Um dos problemas de grande interesse é identificação da recorrência ou não do câncer de mama. Desta forma, utilizando a base de dados [Breast Cancer Wisconsin (Prognostic) Data Set](http://archive.ics.uci.edu/ml/datasets/Breast+Cancer+Wisconsin+%28Prognostic%29), projetamos e implementamos SVMs que sejam capazes de prever estas recorrências, conforme o caso.\n",
    "\n",
    "Fizemos uma análise criteriosa dos dados, gerando gráficos que possam dar uma visão geral da base de dados. Os resultados da qualidade do modelos implementados foram explícitos nos *notebooks*, realizando diversos testes de qualidade. \n",
    "\n",
    "Sabendo disso, neste notebook descrevemos o funcionamento do modelo de Máquinas de Vetor e Suporte."
   ]
  },
  {
   "cell_type": "markdown",
   "metadata": {},
   "source": [
    "### Máquinas de Vetor e Suporte"
   ]
  },
  {
   "cell_type": "markdown",
   "metadata": {},
   "source": [
    "Máquinas de vetores de suporte (SVMs) são um conjunto de métodos de aprendizado supervisionado usados ​​para classificação , regressão e detecção de outliers. O SVM padrão toma como entrada um conjunto de dados e prediz, para cada entrada dada, qual de duas possíveis classes a entrada faz parte, o que faz do SVM um classificador linear binário não probabilístico.\n",
    "\n",
    "Um modelo SVM é uma representação de exemplos como pontos no espaço, mapeados de maneira que os exemplos de cada categoria sejam divididos por um espaço claro que seja tão amplo quanto possível. Os novos exemplos são então mapeados no mesmo espaço e preditos como pertencentes a uma categoria baseados em qual o lado do espaço eles são colocados.\n",
    "\n",
    "Em outras palavras, o que uma SVM faz é encontrar uma linha de separação, mais comumente chamada de hiperplano entre dados de duas classes.\n",
    "\n",
    "A distância entre o hiperplano e o primeiro ponto de cada classe costuma ser chamada de margem. A SVM coloca em primeiro lugar a classificação das classes, definindo assim cada ponto pertencente a cada uma das classes, e em seguida maximiza a margem. Ou seja, ela primeiro classifica as classes corretamente e depois em função dessa restrição define a distância entre as margens.\n",
    "\n",
    "As vantagens das máquinas de vetores de suporte são:\n",
    "\n",
    "* É eficaz em espaços de alta dimensão.\n",
    "* Ainda eficaz nos casos em que o número de dimensões é maior que o número de amostras.\n",
    "* Usa um subconjunto de pontos de treinamento na função de decisão (chamados vetores de suporte), portanto, também é eficiente em termos de memória.\n",
    "* Versátil: diferentes funções do Kernel podem ser especificadas para a função de decisão. Kernels comuns são fornecidos, mas também é possível especificar kernels personalizados.\n",
    "* Em caso de outlier a SVM busca a melhor forma possível de classificação e, se necessário, desconsidera o outlier;\n",
    "* Funciona muito bem em domínios complicados, em que existe uma clara margem de separação.\n",
    "\n",
    "As desvantagens das máquinas de vetor de suporte incluem:\n",
    "\n",
    "* Se o número de recursos for muito maior que o número de amostras, evite o overfitting na escolha das funções do Kernel e o termo de regularização é crucial;\n",
    "* Os SVMs não fornecem estimativas de probabilidade diretamente, elas são calculadas usando uma validação cruzada cara de cinco vezes (consulte Pontuações e probabilidades , abaixo);\n",
    "* Não funciona bem em conjuntos de dados muito grandes, pois exige inversão de matriz - aumentando a complexidade computacional com até o cubo do volume de dados;\n",
    "* Não funciona bem em conjunto de dados com grande quantidade de ruídos;\n",
    "* Se as classes estiverem muito sobrepostas deve-se utilizar apenas evidências independentes (devido ao fato de não ser muito bom com dados com muitos ruídos)."
   ]
  },
  {
   "cell_type": "markdown",
   "metadata": {},
   "source": [
    "Os modelos implementados foram criados com biblioteca **SciKit Learn**, os modulos utilizados foram descritos a seguir."
   ]
  },
  {
   "cell_type": "markdown",
   "metadata": {},
   "source": [
    "##### SVC (C-Support Vector Classification)"
   ]
  },
  {
   "cell_type": "markdown",
   "metadata": {},
   "source": [
    "A implementação é baseada em `libsvm`. O tempo de ajuste escala pelo menos quadraticamente com o número de amostras."
   ]
  },
  {
   "cell_type": "markdown",
   "metadata": {},
   "source": [
    "Funções de kernel disponíveis:\n",
    "\n",
    "* Linear (`linear`): $<x, x'>$\n",
    "\n",
    "* Polinomial (`poly`): $(\\gamma <x, x' > + r )^d $ , onde **d** é especificado por um parâmetro grau, e **r** por *coef0*.\n",
    "\n",
    "* RBF (`rbf`): $ exp( -\\gamma ||x - x'||^2)$, onde $\\gamma$ é especificado pelo parâmetro gama, de valor maior que 0.\n",
    "\n",
    "* Sigmoidal (`sigmoid`): $ \\tanh( \\gamma<x,x'> +r) $, onde **r** é especificado por *coef0*."
   ]
  },
  {
   "cell_type": "markdown",
   "metadata": {},
   "source": [
    "A SVC pode ser impraticável além de dezenas de milhares de amostras.\n",
    "\n",
    "Para grandes conjuntos de dados, pode-se considerar usar a LinearSVC, que também utilizamos para a criação dos modelos."
   ]
  },
  {
   "cell_type": "markdown",
   "metadata": {},
   "source": [
    "##### LinearSVC (Linear Support Vector Classification)"
   ]
  },
  {
   "cell_type": "markdown",
   "metadata": {},
   "source": [
    "Semelhante ao SVC com o parâmetro kernel='linear', mas implementado em termos de `liblinear` em vez de `libsvm`, por isso tem mais flexibilidade na escolha de penalidades e funções de perda e deve escalar melhor para um grande número de amostras."
   ]
  }
 ],
 "metadata": {
  "interpreter": {
   "hash": "816c4ca1a442304386b640facc7eeaee53f275019272c999ca11fec791461f00"
  },
  "kernelspec": {
   "display_name": "Python 3.10.2 64-bit",
   "language": "python",
   "name": "python3"
  },
  "language_info": {
   "codemirror_mode": {
    "name": "ipython",
    "version": 3
   },
   "file_extension": ".py",
   "mimetype": "text/x-python",
   "name": "python",
   "nbconvert_exporter": "python",
   "pygments_lexer": "ipython3",
   "version": "3.9.1"
  },
  "orig_nbformat": 4
 },
 "nbformat": 4,
 "nbformat_minor": 2
}
