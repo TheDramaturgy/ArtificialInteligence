{
 "cells": [
  {
   "cell_type": "markdown",
   "metadata": {},
   "source": [
    "# Solução para o problema"
   ]
  },
  {
   "cell_type": "markdown",
   "metadata": {},
   "source": [
    "Importamos a biblioteca **sklearn**, **pandas** e **graphviz**. Para lidar com as funções de busca em árvore de decisão, processamento de dados e visualização de árvores, respectivamente."
   ]
  },
  {
   "cell_type": "code",
   "execution_count": 1,
   "metadata": {},
   "outputs": [],
   "source": [
    "from sklearn import tree\n",
    "from sklearn.model_selection import train_test_split\n",
    "from sklearn import metrics\n",
    "from sklearn.datasets import load_iris\n",
    "import pandas\n",
    "import graphviz\n",
    "import matplotlib.pyplot as plt\n",
    "import seaborn"
   ]
  },
  {
   "cell_type": "markdown",
   "metadata": {},
   "source": [
    "### Separação de Parâmetros"
   ]
  },
  {
   "cell_type": "markdown",
   "metadata": {},
   "source": [
    "Utilizamos como base de dados a tabela resultante da análise exploratória, dividindo-a nas seguintes tabelas:\n",
    "\n",
    "* `*_fraud`: Apresenta todas as informações a serem analisadas sobre as operações em que ocorreram fraudes.\n",
    "* `*_non_fraud`: Apresenta todas as informações a serem analisadas sobre as operações em que **não** ocorreram fraudes.\n",
    "\n",
    "Ambas foram divididas em `x` e `y`, onde `y` é a tabela que possui somente o atributo-alvo `isFraud` de cada operação, para uma criação facilitada da árvore."
   ]
  },
  {
   "cell_type": "code",
   "execution_count": 2,
   "metadata": {},
   "outputs": [
    {
     "ename": "ParserError",
     "evalue": "Error tokenizing data. C error: Calling read(nbytes) on source failed. Try engine='python'.",
     "output_type": "error",
     "traceback": [
      "\u001b[1;31m---------------------------------------------------------------------------\u001b[0m",
      "\u001b[1;31mParserError\u001b[0m                               Traceback (most recent call last)",
      "\u001b[1;32md:\\Downloads\\Matérias\\IA\\Git\\ArtificialInteligence\\TrabalhoArvoreDecisao\\02_solucao.ipynb Cell 3'\u001b[0m in \u001b[0;36m<module>\u001b[1;34m\u001b[0m\n\u001b[1;32m----> <a href='vscode-notebook-cell:/d%3A/Downloads/Mat%C3%A9rias/IA/Git/ArtificialInteligence/TrabalhoArvoreDecisao/02_solucao.ipynb#ch0000002?line=0'>1</a>\u001b[0m data \u001b[39m=\u001b[39m pandas\u001b[39m.\u001b[39;49mread_csv(\u001b[39m'\u001b[39;49m\u001b[39mreduced_data.csv\u001b[39;49m\u001b[39m'\u001b[39;49m)\n\u001b[0;32m      <a href='vscode-notebook-cell:/d%3A/Downloads/Mat%C3%A9rias/IA/Git/ArtificialInteligence/TrabalhoArvoreDecisao/02_solucao.ipynb#ch0000002?line=1'>2</a>\u001b[0m feature_labels \u001b[39m=\u001b[39m [\u001b[39m'\u001b[39m\u001b[39mhasMerchantAccount\u001b[39m\u001b[39m'\u001b[39m, \u001b[39m'\u001b[39m\u001b[39msimplified_type\u001b[39m\u001b[39m'\u001b[39m, \u001b[39m'\u001b[39m\u001b[39mamount\u001b[39m\u001b[39m'\u001b[39m, \u001b[39m'\u001b[39m\u001b[39moldbalanceOrg\u001b[39m\u001b[39m'\u001b[39m, \n\u001b[0;32m      <a href='vscode-notebook-cell:/d%3A/Downloads/Mat%C3%A9rias/IA/Git/ArtificialInteligence/TrabalhoArvoreDecisao/02_solucao.ipynb#ch0000002?line=2'>3</a>\u001b[0m                   \u001b[39m'\u001b[39m\u001b[39mnewbalanceOrig\u001b[39m\u001b[39m'\u001b[39m, \u001b[39m'\u001b[39m\u001b[39moldbalanceDest\u001b[39m\u001b[39m'\u001b[39m, \u001b[39m'\u001b[39m\u001b[39mnewbalanceDest\u001b[39m\u001b[39m'\u001b[39m]\n\u001b[0;32m      <a href='vscode-notebook-cell:/d%3A/Downloads/Mat%C3%A9rias/IA/Git/ArtificialInteligence/TrabalhoArvoreDecisao/02_solucao.ipynb#ch0000002?line=4'>5</a>\u001b[0m fraud_transactions \u001b[39m=\u001b[39m data\u001b[39m.\u001b[39mloc[data[\u001b[39m'\u001b[39m\u001b[39misFraud\u001b[39m\u001b[39m'\u001b[39m] \u001b[39m==\u001b[39m \u001b[39m1\u001b[39m]\n",
      "File \u001b[1;32m~\\AppData\\Local\\Programs\\Python\\Python39\\lib\\site-packages\\pandas\\util\\_decorators.py:311\u001b[0m, in \u001b[0;36mdeprecate_nonkeyword_arguments.<locals>.decorate.<locals>.wrapper\u001b[1;34m(*args, **kwargs)\u001b[0m\n\u001b[0;32m    <a href='file:///~/AppData/Local/Programs/Python/Python39/lib/site-packages/pandas/util/_decorators.py?line=304'>305</a>\u001b[0m \u001b[39mif\u001b[39;00m \u001b[39mlen\u001b[39m(args) \u001b[39m>\u001b[39m num_allow_args:\n\u001b[0;32m    <a href='file:///~/AppData/Local/Programs/Python/Python39/lib/site-packages/pandas/util/_decorators.py?line=305'>306</a>\u001b[0m     warnings\u001b[39m.\u001b[39mwarn(\n\u001b[0;32m    <a href='file:///~/AppData/Local/Programs/Python/Python39/lib/site-packages/pandas/util/_decorators.py?line=306'>307</a>\u001b[0m         msg\u001b[39m.\u001b[39mformat(arguments\u001b[39m=\u001b[39marguments),\n\u001b[0;32m    <a href='file:///~/AppData/Local/Programs/Python/Python39/lib/site-packages/pandas/util/_decorators.py?line=307'>308</a>\u001b[0m         \u001b[39mFutureWarning\u001b[39;00m,\n\u001b[0;32m    <a href='file:///~/AppData/Local/Programs/Python/Python39/lib/site-packages/pandas/util/_decorators.py?line=308'>309</a>\u001b[0m         stacklevel\u001b[39m=\u001b[39mstacklevel,\n\u001b[0;32m    <a href='file:///~/AppData/Local/Programs/Python/Python39/lib/site-packages/pandas/util/_decorators.py?line=309'>310</a>\u001b[0m     )\n\u001b[1;32m--> <a href='file:///~/AppData/Local/Programs/Python/Python39/lib/site-packages/pandas/util/_decorators.py?line=310'>311</a>\u001b[0m \u001b[39mreturn\u001b[39;00m func(\u001b[39m*\u001b[39margs, \u001b[39m*\u001b[39m\u001b[39m*\u001b[39mkwargs)\n",
      "File \u001b[1;32m~\\AppData\\Local\\Programs\\Python\\Python39\\lib\\site-packages\\pandas\\io\\parsers\\readers.py:680\u001b[0m, in \u001b[0;36mread_csv\u001b[1;34m(filepath_or_buffer, sep, delimiter, header, names, index_col, usecols, squeeze, prefix, mangle_dupe_cols, dtype, engine, converters, true_values, false_values, skipinitialspace, skiprows, skipfooter, nrows, na_values, keep_default_na, na_filter, verbose, skip_blank_lines, parse_dates, infer_datetime_format, keep_date_col, date_parser, dayfirst, cache_dates, iterator, chunksize, compression, thousands, decimal, lineterminator, quotechar, quoting, doublequote, escapechar, comment, encoding, encoding_errors, dialect, error_bad_lines, warn_bad_lines, on_bad_lines, delim_whitespace, low_memory, memory_map, float_precision, storage_options)\u001b[0m\n\u001b[0;32m    <a href='file:///~/AppData/Local/Programs/Python/Python39/lib/site-packages/pandas/io/parsers/readers.py?line=664'>665</a>\u001b[0m kwds_defaults \u001b[39m=\u001b[39m _refine_defaults_read(\n\u001b[0;32m    <a href='file:///~/AppData/Local/Programs/Python/Python39/lib/site-packages/pandas/io/parsers/readers.py?line=665'>666</a>\u001b[0m     dialect,\n\u001b[0;32m    <a href='file:///~/AppData/Local/Programs/Python/Python39/lib/site-packages/pandas/io/parsers/readers.py?line=666'>667</a>\u001b[0m     delimiter,\n\u001b[1;32m   (...)\u001b[0m\n\u001b[0;32m    <a href='file:///~/AppData/Local/Programs/Python/Python39/lib/site-packages/pandas/io/parsers/readers.py?line=675'>676</a>\u001b[0m     defaults\u001b[39m=\u001b[39m{\u001b[39m\"\u001b[39m\u001b[39mdelimiter\u001b[39m\u001b[39m\"\u001b[39m: \u001b[39m\"\u001b[39m\u001b[39m,\u001b[39m\u001b[39m\"\u001b[39m},\n\u001b[0;32m    <a href='file:///~/AppData/Local/Programs/Python/Python39/lib/site-packages/pandas/io/parsers/readers.py?line=676'>677</a>\u001b[0m )\n\u001b[0;32m    <a href='file:///~/AppData/Local/Programs/Python/Python39/lib/site-packages/pandas/io/parsers/readers.py?line=677'>678</a>\u001b[0m kwds\u001b[39m.\u001b[39mupdate(kwds_defaults)\n\u001b[1;32m--> <a href='file:///~/AppData/Local/Programs/Python/Python39/lib/site-packages/pandas/io/parsers/readers.py?line=679'>680</a>\u001b[0m \u001b[39mreturn\u001b[39;00m _read(filepath_or_buffer, kwds)\n",
      "File \u001b[1;32m~\\AppData\\Local\\Programs\\Python\\Python39\\lib\\site-packages\\pandas\\io\\parsers\\readers.py:581\u001b[0m, in \u001b[0;36m_read\u001b[1;34m(filepath_or_buffer, kwds)\u001b[0m\n\u001b[0;32m    <a href='file:///~/AppData/Local/Programs/Python/Python39/lib/site-packages/pandas/io/parsers/readers.py?line=577'>578</a>\u001b[0m     \u001b[39mreturn\u001b[39;00m parser\n\u001b[0;32m    <a href='file:///~/AppData/Local/Programs/Python/Python39/lib/site-packages/pandas/io/parsers/readers.py?line=579'>580</a>\u001b[0m \u001b[39mwith\u001b[39;00m parser:\n\u001b[1;32m--> <a href='file:///~/AppData/Local/Programs/Python/Python39/lib/site-packages/pandas/io/parsers/readers.py?line=580'>581</a>\u001b[0m     \u001b[39mreturn\u001b[39;00m parser\u001b[39m.\u001b[39;49mread(nrows)\n",
      "File \u001b[1;32m~\\AppData\\Local\\Programs\\Python\\Python39\\lib\\site-packages\\pandas\\io\\parsers\\readers.py:1250\u001b[0m, in \u001b[0;36mTextFileReader.read\u001b[1;34m(self, nrows)\u001b[0m\n\u001b[0;32m   <a href='file:///~/AppData/Local/Programs/Python/Python39/lib/site-packages/pandas/io/parsers/readers.py?line=1247'>1248</a>\u001b[0m nrows \u001b[39m=\u001b[39m validate_integer(\u001b[39m\"\u001b[39m\u001b[39mnrows\u001b[39m\u001b[39m\"\u001b[39m, nrows)\n\u001b[0;32m   <a href='file:///~/AppData/Local/Programs/Python/Python39/lib/site-packages/pandas/io/parsers/readers.py?line=1248'>1249</a>\u001b[0m \u001b[39mtry\u001b[39;00m:\n\u001b[1;32m-> <a href='file:///~/AppData/Local/Programs/Python/Python39/lib/site-packages/pandas/io/parsers/readers.py?line=1249'>1250</a>\u001b[0m     index, columns, col_dict \u001b[39m=\u001b[39m \u001b[39mself\u001b[39;49m\u001b[39m.\u001b[39;49m_engine\u001b[39m.\u001b[39;49mread(nrows)\n\u001b[0;32m   <a href='file:///~/AppData/Local/Programs/Python/Python39/lib/site-packages/pandas/io/parsers/readers.py?line=1250'>1251</a>\u001b[0m \u001b[39mexcept\u001b[39;00m \u001b[39mException\u001b[39;00m:\n\u001b[0;32m   <a href='file:///~/AppData/Local/Programs/Python/Python39/lib/site-packages/pandas/io/parsers/readers.py?line=1251'>1252</a>\u001b[0m     \u001b[39mself\u001b[39m\u001b[39m.\u001b[39mclose()\n",
      "File \u001b[1;32m~\\AppData\\Local\\Programs\\Python\\Python39\\lib\\site-packages\\pandas\\io\\parsers\\c_parser_wrapper.py:225\u001b[0m, in \u001b[0;36mCParserWrapper.read\u001b[1;34m(self, nrows)\u001b[0m\n\u001b[0;32m    <a href='file:///~/AppData/Local/Programs/Python/Python39/lib/site-packages/pandas/io/parsers/c_parser_wrapper.py?line=222'>223</a>\u001b[0m \u001b[39mtry\u001b[39;00m:\n\u001b[0;32m    <a href='file:///~/AppData/Local/Programs/Python/Python39/lib/site-packages/pandas/io/parsers/c_parser_wrapper.py?line=223'>224</a>\u001b[0m     \u001b[39mif\u001b[39;00m \u001b[39mself\u001b[39m\u001b[39m.\u001b[39mlow_memory:\n\u001b[1;32m--> <a href='file:///~/AppData/Local/Programs/Python/Python39/lib/site-packages/pandas/io/parsers/c_parser_wrapper.py?line=224'>225</a>\u001b[0m         chunks \u001b[39m=\u001b[39m \u001b[39mself\u001b[39;49m\u001b[39m.\u001b[39;49m_reader\u001b[39m.\u001b[39;49mread_low_memory(nrows)\n\u001b[0;32m    <a href='file:///~/AppData/Local/Programs/Python/Python39/lib/site-packages/pandas/io/parsers/c_parser_wrapper.py?line=225'>226</a>\u001b[0m         \u001b[39m# destructive to chunks\u001b[39;00m\n\u001b[0;32m    <a href='file:///~/AppData/Local/Programs/Python/Python39/lib/site-packages/pandas/io/parsers/c_parser_wrapper.py?line=226'>227</a>\u001b[0m         data \u001b[39m=\u001b[39m _concatenate_chunks(chunks)\n",
      "File \u001b[1;32m~\\AppData\\Local\\Programs\\Python\\Python39\\lib\\site-packages\\pandas\\_libs\\parsers.pyx:805\u001b[0m, in \u001b[0;36mpandas._libs.parsers.TextReader.read_low_memory\u001b[1;34m()\u001b[0m\n",
      "File \u001b[1;32m~\\AppData\\Local\\Programs\\Python\\Python39\\lib\\site-packages\\pandas\\_libs\\parsers.pyx:861\u001b[0m, in \u001b[0;36mpandas._libs.parsers.TextReader._read_rows\u001b[1;34m()\u001b[0m\n",
      "File \u001b[1;32m~\\AppData\\Local\\Programs\\Python\\Python39\\lib\\site-packages\\pandas\\_libs\\parsers.pyx:847\u001b[0m, in \u001b[0;36mpandas._libs.parsers.TextReader._tokenize_rows\u001b[1;34m()\u001b[0m\n",
      "File \u001b[1;32m~\\AppData\\Local\\Programs\\Python\\Python39\\lib\\site-packages\\pandas\\_libs\\parsers.pyx:1960\u001b[0m, in \u001b[0;36mpandas._libs.parsers.raise_parser_error\u001b[1;34m()\u001b[0m\n",
      "\u001b[1;31mParserError\u001b[0m: Error tokenizing data. C error: Calling read(nbytes) on source failed. Try engine='python'."
     ]
    }
   ],
   "source": [
    "data = pandas.read_csv('reduced_data.csv')\n",
    "feature_labels = ['hasMerchantAccount', 'simplified_type', 'amount', 'oldbalanceOrg', \n",
    "                  'newbalanceOrig', 'oldbalanceDest', 'newbalanceDest']\n",
    "\n",
    "fraud_transactions = data.loc[data['isFraud'] == 1]\n",
    "x_fraud = fraud_transactions[feature_labels]\n",
    "y_fraud = fraud_transactions['isFraud']\n",
    "\n",
    "non_fraud_transactions = data.loc[data['isFraud'] == 0]\n",
    "x_non_fraud = non_fraud_transactions[feature_labels]\n",
    "y_non_fraud = non_fraud_transactions['isFraud']"
   ]
  },
  {
   "cell_type": "code",
   "execution_count": null,
   "metadata": {},
   "outputs": [
    {
     "name": "stdout",
     "output_type": "stream",
     "text": [
      "8213\n",
      "6354407\n"
     ]
    }
   ],
   "source": [
    "print(len(x_fraud))\n",
    "print(len(x_non_fraud))"
   ]
  },
  {
   "cell_type": "markdown",
   "metadata": {},
   "source": [
    "### Espaço de Treinamento e Espaço de Testes"
   ]
  },
  {
   "cell_type": "markdown",
   "metadata": {},
   "source": [
    "Para o espaço de treinamento, decidimos atribuir de forma proporcinal a quantidade de fraudes e não fraudes.\n",
    "\n",
    "Desta forma, permitimos que a árvore identifique as diferentes casos possíveis para ambos os resultados, evitando o **sobreajuste**.\n",
    "\n",
    "Reduzimos o espaço de amostras nas tabelas `*_train`, para realizar o treinamento da árvore, e `*_non_fraud_test_`, para receber o resto do espaço como casos de testes:"
   ]
  },
  {
   "cell_type": "code",
   "execution_count": null,
   "metadata": {},
   "outputs": [],
   "source": [
    "# Utilizando 8000 casos (4000 fraudes e 4000 não fraudes)\n",
    "\n",
    "x_train = pandas.concat([x_fraud[:4000], x_non_fraud[:4000]])\n",
    "y_train = pandas.concat([y_fraud[:4000], y_non_fraud[:4000]])\n",
    "\n",
    "# Separando os casos não utilizados no treinamento para realização de testes\n",
    "\n",
    "x_fraud_test = x_fraud[4000:]\n",
    "y_fraud_test = y_fraud[4000:]\n",
    "x_non_fraud_test = x_non_fraud[4000:]\n",
    "y_non_fraud_test = y_non_fraud[4000:]"
   ]
  },
  {
   "cell_type": "markdown",
   "metadata": {},
   "source": [
    "### Criação da Árvore de Decisão"
   ]
  },
  {
   "cell_type": "markdown",
   "metadata": {},
   "source": [
    "Para a criação da árvore, foi definido como critério a **entropia** dos dados e a **especificação de profundidade**, realizando de forma prática a poda da árvore de decisão."
   ]
  },
  {
   "cell_type": "code",
   "execution_count": null,
   "metadata": {},
   "outputs": [],
   "source": [
    "clf = tree.DecisionTreeClassifier(criterion='entropy', max_depth=4)\n",
    "clf = clf.fit(x_train, y_train)\n",
    "\n",
    "y_fraud_prediction     = clf.predict(x_fraud_test)\n",
    "y_non_fraud_prediction = clf.predict(x_non_fraud_test)"
   ]
  },
  {
   "cell_type": "markdown",
   "metadata": {},
   "source": [
    "Avaliando a acurácia da árvore de decisão criada:"
   ]
  },
  {
   "cell_type": "code",
   "execution_count": null,
   "metadata": {},
   "outputs": [
    {
     "name": "stdout",
     "output_type": "stream",
     "text": [
      "Acurácia para casos com fraude:  1.0\n",
      "Acurácia para casos sem fraude:  0.8027756331208378\n"
     ]
    }
   ],
   "source": [
    "print('Acurácia para casos com fraude: ', metrics.accuracy_score(y_fraud_test, y_fraud_prediction))\n",
    "print('Acurácia para casos sem fraude: ', metrics.accuracy_score(y_non_fraud_test, y_non_fraud_prediction))"
   ]
  },
  {
   "cell_type": "markdown",
   "metadata": {},
   "source": [
    "Representamos como exemplo de resultado a árvore de decisão abaixo:"
   ]
  },
  {
   "cell_type": "code",
   "execution_count": null,
   "metadata": {},
   "outputs": [
    {
     "data": {
      "image/svg+xml": "<?xml version=\"1.0\" encoding=\"UTF-8\" standalone=\"no\"?>\n<!DOCTYPE svg PUBLIC \"-//W3C//DTD SVG 1.1//EN\"\n \"http://www.w3.org/Graphics/SVG/1.1/DTD/svg11.dtd\">\n<!-- Generated by graphviz version 2.50.0 (20211204.2007)\n -->\n<!-- Title: Tree Pages: 1 -->\n<svg width=\"1090pt\" height=\"552pt\"\n viewBox=\"0.00 0.00 1090.00 552.00\" xmlns=\"http://www.w3.org/2000/svg\" xmlns:xlink=\"http://www.w3.org/1999/xlink\">\n<g id=\"graph0\" class=\"graph\" transform=\"scale(1 1) rotate(0) translate(4 548)\">\n<title>Tree</title>\n<polygon fill=\"white\" stroke=\"transparent\" points=\"-4,4 -4,-548 1086,-548 1086,4 -4,4\"/>\n<!-- 0 -->\n<g id=\"node1\" class=\"node\">\n<title>0</title>\n<path fill=\"#ffffff\" stroke=\"black\" d=\"M460,-544C460,-544 336,-544 336,-544 330,-544 324,-538 324,-532 324,-532 324,-473 324,-473 324,-467 330,-461 336,-461 336,-461 460,-461 460,-461 466,-461 472,-467 472,-473 472,-473 472,-532 472,-532 472,-538 466,-544 460,-544\"/>\n<text text-anchor=\"start\" x=\"332\" y=\"-528.8\" font-family=\"Helvetica,sans-Serif\" font-size=\"14.00\">simplified_type ≤ 0.5</text>\n<text text-anchor=\"start\" x=\"356\" y=\"-513.8\" font-family=\"Helvetica,sans-Serif\" font-size=\"14.00\">entropy = 1.0</text>\n<text text-anchor=\"start\" x=\"346.5\" y=\"-498.8\" font-family=\"Helvetica,sans-Serif\" font-size=\"14.00\">samples = 8000</text>\n<text text-anchor=\"start\" x=\"333\" y=\"-483.8\" font-family=\"Helvetica,sans-Serif\" font-size=\"14.00\">value = [4000, 4000]</text>\n<text text-anchor=\"start\" x=\"343.5\" y=\"-468.8\" font-family=\"Helvetica,sans-Serif\" font-size=\"14.00\">class = not_fraud</text>\n</g>\n<!-- 1 -->\n<g id=\"node2\" class=\"node\">\n<title>1</title>\n<path fill=\"#e58139\" stroke=\"black\" d=\"M363.5,-417.5C363.5,-417.5 262.5,-417.5 262.5,-417.5 256.5,-417.5 250.5,-411.5 250.5,-405.5 250.5,-405.5 250.5,-361.5 250.5,-361.5 250.5,-355.5 256.5,-349.5 262.5,-349.5 262.5,-349.5 363.5,-349.5 363.5,-349.5 369.5,-349.5 375.5,-355.5 375.5,-361.5 375.5,-361.5 375.5,-405.5 375.5,-405.5 375.5,-411.5 369.5,-417.5 363.5,-417.5\"/>\n<text text-anchor=\"start\" x=\"271\" y=\"-402.3\" font-family=\"Helvetica,sans-Serif\" font-size=\"14.00\">entropy = 0.0</text>\n<text text-anchor=\"start\" x=\"261.5\" y=\"-387.3\" font-family=\"Helvetica,sans-Serif\" font-size=\"14.00\">samples = 3151</text>\n<text text-anchor=\"start\" x=\"260\" y=\"-372.3\" font-family=\"Helvetica,sans-Serif\" font-size=\"14.00\">value = [3151, 0]</text>\n<text text-anchor=\"start\" x=\"258.5\" y=\"-357.3\" font-family=\"Helvetica,sans-Serif\" font-size=\"14.00\">class = not_fraud</text>\n</g>\n<!-- 0&#45;&gt;1 -->\n<g id=\"edge1\" class=\"edge\">\n<title>0&#45;&gt;1</title>\n<path fill=\"none\" stroke=\"black\" d=\"M368.51,-460.91C360.25,-449.54 351.27,-437.18 342.99,-425.77\"/>\n<polygon fill=\"black\" stroke=\"black\" points=\"345.8,-423.7 337.1,-417.67 340.14,-427.81 345.8,-423.7\"/>\n<text text-anchor=\"middle\" x=\"333.18\" y=\"-438.66\" font-family=\"Helvetica,sans-Serif\" font-size=\"14.00\">True</text>\n</g>\n<!-- 2 -->\n<g id=\"node3\" class=\"node\">\n<title>2</title>\n<path fill=\"#63b2eb\" stroke=\"black\" d=\"M560,-425C560,-425 406,-425 406,-425 400,-425 394,-419 394,-413 394,-413 394,-354 394,-354 394,-348 400,-342 406,-342 406,-342 560,-342 560,-342 566,-342 572,-348 572,-354 572,-354 572,-413 572,-413 572,-419 566,-425 560,-425\"/>\n<text text-anchor=\"start\" x=\"402\" y=\"-409.8\" font-family=\"Helvetica,sans-Serif\" font-size=\"14.00\">oldbalanceOrg ≤ 142.495</text>\n<text text-anchor=\"start\" x=\"433\" y=\"-394.8\" font-family=\"Helvetica,sans-Serif\" font-size=\"14.00\">entropy = 0.669</text>\n<text text-anchor=\"start\" x=\"431.5\" y=\"-379.8\" font-family=\"Helvetica,sans-Serif\" font-size=\"14.00\">samples = 4849</text>\n<text text-anchor=\"start\" x=\"422\" y=\"-364.8\" font-family=\"Helvetica,sans-Serif\" font-size=\"14.00\">value = [849, 4000]</text>\n<text text-anchor=\"start\" x=\"442\" y=\"-349.8\" font-family=\"Helvetica,sans-Serif\" font-size=\"14.00\">class = fraud</text>\n</g>\n<!-- 0&#45;&gt;2 -->\n<g id=\"edge2\" class=\"edge\">\n<title>0&#45;&gt;2</title>\n<path fill=\"none\" stroke=\"black\" d=\"M427.49,-460.91C433.95,-452.01 440.86,-442.51 447.52,-433.33\"/>\n<polygon fill=\"black\" stroke=\"black\" points=\"450.52,-435.17 453.56,-425.02 444.85,-431.05 450.52,-435.17\"/>\n<text text-anchor=\"middle\" x=\"457.47\" y=\"-446.01\" font-family=\"Helvetica,sans-Serif\" font-size=\"14.00\">False</text>\n</g>\n<!-- 3 -->\n<g id=\"node4\" class=\"node\">\n<title>3</title>\n<path fill=\"#e78845\" stroke=\"black\" d=\"M461,-306C461,-306 309,-306 309,-306 303,-306 297,-300 297,-294 297,-294 297,-235 297,-235 297,-229 303,-223 309,-223 309,-223 461,-223 461,-223 467,-223 473,-229 473,-235 473,-235 473,-294 473,-294 473,-300 467,-306 461,-306\"/>\n<text text-anchor=\"start\" x=\"305\" y=\"-290.8\" font-family=\"Helvetica,sans-Serif\" font-size=\"14.00\">oldbalanceDest ≤ 3887.0</text>\n<text text-anchor=\"start\" x=\"335\" y=\"-275.8\" font-family=\"Helvetica,sans-Serif\" font-size=\"14.00\">entropy = 0.309</text>\n<text text-anchor=\"start\" x=\"337.5\" y=\"-260.8\" font-family=\"Helvetica,sans-Serif\" font-size=\"14.00\">samples = 577</text>\n<text text-anchor=\"start\" x=\"332\" y=\"-245.8\" font-family=\"Helvetica,sans-Serif\" font-size=\"14.00\">value = [545, 32]</text>\n<text text-anchor=\"start\" x=\"330.5\" y=\"-230.8\" font-family=\"Helvetica,sans-Serif\" font-size=\"14.00\">class = not_fraud</text>\n</g>\n<!-- 2&#45;&gt;3 -->\n<g id=\"edge3\" class=\"edge\">\n<title>2&#45;&gt;3</title>\n<path fill=\"none\" stroke=\"black\" d=\"M449,-341.91C441.4,-332.83 433.26,-323.12 425.43,-313.77\"/>\n<polygon fill=\"black\" stroke=\"black\" points=\"428.04,-311.44 418.94,-306.02 422.68,-315.93 428.04,-311.44\"/>\n</g>\n<!-- 10 -->\n<g id=\"node11\" class=\"node\">\n<title>10</title>\n<path fill=\"#48a5e7\" stroke=\"black\" d=\"M695.5,-306C695.5,-306 560.5,-306 560.5,-306 554.5,-306 548.5,-300 548.5,-294 548.5,-294 548.5,-235 548.5,-235 548.5,-229 554.5,-223 560.5,-223 560.5,-223 695.5,-223 695.5,-223 701.5,-223 707.5,-229 707.5,-235 707.5,-235 707.5,-294 707.5,-294 707.5,-300 701.5,-306 695.5,-306\"/>\n<text text-anchor=\"start\" x=\"556.5\" y=\"-290.8\" font-family=\"Helvetica,sans-Serif\" font-size=\"14.00\">oldbalanceDest ≤ 27.5</text>\n<text text-anchor=\"start\" x=\"582\" y=\"-275.8\" font-family=\"Helvetica,sans-Serif\" font-size=\"14.00\">entropy = 0.37</text>\n<text text-anchor=\"start\" x=\"576.5\" y=\"-260.8\" font-family=\"Helvetica,sans-Serif\" font-size=\"14.00\">samples = 4272</text>\n<text text-anchor=\"start\" x=\"567\" y=\"-245.8\" font-family=\"Helvetica,sans-Serif\" font-size=\"14.00\">value = [304, 3968]</text>\n<text text-anchor=\"start\" x=\"587\" y=\"-230.8\" font-family=\"Helvetica,sans-Serif\" font-size=\"14.00\">class = fraud</text>\n</g>\n<!-- 2&#45;&gt;10 -->\n<g id=\"edge10\" class=\"edge\">\n<title>2&#45;&gt;10</title>\n<path fill=\"none\" stroke=\"black\" d=\"M533.31,-341.91C545.12,-332.38 557.79,-322.15 569.91,-312.37\"/>\n<polygon fill=\"black\" stroke=\"black\" points=\"572.2,-315.02 577.78,-306.02 567.8,-309.58 572.2,-315.02\"/>\n</g>\n<!-- 4 -->\n<g id=\"node5\" class=\"node\">\n<title>4</title>\n<path fill=\"#68b4eb\" stroke=\"black\" d=\"M282.5,-187C282.5,-187 91.5,-187 91.5,-187 85.5,-187 79.5,-181 79.5,-175 79.5,-175 79.5,-116 79.5,-116 79.5,-110 85.5,-104 91.5,-104 91.5,-104 282.5,-104 282.5,-104 288.5,-104 294.5,-110 294.5,-116 294.5,-116 294.5,-175 294.5,-175 294.5,-181 288.5,-187 282.5,-187\"/>\n<text text-anchor=\"start\" x=\"87.5\" y=\"-171.8\" font-family=\"Helvetica,sans-Serif\" font-size=\"14.00\">newbalanceDest ≤ 204395.641</text>\n<text text-anchor=\"start\" x=\"137\" y=\"-156.8\" font-family=\"Helvetica,sans-Serif\" font-size=\"14.00\">entropy = 0.702</text>\n<text text-anchor=\"start\" x=\"143.5\" y=\"-141.8\" font-family=\"Helvetica,sans-Serif\" font-size=\"14.00\">samples = 21</text>\n<text text-anchor=\"start\" x=\"142.5\" y=\"-126.8\" font-family=\"Helvetica,sans-Serif\" font-size=\"14.00\">value = [4, 17]</text>\n<text text-anchor=\"start\" x=\"146\" y=\"-111.8\" font-family=\"Helvetica,sans-Serif\" font-size=\"14.00\">class = fraud</text>\n</g>\n<!-- 3&#45;&gt;4 -->\n<g id=\"edge4\" class=\"edge\">\n<title>3&#45;&gt;4</title>\n<path fill=\"none\" stroke=\"black\" d=\"M316.3,-222.91C299.56,-213.02 281.55,-202.37 264.43,-192.25\"/>\n<polygon fill=\"black\" stroke=\"black\" points=\"265.96,-189.09 255.57,-187.02 262.4,-195.12 265.96,-189.09\"/>\n</g>\n<!-- 7 -->\n<g id=\"node8\" class=\"node\">\n<title>7</title>\n<path fill=\"#e6843e\" stroke=\"black\" d=\"M435.5,-187C435.5,-187 334.5,-187 334.5,-187 328.5,-187 322.5,-181 322.5,-175 322.5,-175 322.5,-116 322.5,-116 322.5,-110 328.5,-104 334.5,-104 334.5,-104 435.5,-104 435.5,-104 441.5,-104 447.5,-110 447.5,-116 447.5,-116 447.5,-175 447.5,-175 447.5,-181 441.5,-187 435.5,-187\"/>\n<text text-anchor=\"start\" x=\"335.5\" y=\"-171.8\" font-family=\"Helvetica,sans-Serif\" font-size=\"14.00\">amount ≤ 356.2</text>\n<text text-anchor=\"start\" x=\"335\" y=\"-156.8\" font-family=\"Helvetica,sans-Serif\" font-size=\"14.00\">entropy = 0.179</text>\n<text text-anchor=\"start\" x=\"337.5\" y=\"-141.8\" font-family=\"Helvetica,sans-Serif\" font-size=\"14.00\">samples = 556</text>\n<text text-anchor=\"start\" x=\"332\" y=\"-126.8\" font-family=\"Helvetica,sans-Serif\" font-size=\"14.00\">value = [541, 15]</text>\n<text text-anchor=\"start\" x=\"330.5\" y=\"-111.8\" font-family=\"Helvetica,sans-Serif\" font-size=\"14.00\">class = not_fraud</text>\n</g>\n<!-- 3&#45;&gt;7 -->\n<g id=\"edge7\" class=\"edge\">\n<title>3&#45;&gt;7</title>\n<path fill=\"none\" stroke=\"black\" d=\"M385,-222.91C385,-214.65 385,-205.86 385,-197.3\"/>\n<polygon fill=\"black\" stroke=\"black\" points=\"388.5,-197.02 385,-187.02 381.5,-197.02 388.5,-197.02\"/>\n</g>\n<!-- 5 -->\n<g id=\"node6\" class=\"node\">\n<title>5</title>\n<path fill=\"#aad5f4\" stroke=\"black\" d=\"M104,-68C104,-68 12,-68 12,-68 6,-68 0,-62 0,-56 0,-56 0,-12 0,-12 0,-6 6,0 12,0 12,0 104,0 104,0 110,0 116,-6 116,-12 116,-12 116,-56 116,-56 116,-62 110,-68 104,-68\"/>\n<text text-anchor=\"start\" x=\"8\" y=\"-52.8\" font-family=\"Helvetica,sans-Serif\" font-size=\"14.00\">entropy = 0.946</text>\n<text text-anchor=\"start\" x=\"14.5\" y=\"-37.8\" font-family=\"Helvetica,sans-Serif\" font-size=\"14.00\">samples = 11</text>\n<text text-anchor=\"start\" x=\"17.5\" y=\"-22.8\" font-family=\"Helvetica,sans-Serif\" font-size=\"14.00\">value = [4, 7]</text>\n<text text-anchor=\"start\" x=\"17\" y=\"-7.8\" font-family=\"Helvetica,sans-Serif\" font-size=\"14.00\">class = fraud</text>\n</g>\n<!-- 4&#45;&gt;5 -->\n<g id=\"edge5\" class=\"edge\">\n<title>4&#45;&gt;5</title>\n<path fill=\"none\" stroke=\"black\" d=\"M138.97,-103.73C127.9,-94.33 116.14,-84.35 105.11,-74.99\"/>\n<polygon fill=\"black\" stroke=\"black\" points=\"107.12,-72.1 97.23,-68.3 102.59,-77.44 107.12,-72.1\"/>\n</g>\n<!-- 6 -->\n<g id=\"node7\" class=\"node\">\n<title>6</title>\n<path fill=\"#399de5\" stroke=\"black\" d=\"M227.5,-68C227.5,-68 146.5,-68 146.5,-68 140.5,-68 134.5,-62 134.5,-56 134.5,-56 134.5,-12 134.5,-12 134.5,-6 140.5,0 146.5,0 146.5,0 227.5,0 227.5,0 233.5,0 239.5,-6 239.5,-12 239.5,-12 239.5,-56 239.5,-56 239.5,-62 233.5,-68 227.5,-68\"/>\n<text text-anchor=\"start\" x=\"145\" y=\"-52.8\" font-family=\"Helvetica,sans-Serif\" font-size=\"14.00\">entropy = 0.0</text>\n<text text-anchor=\"start\" x=\"143.5\" y=\"-37.8\" font-family=\"Helvetica,sans-Serif\" font-size=\"14.00\">samples = 10</text>\n<text text-anchor=\"start\" x=\"142.5\" y=\"-22.8\" font-family=\"Helvetica,sans-Serif\" font-size=\"14.00\">value = [0, 10]</text>\n<text text-anchor=\"start\" x=\"146\" y=\"-7.8\" font-family=\"Helvetica,sans-Serif\" font-size=\"14.00\">class = fraud</text>\n</g>\n<!-- 4&#45;&gt;6 -->\n<g id=\"edge6\" class=\"edge\">\n<title>4&#45;&gt;6</title>\n<path fill=\"none\" stroke=\"black\" d=\"M187,-103.73C187,-95.52 187,-86.86 187,-78.56\"/>\n<polygon fill=\"black\" stroke=\"black\" points=\"190.5,-78.3 187,-68.3 183.5,-78.3 190.5,-78.3\"/>\n</g>\n<!-- 8 -->\n<g id=\"node9\" class=\"node\">\n<title>8</title>\n<path fill=\"#399de5\" stroke=\"black\" d=\"M346,-68C346,-68 270,-68 270,-68 264,-68 258,-62 258,-56 258,-56 258,-12 258,-12 258,-6 264,0 270,0 270,0 346,0 346,0 352,0 358,-6 358,-12 358,-12 358,-56 358,-56 358,-62 352,-68 346,-68\"/>\n<text text-anchor=\"start\" x=\"266\" y=\"-52.8\" font-family=\"Helvetica,sans-Serif\" font-size=\"14.00\">entropy = 0.0</text>\n<text text-anchor=\"start\" x=\"268.5\" y=\"-37.8\" font-family=\"Helvetica,sans-Serif\" font-size=\"14.00\">samples = 2</text>\n<text text-anchor=\"start\" x=\"267.5\" y=\"-22.8\" font-family=\"Helvetica,sans-Serif\" font-size=\"14.00\">value = [0, 2]</text>\n<text text-anchor=\"start\" x=\"267\" y=\"-7.8\" font-family=\"Helvetica,sans-Serif\" font-size=\"14.00\">class = fraud</text>\n</g>\n<!-- 7&#45;&gt;8 -->\n<g id=\"edge8\" class=\"edge\">\n<title>7&#45;&gt;8</title>\n<path fill=\"none\" stroke=\"black\" d=\"M356.33,-103.73C350.11,-94.88 343.52,-85.51 337.27,-76.63\"/>\n<polygon fill=\"black\" stroke=\"black\" points=\"340.03,-74.47 331.42,-68.3 334.31,-78.49 340.03,-74.47\"/>\n</g>\n<!-- 9 -->\n<g id=\"node10\" class=\"node\">\n<title>9</title>\n<path fill=\"#e6843e\" stroke=\"black\" d=\"M489.5,-68C489.5,-68 388.5,-68 388.5,-68 382.5,-68 376.5,-62 376.5,-56 376.5,-56 376.5,-12 376.5,-12 376.5,-6 382.5,0 388.5,0 388.5,0 489.5,0 489.5,0 495.5,0 501.5,-6 501.5,-12 501.5,-12 501.5,-56 501.5,-56 501.5,-62 495.5,-68 489.5,-68\"/>\n<text text-anchor=\"start\" x=\"393\" y=\"-52.8\" font-family=\"Helvetica,sans-Serif\" font-size=\"14.00\">entropy = 0.16</text>\n<text text-anchor=\"start\" x=\"391.5\" y=\"-37.8\" font-family=\"Helvetica,sans-Serif\" font-size=\"14.00\">samples = 554</text>\n<text text-anchor=\"start\" x=\"386\" y=\"-22.8\" font-family=\"Helvetica,sans-Serif\" font-size=\"14.00\">value = [541, 13]</text>\n<text text-anchor=\"start\" x=\"384.5\" y=\"-7.8\" font-family=\"Helvetica,sans-Serif\" font-size=\"14.00\">class = not_fraud</text>\n</g>\n<!-- 7&#45;&gt;9 -->\n<g id=\"edge9\" class=\"edge\">\n<title>7&#45;&gt;9</title>\n<path fill=\"none\" stroke=\"black\" d=\"M405.11,-103.73C409.34,-95.15 413.81,-86.09 418.06,-77.46\"/>\n<polygon fill=\"black\" stroke=\"black\" points=\"421.29,-78.82 422.58,-68.3 415.02,-75.72 421.29,-78.82\"/>\n</g>\n<!-- 11 -->\n<g id=\"node12\" class=\"node\">\n<title>11</title>\n<path fill=\"#3c9ee5\" stroke=\"black\" d=\"M711,-187C711,-187 545,-187 545,-187 539,-187 533,-181 533,-175 533,-175 533,-116 533,-116 533,-110 539,-104 545,-104 545,-104 711,-104 711,-104 717,-104 723,-110 723,-116 723,-116 723,-175 723,-175 723,-181 717,-187 711,-187\"/>\n<text text-anchor=\"start\" x=\"541\" y=\"-171.8\" font-family=\"Helvetica,sans-Serif\" font-size=\"14.00\">newbalanceDest ≤ 2420.05</text>\n<text text-anchor=\"start\" x=\"578\" y=\"-156.8\" font-family=\"Helvetica,sans-Serif\" font-size=\"14.00\">entropy = 0.098</text>\n<text text-anchor=\"start\" x=\"576.5\" y=\"-141.8\" font-family=\"Helvetica,sans-Serif\" font-size=\"14.00\">samples = 2607</text>\n<text text-anchor=\"start\" x=\"571\" y=\"-126.8\" font-family=\"Helvetica,sans-Serif\" font-size=\"14.00\">value = [33, 2574]</text>\n<text text-anchor=\"start\" x=\"587\" y=\"-111.8\" font-family=\"Helvetica,sans-Serif\" font-size=\"14.00\">class = fraud</text>\n</g>\n<!-- 10&#45;&gt;11 -->\n<g id=\"edge11\" class=\"edge\">\n<title>10&#45;&gt;11</title>\n<path fill=\"none\" stroke=\"black\" d=\"M628,-222.91C628,-214.65 628,-205.86 628,-197.3\"/>\n<polygon fill=\"black\" stroke=\"black\" points=\"631.5,-197.02 628,-187.02 624.5,-197.02 631.5,-197.02\"/>\n</g>\n<!-- 14 -->\n<g id=\"node15\" class=\"node\">\n<title>14</title>\n<path fill=\"#5fb0ea\" stroke=\"black\" d=\"M925,-187C925,-187 801,-187 801,-187 795,-187 789,-181 789,-175 789,-175 789,-116 789,-116 789,-110 795,-104 801,-104 801,-104 925,-104 925,-104 931,-104 937,-110 937,-116 937,-116 937,-175 937,-175 937,-181 931,-187 925,-187\"/>\n<text text-anchor=\"start\" x=\"797\" y=\"-171.8\" font-family=\"Helvetica,sans-Serif\" font-size=\"14.00\">simplified_type ≤ 1.5</text>\n<text text-anchor=\"start\" x=\"813\" y=\"-156.8\" font-family=\"Helvetica,sans-Serif\" font-size=\"14.00\">entropy = 0.641</text>\n<text text-anchor=\"start\" x=\"811.5\" y=\"-141.8\" font-family=\"Helvetica,sans-Serif\" font-size=\"14.00\">samples = 1665</text>\n<text text-anchor=\"start\" x=\"802\" y=\"-126.8\" font-family=\"Helvetica,sans-Serif\" font-size=\"14.00\">value = [271, 1394]</text>\n<text text-anchor=\"start\" x=\"822\" y=\"-111.8\" font-family=\"Helvetica,sans-Serif\" font-size=\"14.00\">class = fraud</text>\n</g>\n<!-- 10&#45;&gt;14 -->\n<g id=\"edge14\" class=\"edge\">\n<title>10&#45;&gt;14</title>\n<path fill=\"none\" stroke=\"black\" d=\"M707.56,-223.89C730.72,-212.36 756.08,-199.73 779.47,-188.09\"/>\n<polygon fill=\"black\" stroke=\"black\" points=\"781.28,-191.09 788.67,-183.5 778.16,-184.83 781.28,-191.09\"/>\n</g>\n<!-- 12 -->\n<g id=\"node13\" class=\"node\">\n<title>12</title>\n<path fill=\"#399de5\" stroke=\"black\" d=\"M630,-68C630,-68 532,-68 532,-68 526,-68 520,-62 520,-56 520,-56 520,-12 520,-12 520,-6 526,0 532,0 532,0 630,0 630,0 636,0 642,-6 642,-12 642,-12 642,-56 642,-56 642,-62 636,-68 630,-68\"/>\n<text text-anchor=\"start\" x=\"539\" y=\"-52.8\" font-family=\"Helvetica,sans-Serif\" font-size=\"14.00\">entropy = 0.0</text>\n<text text-anchor=\"start\" x=\"529.5\" y=\"-37.8\" font-family=\"Helvetica,sans-Serif\" font-size=\"14.00\">samples = 1967</text>\n<text text-anchor=\"start\" x=\"528\" y=\"-22.8\" font-family=\"Helvetica,sans-Serif\" font-size=\"14.00\">value = [0, 1967]</text>\n<text text-anchor=\"start\" x=\"540\" y=\"-7.8\" font-family=\"Helvetica,sans-Serif\" font-size=\"14.00\">class = fraud</text>\n</g>\n<!-- 11&#45;&gt;12 -->\n<g id=\"edge12\" class=\"edge\">\n<title>11&#45;&gt;12</title>\n<path fill=\"none\" stroke=\"black\" d=\"M610.5,-103.73C606.86,-95.24 603.01,-86.28 599.34,-77.73\"/>\n<polygon fill=\"black\" stroke=\"black\" points=\"602.45,-76.11 595.29,-68.3 596.02,-78.87 602.45,-76.11\"/>\n</g>\n<!-- 13 -->\n<g id=\"node14\" class=\"node\">\n<title>13</title>\n<path fill=\"#44a2e6\" stroke=\"black\" d=\"M770,-68C770,-68 672,-68 672,-68 666,-68 660,-62 660,-56 660,-56 660,-12 660,-12 660,-6 666,0 672,0 672,0 770,0 770,0 776,0 782,-6 782,-12 782,-12 782,-56 782,-56 782,-62 776,-68 770,-68\"/>\n<text text-anchor=\"start\" x=\"671\" y=\"-52.8\" font-family=\"Helvetica,sans-Serif\" font-size=\"14.00\">entropy = 0.293</text>\n<text text-anchor=\"start\" x=\"673.5\" y=\"-37.8\" font-family=\"Helvetica,sans-Serif\" font-size=\"14.00\">samples = 640</text>\n<text text-anchor=\"start\" x=\"668\" y=\"-22.8\" font-family=\"Helvetica,sans-Serif\" font-size=\"14.00\">value = [33, 607]</text>\n<text text-anchor=\"start\" x=\"680\" y=\"-7.8\" font-family=\"Helvetica,sans-Serif\" font-size=\"14.00\">class = fraud</text>\n</g>\n<!-- 11&#45;&gt;13 -->\n<g id=\"edge13\" class=\"edge\">\n<title>11&#45;&gt;13</title>\n<path fill=\"none\" stroke=\"black\" d=\"M662.63,-103.73C670.3,-94.7 678.43,-85.12 686.11,-76.08\"/>\n<polygon fill=\"black\" stroke=\"black\" points=\"688.91,-78.19 692.72,-68.3 683.58,-73.66 688.91,-78.19\"/>\n</g>\n<!-- 15 -->\n<g id=\"node16\" class=\"node\">\n<title>15</title>\n<path fill=\"#e5833d\" stroke=\"black\" d=\"M913.5,-68C913.5,-68 812.5,-68 812.5,-68 806.5,-68 800.5,-62 800.5,-56 800.5,-56 800.5,-12 800.5,-12 800.5,-6 806.5,0 812.5,0 812.5,0 913.5,0 913.5,0 919.5,0 925.5,-6 925.5,-12 925.5,-12 925.5,-56 925.5,-56 925.5,-62 919.5,-68 913.5,-68\"/>\n<text text-anchor=\"start\" x=\"813\" y=\"-52.8\" font-family=\"Helvetica,sans-Serif\" font-size=\"14.00\">entropy = 0.127</text>\n<text text-anchor=\"start\" x=\"815.5\" y=\"-37.8\" font-family=\"Helvetica,sans-Serif\" font-size=\"14.00\">samples = 115</text>\n<text text-anchor=\"start\" x=\"814.5\" y=\"-22.8\" font-family=\"Helvetica,sans-Serif\" font-size=\"14.00\">value = [113, 2]</text>\n<text text-anchor=\"start\" x=\"808.5\" y=\"-7.8\" font-family=\"Helvetica,sans-Serif\" font-size=\"14.00\">class = not_fraud</text>\n</g>\n<!-- 14&#45;&gt;15 -->\n<g id=\"edge15\" class=\"edge\">\n<title>14&#45;&gt;15</title>\n<path fill=\"none\" stroke=\"black\" d=\"M863,-103.73C863,-95.52 863,-86.86 863,-78.56\"/>\n<polygon fill=\"black\" stroke=\"black\" points=\"866.5,-78.3 863,-68.3 859.5,-78.3 866.5,-78.3\"/>\n</g>\n<!-- 16 -->\n<g id=\"node17\" class=\"node\">\n<title>16</title>\n<path fill=\"#4fa8e8\" stroke=\"black\" d=\"M1070,-68C1070,-68 956,-68 956,-68 950,-68 944,-62 944,-56 944,-56 944,-12 944,-12 944,-6 950,0 956,0 956,0 1070,0 1070,0 1076,0 1082,-6 1082,-12 1082,-12 1082,-56 1082,-56 1082,-62 1076,-68 1070,-68\"/>\n<text text-anchor=\"start\" x=\"963\" y=\"-52.8\" font-family=\"Helvetica,sans-Serif\" font-size=\"14.00\">entropy = 0.475</text>\n<text text-anchor=\"start\" x=\"961.5\" y=\"-37.8\" font-family=\"Helvetica,sans-Serif\" font-size=\"14.00\">samples = 1550</text>\n<text text-anchor=\"start\" x=\"952\" y=\"-22.8\" font-family=\"Helvetica,sans-Serif\" font-size=\"14.00\">value = [158, 1392]</text>\n<text text-anchor=\"start\" x=\"972\" y=\"-7.8\" font-family=\"Helvetica,sans-Serif\" font-size=\"14.00\">class = fraud</text>\n</g>\n<!-- 14&#45;&gt;16 -->\n<g id=\"edge16\" class=\"edge\">\n<title>14&#45;&gt;16</title>\n<path fill=\"none\" stroke=\"black\" d=\"M918.85,-103.73C931.97,-94.15 945.93,-83.96 958.97,-74.44\"/>\n<polygon fill=\"black\" stroke=\"black\" points=\"961.37,-77.02 967.38,-68.3 957.24,-71.37 961.37,-77.02\"/>\n</g>\n</g>\n</svg>\n",
      "text/plain": [
       "<graphviz.sources.Source at 0x20e9d8c1970>"
      ]
     },
     "execution_count": 8,
     "metadata": {},
     "output_type": "execute_result"
    }
   ],
   "source": [
    "dot_data = tree.export_graphviz(clf, out_file=None, feature_names=feature_labels, class_names=['not_fraud', 'fraud'], \n",
    "                                filled=True, rounded=True, special_characters=True)\n",
    "graph = graphviz.Source(dot_data)\n",
    "graph "
   ]
  },
  {
   "cell_type": "markdown",
   "metadata": {},
   "source": [
    "### Avaliando Diferentes Resultados"
   ]
  },
  {
   "cell_type": "markdown",
   "metadata": {},
   "source": [
    "A partir destes resultados, podemos avaliar as diferentes precisões resultantes com mudanças de parâmetros como `*_train` e `max_deph`."
   ]
  },
  {
   "cell_type": "code",
   "execution_count": null,
   "metadata": {},
   "outputs": [
    {
     "name": "stdout",
     "output_type": "stream",
     "text": [
      "[[0.9976263944932352, 1.0, 1.0, 1.0, 1.0, 1.0, 1.0, 1.0, 1.0, 1.0, 1.0, 1.0, 1.0, 1.0, 1.0, 1.0], [1.0, 0.973652978874911, 0.9995252788986471, 0.9995252788986471, 0.9995252788986471, 0.9995252788986471, 0.9995252788986471, 0.9995252788986471, 0.9995252788986471, 0.9995252788986471, 0.9992879183479706, 0.9978637550439117, 0.9988131972466177, 0.9978637550439117, 0.9992879183479706, 0.9988131972466177], [1.0, 0.973652978874911, 0.9995252788986471, 0.9995252788986471, 0.9995252788986471, 0.9995252788986471, 0.9995252788986471, 0.9990505577972941, 0.9981011155945881, 0.9992879183479706, 0.9978637550439117, 0.9981011155945881, 0.9983384761452646, 0.9978637550439117, 0.9978637550439117, 0.9969143128412058], [0.973178257773558, 0.9959648706384999, 0.9990505577972941, 0.9990505577972941, 0.9990505577972941, 0.9981011155945881, 0.9983384761452646, 0.9973890339425587, 0.9981011155945881, 0.9962022311891764, 0.9964395917398529, 0.9981011155945881, 0.9971516733918823, 0.9976263944932352, 0.9969143128412058, 0.9964395917398529], [0.973178257773558, 0.9959648706384999, 0.9990505577972941, 0.9992879183479706, 0.9990505577972941, 0.9990505577972941, 0.9981011155945881, 0.9990505577972941, 0.9983384761452646, 0.9978637550439117, 0.9992879183479706, 0.9971516733918823, 0.9966769522905293, 0.9966769522905293, 0.9978637550439117, 0.9983384761452646], [0.973178257773558, 0.9959648706384999, 0.9990505577972941, 0.9990505577972941, 0.9988131972466177, 0.9990505577972941, 0.9985758366959412, 0.9957275100878235, 0.9978637550439117, 0.9959648706384999, 0.9966769522905293, 0.9966769522905293, 0.9959648706384999, 0.9954901495371469, 0.9964395917398529, 0.9952527889864704], [0.8385948255399952, 0.9954901495371469, 0.9971516733918823, 0.9971516733918823, 0.9971516733918823, 0.9971516733918823, 0.9966769522905293, 0.9966769522905293, 0.9959648706384999, 0.9957275100878235, 0.9962022311891764, 0.9962022311891764, 0.9962022311891764, 0.9962022311891764, 0.9962022311891764, 0.9962022311891764], [0.8191312603845241, 0.9950154284357939, 0.9957275100878235, 0.9957275100878235, 0.9957275100878235, 0.9957275100878235, 0.9950154284357939, 0.9928791834797057, 0.9928791834797057, 0.9952527889864704, 0.9943033467837645, 0.994540707334441, 0.9938286256824116, 0.9938286256824116, 0.9933539045810587, 0.9957275100878235], [0.8191312603845241, 0.9950154284357939, 0.9957275100878235, 0.9957275100878235, 0.9957275100878235, 0.9957275100878235, 0.994540707334441, 0.990030856871588, 0.9940659862330881, 0.9926418229290292, 0.9912176596249703, 0.9905055779729409, 0.9924044623783527, 0.9902682174222645, 0.9921671018276762, 0.9886066935675291]]\n",
      "[0.968388359005034, 0.9346036653470483, 0.9604978019252631, 0.9621592044843346, 0.9695818408889735, 0.971523143366064, 0.9816312718775412, 0.9844889979440854, 0.9863867288603337, 0.9864345628564758, 0.9876615127509173, 0.9869498439238275, 0.9874755442774675, 0.9871359702652514, 0.9877543391196681, 0.9871508098548135]\n"
     ]
    }
   ],
   "source": [
    "# Utilizando (4000+size) casos (4000 fraudes e size não fraudes)\n",
    "fraud_accuracy = []\n",
    "non_fraud_accuracy = []\n",
    "for size in range(4000, 22000, 2000):\n",
    "    x_train = pandas.concat([x_fraud[:4000], x_non_fraud[:size]])\n",
    "    y_train = pandas.concat([y_fraud[:4000], y_non_fraud[:size]])\n",
    "\n",
    "    # Separando os casos não utilizados no treinamento para realização de testes\n",
    "\n",
    "    x_fraud_test = x_fraud[4000:]\n",
    "    y_fraud_test = y_fraud[4000:]\n",
    "    x_non_fraud_test = x_non_fraud[size:]\n",
    "    y_non_fraud_test = y_non_fraud[size:]\n",
    "    \n",
    "    fraud_accuracy_depth = []\n",
    "    non_fraud_accuracy_depth = []\n",
    "    for depth in range(3, 19, 1):\n",
    "        clf = tree.DecisionTreeClassifier(criterion='entropy', max_depth=depth)\n",
    "        clf = clf.fit(x_train, y_train)\n",
    "\n",
    "        y_fraud_prediction     = clf.predict(x_fraud_test)\n",
    "        y_non_fraud_prediction = clf.predict(x_non_fraud_test)\n",
    "        \n",
    "        fraud_accuracy_depth.append(metrics.accuracy_score(y_fraud_test, y_fraud_prediction))\n",
    "        non_fraud_accuracy_depth.append(metrics.accuracy_score(y_non_fraud_test, y_non_fraud_prediction))\n",
    "    \n",
    "    fraud_accuracy.append(fraud_accuracy_depth)\n",
    "    non_fraud_accuracy.append(non_fraud_accuracy_depth)\n",
    "\n",
    "print(fraud_accuracy)\n",
    "print(non_fraud_accuracy_depth)"
   ]
  },
  {
   "cell_type": "code",
   "execution_count": null,
   "metadata": {},
   "outputs": [
    {
     "ename": "NameError",
     "evalue": "name 'fraud_accuracy' is not defined",
     "output_type": "error",
     "traceback": [
      "\u001b[1;31m---------------------------------------------------------------------------\u001b[0m",
      "\u001b[1;31mNameError\u001b[0m                                 Traceback (most recent call last)",
      "\u001b[1;32md:\\Downloads\\Matérias\\IA\\Git\\ArtificialInteligence\\TrabalhoArvoreDecisao\\02_solucao.ipynb Cell 21'\u001b[0m in \u001b[0;36m<module>\u001b[1;34m\u001b[0m\n\u001b[1;32m----> <a href='vscode-notebook-cell:/d%3A/Downloads/Mat%C3%A9rias/IA/Git/ArtificialInteligence/TrabalhoArvoreDecisao/02_solucao.ipynb#ch0000040?line=0'>1</a>\u001b[0m accuracy \u001b[39m=\u001b[39m [x\u001b[39m*\u001b[39m\u001b[39m100\u001b[39m \u001b[39mfor\u001b[39;00m x \u001b[39min\u001b[39;00m fraud_accuracy]\n\u001b[0;32m      <a href='vscode-notebook-cell:/d%3A/Downloads/Mat%C3%A9rias/IA/Git/ArtificialInteligence/TrabalhoArvoreDecisao/02_solucao.ipynb#ch0000040?line=2'>3</a>\u001b[0m fig, ax \u001b[39m=\u001b[39m plt\u001b[39m.\u001b[39msubplots(figsize\u001b[39m=\u001b[39m(\u001b[39m20\u001b[39m, \u001b[39m10\u001b[39m))\n\u001b[0;32m      <a href='vscode-notebook-cell:/d%3A/Downloads/Mat%C3%A9rias/IA/Git/ArtificialInteligence/TrabalhoArvoreDecisao/02_solucao.ipynb#ch0000040?line=3'>4</a>\u001b[0m ax \u001b[39m=\u001b[39m seaborn\u001b[39m.\u001b[39mheatmap(accuracy, annot\u001b[39m=\u001b[39m\u001b[39mTrue\u001b[39;00m)\n",
      "\u001b[1;31mNameError\u001b[0m: name 'fraud_accuracy' is not defined"
     ]
    }
   ],
   "source": [
    "accuracy = [x*100 for x in fraud_accuracy]\n",
    "\n",
    "fig, ax = plt.subplots(figsize=(20, 10))\n",
    "ax = seaborn.heatmap(accuracy, annot=True)\n",
    "ax.set_ylabel('Entradas não fraudulentas', fontsize=20)\n",
    "ax.set_xlabel('Profundidade da árvore', fontsize=20)\n",
    "ax.set_title('Acurácia para testes fraudulentos', fontsize=20)\n",
    "ax.set_yticklabels(range(4000,22000,2000))\n",
    "ax.set_xticklabels(range(3, 19,1))\n",
    "fig.savefig('testes_fraudulentos_acuracia.jpg')"
   ]
  }
 ],
 "metadata": {
  "interpreter": {
   "hash": "816c4ca1a442304386b640facc7eeaee53f275019272c999ca11fec791461f00"
  },
  "kernelspec": {
   "display_name": "Python 3.10.2 64-bit",
   "language": "python",
   "name": "python3"
  },
  "language_info": {
   "codemirror_mode": {
    "name": "ipython",
    "version": 3
   },
   "file_extension": ".py",
   "mimetype": "text/x-python",
   "name": "python",
   "nbconvert_exporter": "python",
   "pygments_lexer": "ipython3",
   "version": "3.9.1"
  },
  "orig_nbformat": 4
 },
 "nbformat": 4,
 "nbformat_minor": 2
}
