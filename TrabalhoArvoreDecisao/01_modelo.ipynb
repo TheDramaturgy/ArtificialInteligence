{
 "cells": [
  {
   "cell_type": "markdown",
   "metadata": {},
   "source": [
    "**Instituto de Informática - UFG**\n",
    "\n",
    "Disciplina: Inteligência Computacional\n",
    "\n",
    "Prof. Cedric Luiz de Carvalho\n",
    "\n",
    "\n",
    "Grupo ( J )\n",
    "\n",
    "---\n",
    "\n",
    "\n",
    "Analista de dados:\n",
    "* Arthur Cavalcante de Andrade\n",
    "* William Teixeira Pires Junior\n",
    "\n",
    "---\n",
    "\n",
    "Engenheiro(a) do conhecimento:\n",
    "* Arthur Cavalcante de Andrade\n",
    "* William Teixeira Pires Junior\n",
    "\n",
    "---"
   ]
  },
  {
   "cell_type": "markdown",
   "metadata": {},
   "source": [
    "# Modelo"
   ]
  },
  {
   "cell_type": "markdown",
   "metadata": {},
   "source": [
    "Para realizar a leitura da base de dados, atribuimos a variável `data`:"
   ]
  },
  {
   "cell_type": "code",
   "execution_count": 2,
   "metadata": {},
   "outputs": [
    {
     "name": "stdout",
     "output_type": "stream",
     "text": [
      "<class 'pandas.core.frame.DataFrame'>\n",
      "RangeIndex: 6362620 entries, 0 to 6362619\n",
      "Data columns (total 11 columns):\n",
      " #   Column          Dtype  \n",
      "---  ------          -----  \n",
      " 0   step            int64  \n",
      " 1   type            object \n",
      " 2   amount          float64\n",
      " 3   nameOrig        object \n",
      " 4   oldbalanceOrg   float64\n",
      " 5   newbalanceOrig  float64\n",
      " 6   nameDest        object \n",
      " 7   oldbalanceDest  float64\n",
      " 8   newbalanceDest  float64\n",
      " 9   isFraud         int64  \n",
      " 10  isFlaggedFraud  int64  \n",
      "dtypes: float64(5), int64(3), object(3)\n",
      "memory usage: 534.0+ MB\n"
     ]
    }
   ],
   "source": [
    "import pandas\n",
    "\n",
    "# leitura do arquivo .csv\n",
    "data = pandas.read_csv('PS_20174392719_1491204439457_log.csv')\n",
    "data.info()"
   ]
  },
  {
   "cell_type": "markdown",
   "metadata": {},
   "source": [
    "A base de dados apresenta 11 colunas, que indicam:\n",
    "* `step`: em horas, desde o inicio da observação, o momento em que a transação ocorre;\n",
    "* `type`: tipo de transação;\n",
    "* `amount`: valor envolvido na transação;\n",
    "* `nameOrig`: nome da conta que realizou a transação;\n",
    "* `oldbalanceOrg`: balanço da conta de origem da transação antes da operação ser realizada;\n",
    "* `newbalanceOrig`: balanço da conta de origem da transação após a operação ser realizada;\n",
    "* `nameDest`: nome da conta de destino da transação;\n",
    "* `oldbalanceDest`: balanço da conta de destino da transação antes da operação ser realizada;\n",
    "* `newbalanceDest`: balanço da conta de destino da transação após a operação ser realizada;\n",
    "* `isFraud`: se a operação foi realizada por um agente fraudulento;\n",
    "* `isFlaggedFraud`: se a operação movimenta um valor acima de 200 mil em uma única transação."
   ]
  },
  {
   "cell_type": "markdown",
   "metadata": {},
   "source": [
    "Assim como na base de dados, consideraremos **`fraude`** como sendo o comportamento de tomar a conta de um cliente e então transferir todo o dinheiro para uma outra conta que então realizará o saque."
   ]
  },
  {
   "cell_type": "markdown",
   "metadata": {},
   "source": [
    "Como não sabemos se a transação está sendo realizada pelo dono da conta ou pelo agente fraudulento, a árvore de decisão deverá identificar um comportamento fraudulento em cada transação de forma isolada, sem levar em conta movimentações prévias."
   ]
  },
  {
   "cell_type": "markdown",
   "metadata": {},
   "source": [
    "#### Mais descrições sobre o modelo são feitas nos outros notebooks."
   ]
  }
 ],
 "metadata": {
  "interpreter": {
   "hash": "816c4ca1a442304386b640facc7eeaee53f275019272c999ca11fec791461f00"
  },
  "kernelspec": {
   "display_name": "Python 3.10.2 64-bit",
   "language": "python",
   "name": "python3"
  },
  "language_info": {
   "codemirror_mode": {
    "name": "ipython",
    "version": 3
   },
   "file_extension": ".py",
   "mimetype": "text/x-python",
   "name": "python",
   "nbconvert_exporter": "python",
   "pygments_lexer": "ipython3",
   "version": "3.9.1"
  },
  "orig_nbformat": 4
 },
 "nbformat": 4,
 "nbformat_minor": 2
}
