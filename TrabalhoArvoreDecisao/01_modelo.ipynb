{
 "cells": [
  {
   "cell_type": "markdown",
   "metadata": {},
   "source": [
    "Importamos as bibliteca **pandas**, **numpy**, **seaborn** e **matplotlib.pyplot** para auxiliar nos processos de manipulação, análise de dados e criação de gráficos para visualizações de dados."
   ]
  },
  {
   "cell_type": "code",
   "execution_count": 1,
   "metadata": {},
   "outputs": [],
   "source": [
    "import pandas\n",
    "import numpy\n",
    "import seaborn\n",
    "import matplotlib.pyplot as plt"
   ]
  },
  {
   "cell_type": "markdown",
   "metadata": {},
   "source": [
    "Para realizar a leitura da base de dados, atribuimos a variável `data`:"
   ]
  },
  {
   "cell_type": "code",
   "execution_count": 22,
   "metadata": {},
   "outputs": [
    {
     "name": "stdout",
     "output_type": "stream",
     "text": [
      "<class 'pandas.core.frame.DataFrame'>\n",
      "RangeIndex: 6362620 entries, 0 to 6362619\n",
      "Data columns (total 11 columns):\n",
      " #   Column          Dtype  \n",
      "---  ------          -----  \n",
      " 0   step            int64  \n",
      " 1   type            object \n",
      " 2   amount          float64\n",
      " 3   nameOrig        object \n",
      " 4   oldbalanceOrg   float64\n",
      " 5   newbalanceOrig  float64\n",
      " 6   nameDest        object \n",
      " 7   oldbalanceDest  float64\n",
      " 8   newbalanceDest  float64\n",
      " 9   isFraud         int64  \n",
      " 10  isFlaggedFraud  int64  \n",
      "dtypes: float64(5), int64(3), object(3)\n",
      "memory usage: 534.0+ MB\n"
     ]
    }
   ],
   "source": [
    "# leitura do arquivo .csv\n",
    "data = pandas.read_csv('PS_20174392719_1491204439457_log.csv')\n",
    "data.info()"
   ]
  },
  {
   "cell_type": "markdown",
   "metadata": {},
   "source": [
    "A base de dados apresenta 11 colunas, que indicam:\n",
    "* `step`: em horas, desde o inicio da observação, o momento em que a transação ocorre;\n",
    "* `type`: tipo de transação;\n",
    "* `amount`: valor envolvido na transação;\n",
    "* `nameOrig`: nome da conta que realizou a transação;\n",
    "* `oldbalanceOrg`: balanço da conta de origem da transação antes da operação ser realizada;\n",
    "* `newbalanceOrig`: balanço da conta de origem da transação após a operação ser realizada;\n",
    "* `nameDest`: nome da conta de destino da transação;\n",
    "* `oldbalanceDest`: balanço da conta de destino da transação antes da operação ser realizada;\n",
    "* `newbalanceDest`: balanço da conta de destino da transação após a operação ser realizada;\n",
    "* `isFraud`: se a operação foi realizada por um agente fraudulento;\n",
    "* `isFlaggedFraud`: se a operação movimenta um valor acima de 200 mil em uma única transação."
   ]
  },
  {
   "cell_type": "code",
   "execution_count": 23,
   "metadata": {},
   "outputs": [
    {
     "data": {
      "text/plain": [
       "step              0\n",
       "type              0\n",
       "amount            0\n",
       "nameOrig          0\n",
       "oldbalanceOrg     0\n",
       "newbalanceOrig    0\n",
       "nameDest          0\n",
       "oldbalanceDest    0\n",
       "newbalanceDest    0\n",
       "isFraud           0\n",
       "isFlaggedFraud    0\n",
       "dtype: int64"
      ]
     },
     "execution_count": 23,
     "metadata": {},
     "output_type": "execute_result"
    }
   ],
   "source": [
    "data.isnull().sum()"
   ]
  },
  {
   "cell_type": "markdown",
   "metadata": {},
   "source": [
    "Verificamos que não ocorrem valores nulos na base de dados."
   ]
  },
  {
   "cell_type": "markdown",
   "metadata": {},
   "source": [
    "Para listar as transações em grupos distintos, com a existência ou não de fraude, utilizamos a seguinte atribuição:"
   ]
  },
  {
   "cell_type": "code",
   "execution_count": 24,
   "metadata": {},
   "outputs": [],
   "source": [
    "fraud_transactions     = data.loc[data['isFraud'] == 1]\n",
    "non_fraud_transactions = data.loc[data['isFraud'] == 0]"
   ]
  },
  {
   "cell_type": "markdown",
   "metadata": {},
   "source": [
    "Dado que o campo de nome descreve o tipo de conta envolvida na transação (comerciante ou cliente), precisamos saber o quão relevantes eles são para o problema. Para isso, faremos os seguintes testes:"
   ]
  },
  {
   "cell_type": "code",
   "execution_count": 7,
   "metadata": {},
   "outputs": [
    {
     "name": "stdout",
     "output_type": "stream",
     "text": [
      "Quantidade de transações originadas de comerciantes: 0\n",
      "Quantidade de transações destinadas a comerciantes: 2151495\n",
      "Quantidade de transações fraudulentas originadas de comerciantes: 0\n",
      "Quantidade de transações fraudulentas destinadas a comerciantes: 0\n",
      "Quantidade de transações não fraudulentas originadas de comerciantes: 0\n",
      "Quantidade de transações não fraudulentas destinadas a comerciantes: 2151495\n"
     ]
    }
   ],
   "source": [
    "amount_merchant_orig = len(data.loc[data['nameOrig'].str.match('M')])\n",
    "amount_merchant_dest = len(data.loc[data['nameDest'].str.match('M')])\n",
    "amount_fraud_orig_merchant = len(fraud_transactions.loc[fraud_transactions['nameOrig'].str.match('M')])\n",
    "amount_fraud_dest_merchant = len(fraud_transactions.loc[fraud_transactions['nameDest'].str.match('M')])\n",
    "amount_non_fraud_orig_merchant = len(non_fraud_transactions.loc[non_fraud_transactions['nameOrig'].str.match('M')])\n",
    "amount_non_fraud_dest_merchant = len(non_fraud_transactions.loc[non_fraud_transactions['nameDest'].str.match('M')])\n",
    "\n",
    "print('Quantidade de transações originadas de comerciantes:', amount_merchant_orig)\n",
    "print('Quantidade de transações destinadas a comerciantes:', amount_merchant_dest)\n",
    "print('Quantidade de transações fraudulentas originadas de comerciantes:', amount_fraud_orig_merchant)\n",
    "print('Quantidade de transações fraudulentas destinadas a comerciantes:', amount_fraud_dest_merchant)\n",
    "print('Quantidade de transações não fraudulentas originadas de comerciantes:', amount_non_fraud_orig_merchant)\n",
    "print('Quantidade de transações não fraudulentas destinadas a comerciantes:', amount_non_fraud_dest_merchant)"
   ]
  },
  {
   "cell_type": "markdown",
   "metadata": {},
   "source": [
    "Podemos verificar que em todas as transações em que comerciantes aparecem, são destinatários e em nenhuma ocorre fraude. \n",
    "Essa informação é interessante para a árvore de decisão, então vamos simplificar os dados removendo as colunas de nome e adicionando uma nova coluna indicando quando uma transação envolve um comerciante."
   ]
  },
  {
   "cell_type": "code",
   "execution_count": 25,
   "metadata": {},
   "outputs": [
    {
     "data": {
      "text/html": [
       "<div>\n",
       "<style scoped>\n",
       "    .dataframe tbody tr th:only-of-type {\n",
       "        vertical-align: middle;\n",
       "    }\n",
       "\n",
       "    .dataframe tbody tr th {\n",
       "        vertical-align: top;\n",
       "    }\n",
       "\n",
       "    .dataframe thead th {\n",
       "        text-align: right;\n",
       "    }\n",
       "</style>\n",
       "<table border=\"1\" class=\"dataframe\">\n",
       "  <thead>\n",
       "    <tr style=\"text-align: right;\">\n",
       "      <th></th>\n",
       "      <th>step</th>\n",
       "      <th>type</th>\n",
       "      <th>amount</th>\n",
       "      <th>oldbalanceOrg</th>\n",
       "      <th>newbalanceOrig</th>\n",
       "      <th>oldbalanceDest</th>\n",
       "      <th>newbalanceDest</th>\n",
       "      <th>isFraud</th>\n",
       "      <th>isFlaggedFraud</th>\n",
       "      <th>hasMerchantAccount</th>\n",
       "    </tr>\n",
       "  </thead>\n",
       "  <tbody>\n",
       "    <tr>\n",
       "      <th>0</th>\n",
       "      <td>1</td>\n",
       "      <td>PAYMENT</td>\n",
       "      <td>9839.64</td>\n",
       "      <td>170136.0</td>\n",
       "      <td>160296.36</td>\n",
       "      <td>0.0</td>\n",
       "      <td>0.0</td>\n",
       "      <td>0</td>\n",
       "      <td>0</td>\n",
       "      <td>1</td>\n",
       "    </tr>\n",
       "    <tr>\n",
       "      <th>1</th>\n",
       "      <td>1</td>\n",
       "      <td>PAYMENT</td>\n",
       "      <td>1864.28</td>\n",
       "      <td>21249.0</td>\n",
       "      <td>19384.72</td>\n",
       "      <td>0.0</td>\n",
       "      <td>0.0</td>\n",
       "      <td>0</td>\n",
       "      <td>0</td>\n",
       "      <td>1</td>\n",
       "    </tr>\n",
       "    <tr>\n",
       "      <th>2</th>\n",
       "      <td>1</td>\n",
       "      <td>TRANSFER</td>\n",
       "      <td>181.00</td>\n",
       "      <td>181.0</td>\n",
       "      <td>0.00</td>\n",
       "      <td>0.0</td>\n",
       "      <td>0.0</td>\n",
       "      <td>1</td>\n",
       "      <td>0</td>\n",
       "      <td>0</td>\n",
       "    </tr>\n",
       "    <tr>\n",
       "      <th>3</th>\n",
       "      <td>1</td>\n",
       "      <td>CASH_OUT</td>\n",
       "      <td>181.00</td>\n",
       "      <td>181.0</td>\n",
       "      <td>0.00</td>\n",
       "      <td>21182.0</td>\n",
       "      <td>0.0</td>\n",
       "      <td>1</td>\n",
       "      <td>0</td>\n",
       "      <td>0</td>\n",
       "    </tr>\n",
       "    <tr>\n",
       "      <th>4</th>\n",
       "      <td>1</td>\n",
       "      <td>PAYMENT</td>\n",
       "      <td>11668.14</td>\n",
       "      <td>41554.0</td>\n",
       "      <td>29885.86</td>\n",
       "      <td>0.0</td>\n",
       "      <td>0.0</td>\n",
       "      <td>0</td>\n",
       "      <td>0</td>\n",
       "      <td>1</td>\n",
       "    </tr>\n",
       "  </tbody>\n",
       "</table>\n",
       "</div>"
      ],
      "text/plain": [
       "   step      type    amount  oldbalanceOrg  newbalanceOrig  oldbalanceDest  \\\n",
       "0     1   PAYMENT   9839.64       170136.0       160296.36             0.0   \n",
       "1     1   PAYMENT   1864.28        21249.0        19384.72             0.0   \n",
       "2     1  TRANSFER    181.00          181.0            0.00             0.0   \n",
       "3     1  CASH_OUT    181.00          181.0            0.00         21182.0   \n",
       "4     1   PAYMENT  11668.14        41554.0        29885.86             0.0   \n",
       "\n",
       "   newbalanceDest  isFraud  isFlaggedFraud  hasMerchantAccount  \n",
       "0             0.0        0               0                   1  \n",
       "1             0.0        0               0                   1  \n",
       "2             0.0        1               0                   0  \n",
       "3             0.0        1               0                   0  \n",
       "4             0.0        0               0                   1  "
      ]
     },
     "execution_count": 25,
     "metadata": {},
     "output_type": "execute_result"
    }
   ],
   "source": [
    "data['hasMerchantAccount'] = numpy.where(data['nameDest'].str.match('M'), 1, 0)\n",
    "reduced_data = data.drop(columns=['nameOrig', 'nameDest'])\n",
    "reduced_data.head()"
   ]
  },
  {
   "cell_type": "markdown",
   "metadata": {},
   "source": [
    "Como a coluna `step` indica horas desde o inicio da observação, vamos verificar como o número de transações está distribuído ao longo de dias."
   ]
  },
  {
   "cell_type": "code",
   "execution_count": 11,
   "metadata": {},
   "outputs": [
    {
     "data": {
      "image/png": "[encoded data removed]",
      "text/plain": [
       "<Figure size 1440x720 with 2 Axes>"
      ]
     },
     "metadata": {
      "needs_background": "light"
     },
     "output_type": "display_data"
    }
   ],
   "source": [
    "stepAmounts = data.groupby('step').size().array\n",
    "stepAmounts = numpy.array(stepAmounts, dtype=object)\n",
    "stepAmounts = numpy.append(stepAmounts, 0)  # Falta 1 hora para completar 31 dias\n",
    "stepAmounts = stepAmounts.reshape(int(numpy.ceil(len(stepAmounts)/24)), 24)\n",
    "stepAmounts = stepAmounts.astype(float)\n",
    "\n",
    "fig, ax = plt.subplots(figsize=(20, 10))\n",
    "ax = seaborn.heatmap(stepAmounts.T)\n",
    "ax.set_ylabel('Hora', fontsize=20)\n",
    "ax.set_xlabel('dia', fontsize=20)\n",
    "ax.set_title('Quantidade de transações por hora', fontsize=20)\n",
    "fig.savefig('transacoes_por_hora.jpg')"
   ]
  },
  {
   "cell_type": "code",
   "execution_count": 12,
   "metadata": {},
   "outputs": [
    {
     "name": "stdout",
     "output_type": "stream",
     "text": [
      "Não houve fraude na hora:  347\n",
      "Não houve fraude na hora:  545\n"
     ]
    }
   ],
   "source": [
    "expected = 1\n",
    "for i in fraud_transactions.groupby('step').size().keys():\n",
    "    if i != expected:\n",
    "        print('Não houve fraude na hora: ', expected)\n",
    "    expected = i+1"
   ]
  },
  {
   "cell_type": "code",
   "execution_count": 13,
   "metadata": {},
   "outputs": [
    {
     "data": {
      "image/png": "[encoded data removed]",
      "text/plain": [
       "<Figure size 1440x720 with 2 Axes>"
      ]
     },
     "metadata": {
      "needs_background": "light"
     },
     "output_type": "display_data"
    }
   ],
   "source": [
    "stepAmounts = fraud_transactions.groupby('step').size().array\n",
    "stepAmounts = numpy.array(stepAmounts, dtype=object)\n",
    "stepAmounts = numpy.insert(stepAmounts, 346, 0) # Não há fraude na hora 347\n",
    "stepAmounts = numpy.insert(stepAmounts, 544, 0) # Não há fraude na hora 545\n",
    "stepAmounts = numpy.append(stepAmounts, 0)      # Falta 1 hora para completar 31 dias\n",
    "stepAmounts = stepAmounts.reshape(int(numpy.ceil(len(stepAmounts)/24)), 24)\n",
    "stepAmounts = stepAmounts.astype(float)\n",
    "\n",
    "fig, ax = plt.subplots(figsize=(20, 10))\n",
    "ax = seaborn.heatmap(stepAmounts.T)\n",
    "ax.set_ylabel('Hora', fontsize=20)\n",
    "ax.set_xlabel('dia', fontsize=20)\n",
    "ax.set_title('Quantidade de transações fraudulentas por hora', fontsize=20)\n",
    "fig.savefig('transacoes_fraudulentas_por_hora.jpg')"
   ]
  },
  {
   "cell_type": "markdown",
   "metadata": {},
   "source": [
    "Podemos ver que os primeiros 17 dias com exceção do terceiro, quarto e quinto dias ocorrem muitas transações por volta dos mesmo horários. No entanto, quando olhamos só para transações fraudulentas, vemos que estão distribuídas de maneira bastante uniforme. Logo a coluna `step` não oferece nenhuma informação quanto se uma dada transferência é fraudulenta ou não, e iremos removê-la da da base de dados. Essa informação no entanto será importante no momento de escolher dados de entrada para o algoritmo de solução."
   ]
  },
  {
   "cell_type": "markdown",
   "metadata": {},
   "source": [
    "Nós queremos que a árvore de decisão, ao receber uma transação qualquer, identifique se essa transação é ou não uma fraude, independente das transações anteriores ou de quando ela ocorre, logo não precisamos da coluna 'step' também."
   ]
  },
  {
   "cell_type": "code",
   "execution_count": 14,
   "metadata": {},
   "outputs": [
    {
     "data": {
      "text/html": [
       "<div>\n",
       "<style scoped>\n",
       "    .dataframe tbody tr th:only-of-type {\n",
       "        vertical-align: middle;\n",
       "    }\n",
       "\n",
       "    .dataframe tbody tr th {\n",
       "        vertical-align: top;\n",
       "    }\n",
       "\n",
       "    .dataframe thead th {\n",
       "        text-align: right;\n",
       "    }\n",
       "</style>\n",
       "<table border=\"1\" class=\"dataframe\">\n",
       "  <thead>\n",
       "    <tr style=\"text-align: right;\">\n",
       "      <th></th>\n",
       "      <th>type</th>\n",
       "      <th>amount</th>\n",
       "      <th>oldbalanceOrg</th>\n",
       "      <th>newbalanceOrig</th>\n",
       "      <th>oldbalanceDest</th>\n",
       "      <th>newbalanceDest</th>\n",
       "      <th>isFraud</th>\n",
       "      <th>isFlaggedFraud</th>\n",
       "      <th>hasMerchantAccount</th>\n",
       "    </tr>\n",
       "  </thead>\n",
       "  <tbody>\n",
       "    <tr>\n",
       "      <th>0</th>\n",
       "      <td>PAYMENT</td>\n",
       "      <td>9839.64</td>\n",
       "      <td>170136.0</td>\n",
       "      <td>160296.36</td>\n",
       "      <td>0.0</td>\n",
       "      <td>0.0</td>\n",
       "      <td>0</td>\n",
       "      <td>0</td>\n",
       "      <td>1</td>\n",
       "    </tr>\n",
       "    <tr>\n",
       "      <th>1</th>\n",
       "      <td>PAYMENT</td>\n",
       "      <td>1864.28</td>\n",
       "      <td>21249.0</td>\n",
       "      <td>19384.72</td>\n",
       "      <td>0.0</td>\n",
       "      <td>0.0</td>\n",
       "      <td>0</td>\n",
       "      <td>0</td>\n",
       "      <td>1</td>\n",
       "    </tr>\n",
       "    <tr>\n",
       "      <th>2</th>\n",
       "      <td>TRANSFER</td>\n",
       "      <td>181.00</td>\n",
       "      <td>181.0</td>\n",
       "      <td>0.00</td>\n",
       "      <td>0.0</td>\n",
       "      <td>0.0</td>\n",
       "      <td>1</td>\n",
       "      <td>0</td>\n",
       "      <td>0</td>\n",
       "    </tr>\n",
       "    <tr>\n",
       "      <th>3</th>\n",
       "      <td>CASH_OUT</td>\n",
       "      <td>181.00</td>\n",
       "      <td>181.0</td>\n",
       "      <td>0.00</td>\n",
       "      <td>21182.0</td>\n",
       "      <td>0.0</td>\n",
       "      <td>1</td>\n",
       "      <td>0</td>\n",
       "      <td>0</td>\n",
       "    </tr>\n",
       "    <tr>\n",
       "      <th>4</th>\n",
       "      <td>PAYMENT</td>\n",
       "      <td>11668.14</td>\n",
       "      <td>41554.0</td>\n",
       "      <td>29885.86</td>\n",
       "      <td>0.0</td>\n",
       "      <td>0.0</td>\n",
       "      <td>0</td>\n",
       "      <td>0</td>\n",
       "      <td>1</td>\n",
       "    </tr>\n",
       "  </tbody>\n",
       "</table>\n",
       "</div>"
      ],
      "text/plain": [
       "       type    amount  oldbalanceOrg  newbalanceOrig  oldbalanceDest  \\\n",
       "0   PAYMENT   9839.64       170136.0       160296.36             0.0   \n",
       "1   PAYMENT   1864.28        21249.0        19384.72             0.0   \n",
       "2  TRANSFER    181.00          181.0            0.00             0.0   \n",
       "3  CASH_OUT    181.00          181.0            0.00         21182.0   \n",
       "4   PAYMENT  11668.14        41554.0        29885.86             0.0   \n",
       "\n",
       "   newbalanceDest  isFraud  isFlaggedFraud  hasMerchantAccount  \n",
       "0             0.0        0               0                   1  \n",
       "1             0.0        0               0                   1  \n",
       "2             0.0        1               0                   0  \n",
       "3             0.0        1               0                   0  \n",
       "4             0.0        0               0                   1  "
      ]
     },
     "execution_count": 14,
     "metadata": {},
     "output_type": "execute_result"
    }
   ],
   "source": [
    "reduced_data = reduced_data.drop(columns=['step'])\n",
    "reduced_data.head()"
   ]
  },
  {
   "cell_type": "markdown",
   "metadata": {},
   "source": [
    "Nesta etapa iremos avaliar a relação dos tipos de operação e as ocorrências de fraudes.\n",
    "\n",
    "\n",
    "Inicialmente, descobrimos os tipos de operações contidos na base de dados:"
   ]
  },
  {
   "cell_type": "code",
   "execution_count": 15,
   "metadata": {},
   "outputs": [
    {
     "name": "stdout",
     "output_type": "stream",
     "text": [
      "['PAYMENT', 'TRANSFER', 'CASH_OUT', 'DEBIT', 'CASH_IN']\n"
     ]
    }
   ],
   "source": [
    "transactionTypes = list(dict.fromkeys(data['type']))\n",
    "print(transactionTypes)"
   ]
  },
  {
   "cell_type": "markdown",
   "metadata": {},
   "source": [
    "Em seguida, verificamos quantas fraudes existem em cada tipo de operação:"
   ]
  },
  {
   "cell_type": "code",
   "execution_count": 16,
   "metadata": {},
   "outputs": [
    {
     "name": "stdout",
     "output_type": "stream",
     "text": [
      "Quantidade de fraudes como pagamento:  0\n",
      "Quantidade de fraudes como transferência:  4097\n",
      "Quantidade de fraudes como saque:  4116\n",
      "Quantidade de fraudes como débito:  0\n",
      "Quantidade de fraudes como cobrança:  0\n"
     ]
    }
   ],
   "source": [
    "fraud_payment_amount = len(fraud_transactions.loc[fraud_transactions['type'].str.match('PAYMENT')])\n",
    "fraud_transfer_amount = len(fraud_transactions.loc[fraud_transactions['type'].str.match('TRANSFER')])\n",
    "fraud_cashout_amount = len(fraud_transactions.loc[fraud_transactions['type'].str.match('CASH_OUT')])\n",
    "fraud_debit_amount = len(fraud_transactions.loc[fraud_transactions['type'].str.match('DEBIT')])\n",
    "fraud_cashin_amount = len(fraud_transactions.loc[fraud_transactions['type'].str.match('CASH_IN')])\n",
    "\n",
    "print(\"Quantidade de fraudes como pagamento: \",(fraud_payment_amount))\n",
    "print(\"Quantidade de fraudes como transferência: \",(fraud_transfer_amount))\n",
    "print(\"Quantidade de fraudes como saque: \",fraud_cashout_amount)\n",
    "print(\"Quantidade de fraudes como débito: \",fraud_debit_amount)\n",
    "print(\"Quantidade de fraudes como cobrança: \",fraud_cashin_amount)"
   ]
  },
  {
   "cell_type": "code",
   "execution_count": 28,
   "metadata": {},
   "outputs": [
    {
     "name": "stdout",
     "output_type": "stream",
     "text": [
      "Quantidade de transferências:  532909\n",
      "Quantidade de saques:  2237500\n",
      "Quantidade de operações além das duas citadas:  1712804\n"
     ]
    }
   ],
   "source": [
    "transfer_amount = len(data.loc[data['type'].str.match('TRANSFER')])\n",
    "cashout_amount = len(data.loc[data['type'].str.match('CASH_OUT')])\n",
    "\n",
    "print(\"Quantidade de transferências: \",transfer_amount)\n",
    "print(\"Quantidade de saques: \",cashout_amount)\n",
    "print(\"Quantidade de operações além das duas citadas: \", len(fraud_transactions)-(transfer_amount-cashout_amount))"
   ]
  },
  {
   "cell_type": "markdown",
   "metadata": {},
   "source": [
    "Percebemos que em apenas dois dos cinco tipos ocorrem fraudes: transferência e saque.\n",
    "\n",
    "Dessa forma, reduzindo em cerca de 1.7M de operações sem relações com fraudes, concluímos que para o aprendizado da árvore, o fator de **tipo de operação** pode ser relevante."
   ]
  }
 ],
 "metadata": {
  "interpreter": {
   "hash": "816c4ca1a442304386b640facc7eeaee53f275019272c999ca11fec791461f00"
  },
  "kernelspec": {
   "display_name": "Python 3.10.2 64-bit",
   "language": "python",
   "name": "python3"
  },
  "language_info": {
   "codemirror_mode": {
    "name": "ipython",
    "version": 3
   },
   "file_extension": ".py",
   "mimetype": "text/x-python",
   "name": "python",
   "nbconvert_exporter": "python",
   "pygments_lexer": "ipython3",
   "version": "3.9.1"
  },
  "orig_nbformat": 4
 },
 "nbformat": 4,
 "nbformat_minor": 2
}
