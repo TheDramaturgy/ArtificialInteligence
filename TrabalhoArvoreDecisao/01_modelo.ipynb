{
 "cells": [
  {
   "cell_type": "markdown",
   "metadata": {},
   "source": [
    "**Instituto de Informática - UFG**\n",
    "\n",
    "Disciplina: Inteligência Computacional\n",
    "\n",
    "Prof. Cedric Luiz de Carvalho\n",
    "\n",
    "\n",
    "Grupo ( J )\n",
    "\n",
    "---\n",
    "\n",
    "\n",
    "Analista de dados:\n",
    "* Arthur Cavalcante de Andrade\n",
    "* William Teixeira Pires Junior\n",
    "\n",
    "---\n",
    "\n",
    "Engenheiro(a) do conhecimento:\n",
    "* Arthur Cavalcante de Andrade\n",
    "* William Teixeira Pires Junior\n",
    "\n",
    "---"
   ]
  },
  {
   "cell_type": "markdown",
   "metadata": {},
   "source": [
    "# Modelo"
   ]
  },
  {
   "cell_type": "markdown",
   "metadata": {},
   "source": [
    "Importamos as bibliteca **pandas**, **numpy**, **seaborn** e **matplotlib.pyplot** para auxiliar nos processos de manipulação, análise de dados e criação de gráficos para visualizações de dados."
   ]
  },
  {
   "cell_type": "code",
   "execution_count": 1,
   "metadata": {},
   "outputs": [],
   "source": [
    "import pandas\n",
    "import numpy\n",
    "import seaborn\n",
    "import matplotlib.pyplot as plt"
   ]
  },
  {
   "cell_type": "markdown",
   "metadata": {},
   "source": [
    "Para realizar a leitura da base de dados, atribuimos a variável `data`:"
   ]
  },
  {
   "cell_type": "code",
   "execution_count": 2,
   "metadata": {},
   "outputs": [
    {
     "name": "stdout",
     "output_type": "stream",
     "text": [
      "<class 'pandas.core.frame.DataFrame'>\n",
      "RangeIndex: 6362620 entries, 0 to 6362619\n",
      "Data columns (total 11 columns):\n",
      " #   Column          Dtype  \n",
      "---  ------          -----  \n",
      " 0   step            int64  \n",
      " 1   type            object \n",
      " 2   amount          float64\n",
      " 3   nameOrig        object \n",
      " 4   oldbalanceOrg   float64\n",
      " 5   newbalanceOrig  float64\n",
      " 6   nameDest        object \n",
      " 7   oldbalanceDest  float64\n",
      " 8   newbalanceDest  float64\n",
      " 9   isFraud         int64  \n",
      " 10  isFlaggedFraud  int64  \n",
      "dtypes: float64(5), int64(3), object(3)\n",
      "memory usage: 534.0+ MB\n"
     ]
    }
   ],
   "source": [
    "# leitura do arquivo .csv\n",
    "data = pandas.read_csv('PS_20174392719_1491204439457_log.csv')\n",
    "data.info()"
   ]
  },
  {
   "cell_type": "markdown",
   "metadata": {},
   "source": [
    "A base de dados apresenta 11 colunas, que indicam:\n",
    "* `step`: em horas, desde o inicio da observação, o momento em que a transação ocorre;\n",
    "* `type`: tipo de transação;\n",
    "* `amount`: valor envolvido na transação;\n",
    "* `nameOrig`: nome da conta que realizou a transação;\n",
    "* `oldbalanceOrg`: balanço da conta de origem da transação antes da operação ser realizada;\n",
    "* `newbalanceOrig`: balanço da conta de origem da transação após a operação ser realizada;\n",
    "* `nameDest`: nome da conta de destino da transação;\n",
    "* `oldbalanceDest`: balanço da conta de destino da transação antes da operação ser realizada;\n",
    "* `newbalanceDest`: balanço da conta de destino da transação após a operação ser realizada;\n",
    "* `isFraud`: se a operação foi realizada por um agente fraudulento;\n",
    "* `isFlaggedFraud`: se a operação movimenta um valor acima de 200 mil em uma única transação."
   ]
  },
  {
   "cell_type": "code",
   "execution_count": 3,
   "metadata": {},
   "outputs": [
    {
     "data": {
      "text/plain": [
       "step              0\n",
       "type              0\n",
       "amount            0\n",
       "nameOrig          0\n",
       "oldbalanceOrg     0\n",
       "newbalanceOrig    0\n",
       "nameDest          0\n",
       "oldbalanceDest    0\n",
       "newbalanceDest    0\n",
       "isFraud           0\n",
       "isFlaggedFraud    0\n",
       "dtype: int64"
      ]
     },
     "execution_count": 3,
     "metadata": {},
     "output_type": "execute_result"
    }
   ],
   "source": [
    "data.isnull().sum()"
   ]
  },
  {
   "cell_type": "markdown",
   "metadata": {},
   "source": [
    "Verificamos que não ocorrem valores nulos na base de dados."
   ]
  },
  {
   "cell_type": "markdown",
   "metadata": {},
   "source": [
    "Para listar as transações em grupos distintos, com a existência ou não de fraude, utilizamos a seguinte atribuição:"
   ]
  },
  {
   "cell_type": "code",
   "execution_count": 4,
   "metadata": {},
   "outputs": [],
   "source": [
    "fraud_transactions     = data.loc[data['isFraud'] == 1]\n",
    "non_fraud_transactions = data.loc[data['isFraud'] == 0]"
   ]
  },
  {
   "cell_type": "markdown",
   "metadata": {},
   "source": [
    "# Análise Exploratória dos Dados"
   ]
  },
  {
   "cell_type": "markdown",
   "metadata": {},
   "source": [
    "### Relação de tipos de conta com `isFraud`"
   ]
  },
  {
   "cell_type": "markdown",
   "metadata": {},
   "source": [
    "Dado que o campo de nome descreve o tipo de conta envolvida na transação (comerciante ou cliente), precisamos saber o quão relevantes eles são para o problema. Para isso, faremos os seguintes testes:"
   ]
  },
  {
   "cell_type": "code",
   "execution_count": 5,
   "metadata": {},
   "outputs": [
    {
     "name": "stdout",
     "output_type": "stream",
     "text": [
      "---- Transações originadas de comerciantes ----\n",
      "                         Total:  0\n",
      "         Quantidade de Fraudes:  0\n",
      "     Quantidade de Não Fraudes:  0\n",
      "---- Transações destinadas a comerciantes ----\n",
      "                         Total:  2151495\n",
      "         Quantidade de Fraudes:  0\n",
      "     Quantidade de Não Fraudes:  2151495\n"
     ]
    }
   ],
   "source": [
    "amount_merchant_orig = len(data.loc[data['nameOrig'].str.match('M')])\n",
    "amount_merchant_dest = len(data.loc[data['nameDest'].str.match('M')])\n",
    "amount_fraud_orig_merchant = len(fraud_transactions.loc[fraud_transactions['nameOrig'].str.match('M')])\n",
    "amount_fraud_dest_merchant = len(fraud_transactions.loc[fraud_transactions['nameDest'].str.match('M')])\n",
    "amount_non_fraud_orig_merchant = len(non_fraud_transactions.loc[non_fraud_transactions['nameOrig'].str.match('M')])\n",
    "amount_non_fraud_dest_merchant = len(non_fraud_transactions.loc[non_fraud_transactions['nameDest'].str.match('M')])\n",
    "\n",
    "print('---- Transações originadas de comerciantes ----')\n",
    "print('                         Total: ', amount_merchant_orig)\n",
    "print('         Quantidade de Fraudes: ', amount_fraud_orig_merchant)\n",
    "print('     Quantidade de Não Fraudes: ', amount_non_fraud_orig_merchant)\n",
    "\n",
    "print('---- Transações destinadas a comerciantes ----')\n",
    "print('                         Total: ', amount_merchant_dest)\n",
    "print('         Quantidade de Fraudes: ', amount_fraud_dest_merchant)\n",
    "print('     Quantidade de Não Fraudes: ', amount_non_fraud_dest_merchant)"
   ]
  },
  {
   "cell_type": "markdown",
   "metadata": {},
   "source": [
    "Podemos verificar que em todas as transações em que comerciantes aparecem, são destinatários e em nenhuma ocorre fraude. \n",
    "\n",
    "\n",
    "Essa informação é interessante para a árvore de decisão, então vamos simplificar os dados removendo as colunas de nome e adicionando uma nova coluna indicando quando uma transação envolve um comerciante."
   ]
  },
  {
   "cell_type": "code",
   "execution_count": 6,
   "metadata": {},
   "outputs": [
    {
     "data": {
      "text/html": [
       "<div>\n",
       "<style scoped>\n",
       "    .dataframe tbody tr th:only-of-type {\n",
       "        vertical-align: middle;\n",
       "    }\n",
       "\n",
       "    .dataframe tbody tr th {\n",
       "        vertical-align: top;\n",
       "    }\n",
       "\n",
       "    .dataframe thead th {\n",
       "        text-align: right;\n",
       "    }\n",
       "</style>\n",
       "<table border=\"1\" class=\"dataframe\">\n",
       "  <thead>\n",
       "    <tr style=\"text-align: right;\">\n",
       "      <th></th>\n",
       "      <th>step</th>\n",
       "      <th>type</th>\n",
       "      <th>amount</th>\n",
       "      <th>oldbalanceOrg</th>\n",
       "      <th>newbalanceOrig</th>\n",
       "      <th>oldbalanceDest</th>\n",
       "      <th>newbalanceDest</th>\n",
       "      <th>isFraud</th>\n",
       "      <th>isFlaggedFraud</th>\n",
       "      <th>hasMerchantAccount</th>\n",
       "    </tr>\n",
       "  </thead>\n",
       "  <tbody>\n",
       "    <tr>\n",
       "      <th>0</th>\n",
       "      <td>1</td>\n",
       "      <td>PAYMENT</td>\n",
       "      <td>9839.64</td>\n",
       "      <td>170136.0</td>\n",
       "      <td>160296.36</td>\n",
       "      <td>0.0</td>\n",
       "      <td>0.0</td>\n",
       "      <td>0</td>\n",
       "      <td>0</td>\n",
       "      <td>1</td>\n",
       "    </tr>\n",
       "    <tr>\n",
       "      <th>1</th>\n",
       "      <td>1</td>\n",
       "      <td>PAYMENT</td>\n",
       "      <td>1864.28</td>\n",
       "      <td>21249.0</td>\n",
       "      <td>19384.72</td>\n",
       "      <td>0.0</td>\n",
       "      <td>0.0</td>\n",
       "      <td>0</td>\n",
       "      <td>0</td>\n",
       "      <td>1</td>\n",
       "    </tr>\n",
       "    <tr>\n",
       "      <th>2</th>\n",
       "      <td>1</td>\n",
       "      <td>TRANSFER</td>\n",
       "      <td>181.00</td>\n",
       "      <td>181.0</td>\n",
       "      <td>0.00</td>\n",
       "      <td>0.0</td>\n",
       "      <td>0.0</td>\n",
       "      <td>1</td>\n",
       "      <td>0</td>\n",
       "      <td>0</td>\n",
       "    </tr>\n",
       "    <tr>\n",
       "      <th>3</th>\n",
       "      <td>1</td>\n",
       "      <td>CASH_OUT</td>\n",
       "      <td>181.00</td>\n",
       "      <td>181.0</td>\n",
       "      <td>0.00</td>\n",
       "      <td>21182.0</td>\n",
       "      <td>0.0</td>\n",
       "      <td>1</td>\n",
       "      <td>0</td>\n",
       "      <td>0</td>\n",
       "    </tr>\n",
       "    <tr>\n",
       "      <th>4</th>\n",
       "      <td>1</td>\n",
       "      <td>PAYMENT</td>\n",
       "      <td>11668.14</td>\n",
       "      <td>41554.0</td>\n",
       "      <td>29885.86</td>\n",
       "      <td>0.0</td>\n",
       "      <td>0.0</td>\n",
       "      <td>0</td>\n",
       "      <td>0</td>\n",
       "      <td>1</td>\n",
       "    </tr>\n",
       "  </tbody>\n",
       "</table>\n",
       "</div>"
      ],
      "text/plain": [
       "   step      type    amount  oldbalanceOrg  newbalanceOrig  oldbalanceDest  \\\n",
       "0     1   PAYMENT   9839.64       170136.0       160296.36             0.0   \n",
       "1     1   PAYMENT   1864.28        21249.0        19384.72             0.0   \n",
       "2     1  TRANSFER    181.00          181.0            0.00             0.0   \n",
       "3     1  CASH_OUT    181.00          181.0            0.00         21182.0   \n",
       "4     1   PAYMENT  11668.14        41554.0        29885.86             0.0   \n",
       "\n",
       "   newbalanceDest  isFraud  isFlaggedFraud  hasMerchantAccount  \n",
       "0             0.0        0               0                   1  \n",
       "1             0.0        0               0                   1  \n",
       "2             0.0        1               0                   0  \n",
       "3             0.0        1               0                   0  \n",
       "4             0.0        0               0                   1  "
      ]
     },
     "execution_count": 6,
     "metadata": {},
     "output_type": "execute_result"
    }
   ],
   "source": [
    "data['hasMerchantAccount'] = numpy.where(data['nameDest'].str.match('M'), 1, 0)\n",
    "reduced_data = data.drop(columns=['nameOrig', 'nameDest'])\n",
    "reduced_data.head()"
   ]
  },
  {
   "cell_type": "markdown",
   "metadata": {},
   "source": [
    "### Relação de `step` com `isFraud`"
   ]
  },
  {
   "cell_type": "markdown",
   "metadata": {},
   "source": [
    "Como a coluna `step` indica horas desde o inicio da observação, vamos verificar como o número de transações está distribuído ao longo de dias."
   ]
  },
  {
   "cell_type": "code",
   "execution_count": 7,
   "metadata": {},
   "outputs": [
    {
     "data": {
      "image/png": "[encoded data removed]",
      "text/plain": [
       "<Figure size 1440x720 with 2 Axes>"
      ]
     },
     "metadata": {
      "needs_background": "light"
     },
     "output_type": "display_data"
    }
   ],
   "source": [
    "stepAmounts = data.groupby('step').size().array\n",
    "stepAmounts = numpy.array(stepAmounts, dtype=object)\n",
    "stepAmounts = numpy.append(stepAmounts, 0)  # Falta 1 hora para completar 31 dias\n",
    "stepAmounts = stepAmounts.reshape(int(numpy.ceil(len(stepAmounts)/24)), 24)\n",
    "stepAmounts = stepAmounts.astype(float)\n",
    "\n",
    "fig, ax = plt.subplots(figsize=(20, 10))\n",
    "ax = seaborn.heatmap(stepAmounts.T)\n",
    "ax.set_ylabel('Hora', fontsize=20)\n",
    "ax.set_xlabel('dia', fontsize=20)\n",
    "ax.set_title('Quantidade de transações por hora', fontsize=20)\n",
    "fig.savefig('transacoes_por_hora.jpg')"
   ]
  },
  {
   "cell_type": "code",
   "execution_count": 8,
   "metadata": {},
   "outputs": [
    {
     "name": "stdout",
     "output_type": "stream",
     "text": [
      "Não houve fraude na hora:  347\n",
      "Não houve fraude na hora:  545\n"
     ]
    }
   ],
   "source": [
    "expected = 1\n",
    "for i in fraud_transactions.groupby('step').size().keys():\n",
    "    if i != expected:\n",
    "        print('Não houve fraude na hora: ', expected)\n",
    "    expected = i+1"
   ]
  },
  {
   "cell_type": "code",
   "execution_count": 9,
   "metadata": {},
   "outputs": [
    {
     "data": {
      "image/png": "[encoded data removed]",
      "text/plain": [
       "<Figure size 1440x720 with 2 Axes>"
      ]
     },
     "metadata": {
      "needs_background": "light"
     },
     "output_type": "display_data"
    }
   ],
   "source": [
    "stepAmounts = fraud_transactions.groupby('step').size().array\n",
    "stepAmounts = numpy.array(stepAmounts, dtype=object)\n",
    "stepAmounts = numpy.insert(stepAmounts, 346, 0) # Não há fraude na hora 347\n",
    "stepAmounts = numpy.insert(stepAmounts, 544, 0) # Não há fraude na hora 545\n",
    "stepAmounts = numpy.append(stepAmounts, 0)      # Falta 1 hora para completar 31 dias\n",
    "stepAmounts = stepAmounts.reshape(int(numpy.ceil(len(stepAmounts)/24)), 24)\n",
    "stepAmounts = stepAmounts.astype(float)\n",
    "\n",
    "fig, ax = plt.subplots(figsize=(20, 10))\n",
    "ax = seaborn.heatmap(stepAmounts.T)\n",
    "ax.set_ylabel('Hora', fontsize=20)\n",
    "ax.set_xlabel('dia', fontsize=20)\n",
    "ax.set_title('Quantidade de transações fraudulentas por hora', fontsize=20)\n",
    "fig.savefig('transacoes_fraudulentas_por_hora.jpg')"
   ]
  },
  {
   "cell_type": "markdown",
   "metadata": {},
   "source": [
    "Podemos ver que os primeiros 17 dias com exceção do terceiro, quarto e quinto dias ocorrem muitas transações por volta dos mesmos horários. No entanto, quando olhamos só para transações fraudulentas, vemos que estão distribuídas de maneira bastante uniforme. \n",
    "Logo, a coluna `step` não oferece nenhuma informação quanto se uma dada transferência é fraudulenta ou não.\n",
    "\n",
    "\n",
    "No entanto, essa informação poderá ser importante no momento de escolher dados de entrada para o algoritmo de solução, logo removeremos essa coluna posteriormente."
   ]
  },
  {
   "cell_type": "markdown",
   "metadata": {},
   "source": [
    "### Relação de `type` com `isFraud`"
   ]
  },
  {
   "cell_type": "markdown",
   "metadata": {},
   "source": [
    "Nesta etapa iremos avaliar a relação dos tipos de operação e as ocorrências de fraudes.\n",
    "\n",
    "\n",
    "Inicialmente, descobrimos os tipos de operações existentes na base de dados, e em seguida verificamos a quantidade de ocorrência de fraudes para cada tipo encontrado:"
   ]
  },
  {
   "cell_type": "code",
   "execution_count": 10,
   "metadata": {},
   "outputs": [
    {
     "name": "stdout",
     "output_type": "stream",
     "text": [
      "Fraudes ocorridas como PAYMENT : 0\n",
      "Fraudes ocorridas como TRANSFER : 4097\n",
      "Fraudes ocorridas como CASH_OUT : 4116\n",
      "Fraudes ocorridas como DEBIT : 0\n",
      "Fraudes ocorridas como CASH_IN : 0\n"
     ]
    }
   ],
   "source": [
    "transactionTypes = list(dict.fromkeys(data['type']))\n",
    "\n",
    "for type in transactionTypes:\n",
    "    print(\"Fraudes ocorridas como\", type, \":\", len(fraud_transactions.loc[fraud_transactions['type'].str.match(type)]))"
   ]
  },
  {
   "cell_type": "markdown",
   "metadata": {},
   "source": [
    "Percebemos que em apenas dois dos cinco tipos ocorrem fraudes: **TRANSFER** e **CASH_OUT**.\n",
    "\n",
    "Fazendo a seguinte análise:"
   ]
  },
  {
   "cell_type": "code",
   "execution_count": 11,
   "metadata": {},
   "outputs": [
    {
     "data": {
      "image/png": "[encoded data removed]",
      "text/plain": [
       "<Figure size 1440x720 with 1 Axes>"
      ]
     },
     "metadata": {
      "needs_background": "light"
     },
     "output_type": "display_data"
    },
    {
     "name": "stdout",
     "output_type": "stream",
     "text": [
      "Quantidade total de operações:  6362620\n",
      "Quantidade de transferências:  532909 , 8.38 % do total\n",
      "Quantidade de saques:  2237500 , 35.17 % do total\n"
     ]
    }
   ],
   "source": [
    "transfer_amount = len(data.loc[data['type'].str.match('TRANSFER')])\n",
    "cashout_amount = len(data.loc[data['type'].str.match('CASH_OUT')])\n",
    "\n",
    "x_info = ['TRANSFER', 'CASH_OUT']\n",
    "y_info = [4097*100/transfer_amount, 4116*100/cashout_amount]\n",
    "\n",
    "fig, ax = plt.subplots(figsize=(20, 10))\n",
    "bar = ax.bar(x_info, y_info, color=['red', 'blue'], width=0.5, align='center', alpha=0.5, edgecolor='black')\n",
    "ax.bar_label(bar, fontsize=14)\n",
    "ax.tick_params(axis='both', labelsize=14)\n",
    "ax.set_title('Percentual de fraudes por tipo de operação', fontsize=22)\n",
    "ax.set_ylabel('Percentual de fraudes (%)', fontsize=18)\n",
    "fig.savefig('percentual_fraudes_por_tipo_operacao.jpg')\n",
    "plt.show()\n",
    "\n",
    "print(\"Quantidade total de operações: \", len(data))\n",
    "print(\"Quantidade de transferências: \",transfer_amount, \",\", \"{:.2f}\".format((transfer_amount*100)/len(data)), \"% do total\")\n",
    "print(\"Quantidade de saques: \",cashout_amount, \",\", \"{:.2f}\".format((cashout_amount*100)/len(data)),\"% do total\")"
   ]
  },
  {
   "cell_type": "markdown",
   "metadata": {},
   "source": [
    "Observamos que cerca 43.55% das operações são dos tipos **TRANSFER** e **CASH_OUT**, das quais um baixo percentual destas contém fraudes. Desta forma, a coluna `type` pode ser simplificada.\n",
    "\n",
    "Faremos a seguinte modificação na base de dados:\n",
    "* TRANSFER = 1\n",
    "* CASH_OUT = 2\n",
    "* DEBIT, CASH_IN, PAYMENT = 0"
   ]
  },
  {
   "cell_type": "code",
   "execution_count": 12,
   "metadata": {},
   "outputs": [
    {
     "data": {
      "text/html": [
       "<div>\n",
       "<style scoped>\n",
       "    .dataframe tbody tr th:only-of-type {\n",
       "        vertical-align: middle;\n",
       "    }\n",
       "\n",
       "    .dataframe tbody tr th {\n",
       "        vertical-align: top;\n",
       "    }\n",
       "\n",
       "    .dataframe thead th {\n",
       "        text-align: right;\n",
       "    }\n",
       "</style>\n",
       "<table border=\"1\" class=\"dataframe\">\n",
       "  <thead>\n",
       "    <tr style=\"text-align: right;\">\n",
       "      <th></th>\n",
       "      <th>step</th>\n",
       "      <th>amount</th>\n",
       "      <th>oldbalanceOrg</th>\n",
       "      <th>newbalanceOrig</th>\n",
       "      <th>oldbalanceDest</th>\n",
       "      <th>newbalanceDest</th>\n",
       "      <th>isFraud</th>\n",
       "      <th>isFlaggedFraud</th>\n",
       "      <th>hasMerchantAccount</th>\n",
       "      <th>simplified_type</th>\n",
       "    </tr>\n",
       "  </thead>\n",
       "  <tbody>\n",
       "    <tr>\n",
       "      <th>0</th>\n",
       "      <td>1</td>\n",
       "      <td>9839.64</td>\n",
       "      <td>170136.0</td>\n",
       "      <td>160296.36</td>\n",
       "      <td>0.0</td>\n",
       "      <td>0.0</td>\n",
       "      <td>0</td>\n",
       "      <td>0</td>\n",
       "      <td>1</td>\n",
       "      <td>0</td>\n",
       "    </tr>\n",
       "    <tr>\n",
       "      <th>1</th>\n",
       "      <td>1</td>\n",
       "      <td>1864.28</td>\n",
       "      <td>21249.0</td>\n",
       "      <td>19384.72</td>\n",
       "      <td>0.0</td>\n",
       "      <td>0.0</td>\n",
       "      <td>0</td>\n",
       "      <td>0</td>\n",
       "      <td>1</td>\n",
       "      <td>0</td>\n",
       "    </tr>\n",
       "    <tr>\n",
       "      <th>2</th>\n",
       "      <td>1</td>\n",
       "      <td>181.00</td>\n",
       "      <td>181.0</td>\n",
       "      <td>0.00</td>\n",
       "      <td>0.0</td>\n",
       "      <td>0.0</td>\n",
       "      <td>1</td>\n",
       "      <td>0</td>\n",
       "      <td>0</td>\n",
       "      <td>1</td>\n",
       "    </tr>\n",
       "    <tr>\n",
       "      <th>3</th>\n",
       "      <td>1</td>\n",
       "      <td>181.00</td>\n",
       "      <td>181.0</td>\n",
       "      <td>0.00</td>\n",
       "      <td>21182.0</td>\n",
       "      <td>0.0</td>\n",
       "      <td>1</td>\n",
       "      <td>0</td>\n",
       "      <td>0</td>\n",
       "      <td>2</td>\n",
       "    </tr>\n",
       "    <tr>\n",
       "      <th>4</th>\n",
       "      <td>1</td>\n",
       "      <td>11668.14</td>\n",
       "      <td>41554.0</td>\n",
       "      <td>29885.86</td>\n",
       "      <td>0.0</td>\n",
       "      <td>0.0</td>\n",
       "      <td>0</td>\n",
       "      <td>0</td>\n",
       "      <td>1</td>\n",
       "      <td>0</td>\n",
       "    </tr>\n",
       "  </tbody>\n",
       "</table>\n",
       "</div>"
      ],
      "text/plain": [
       "   step    amount  oldbalanceOrg  newbalanceOrig  oldbalanceDest  \\\n",
       "0     1   9839.64       170136.0       160296.36             0.0   \n",
       "1     1   1864.28        21249.0        19384.72             0.0   \n",
       "2     1    181.00          181.0            0.00             0.0   \n",
       "3     1    181.00          181.0            0.00         21182.0   \n",
       "4     1  11668.14        41554.0        29885.86             0.0   \n",
       "\n",
       "   newbalanceDest  isFraud  isFlaggedFraud  hasMerchantAccount  \\\n",
       "0             0.0        0               0                   1   \n",
       "1             0.0        0               0                   1   \n",
       "2             0.0        1               0                   0   \n",
       "3             0.0        1               0                   0   \n",
       "4             0.0        0               0                   1   \n",
       "\n",
       "   simplified_type  \n",
       "0                0  \n",
       "1                0  \n",
       "2                1  \n",
       "3                2  \n",
       "4                0  "
      ]
     },
     "execution_count": 12,
     "metadata": {},
     "output_type": "execute_result"
    }
   ],
   "source": [
    "conditions = [data['type'].str.match('TRANSFER'), \n",
    "              data['type'].str.match('CASH_OUT'), \n",
    "              (data['type'].str.match('DEBIT')) | (data['type'].str.match('CASH_IN')) | (data['type'].str.match('PAYMENT'))]\n",
    "choices    = [1, 2, 0]\n",
    "reduced_data['simplified_type'] = numpy.select(conditions, choices)\n",
    "reduced_data = reduced_data.drop(columns=['type'])\n",
    "reduced_data.head()"
   ]
  },
  {
   "cell_type": "markdown",
   "metadata": {},
   "source": [
    "Em adição, a coluna `isFlaggedFraud` apresenta informação redundante. Portanto, também iremos removê-la da tabela."
   ]
  },
  {
   "cell_type": "code",
   "execution_count": 13,
   "metadata": {},
   "outputs": [
    {
     "data": {
      "text/html": [
       "<div>\n",
       "<style scoped>\n",
       "    .dataframe tbody tr th:only-of-type {\n",
       "        vertical-align: middle;\n",
       "    }\n",
       "\n",
       "    .dataframe tbody tr th {\n",
       "        vertical-align: top;\n",
       "    }\n",
       "\n",
       "    .dataframe thead th {\n",
       "        text-align: right;\n",
       "    }\n",
       "</style>\n",
       "<table border=\"1\" class=\"dataframe\">\n",
       "  <thead>\n",
       "    <tr style=\"text-align: right;\">\n",
       "      <th></th>\n",
       "      <th>step</th>\n",
       "      <th>amount</th>\n",
       "      <th>oldbalanceOrg</th>\n",
       "      <th>newbalanceOrig</th>\n",
       "      <th>oldbalanceDest</th>\n",
       "      <th>newbalanceDest</th>\n",
       "      <th>isFraud</th>\n",
       "      <th>hasMerchantAccount</th>\n",
       "      <th>simplified_type</th>\n",
       "    </tr>\n",
       "  </thead>\n",
       "  <tbody>\n",
       "    <tr>\n",
       "      <th>0</th>\n",
       "      <td>1</td>\n",
       "      <td>9839.64</td>\n",
       "      <td>170136.0</td>\n",
       "      <td>160296.36</td>\n",
       "      <td>0.0</td>\n",
       "      <td>0.0</td>\n",
       "      <td>0</td>\n",
       "      <td>1</td>\n",
       "      <td>0</td>\n",
       "    </tr>\n",
       "    <tr>\n",
       "      <th>1</th>\n",
       "      <td>1</td>\n",
       "      <td>1864.28</td>\n",
       "      <td>21249.0</td>\n",
       "      <td>19384.72</td>\n",
       "      <td>0.0</td>\n",
       "      <td>0.0</td>\n",
       "      <td>0</td>\n",
       "      <td>1</td>\n",
       "      <td>0</td>\n",
       "    </tr>\n",
       "    <tr>\n",
       "      <th>2</th>\n",
       "      <td>1</td>\n",
       "      <td>181.00</td>\n",
       "      <td>181.0</td>\n",
       "      <td>0.00</td>\n",
       "      <td>0.0</td>\n",
       "      <td>0.0</td>\n",
       "      <td>1</td>\n",
       "      <td>0</td>\n",
       "      <td>1</td>\n",
       "    </tr>\n",
       "    <tr>\n",
       "      <th>3</th>\n",
       "      <td>1</td>\n",
       "      <td>181.00</td>\n",
       "      <td>181.0</td>\n",
       "      <td>0.00</td>\n",
       "      <td>21182.0</td>\n",
       "      <td>0.0</td>\n",
       "      <td>1</td>\n",
       "      <td>0</td>\n",
       "      <td>2</td>\n",
       "    </tr>\n",
       "    <tr>\n",
       "      <th>4</th>\n",
       "      <td>1</td>\n",
       "      <td>11668.14</td>\n",
       "      <td>41554.0</td>\n",
       "      <td>29885.86</td>\n",
       "      <td>0.0</td>\n",
       "      <td>0.0</td>\n",
       "      <td>0</td>\n",
       "      <td>1</td>\n",
       "      <td>0</td>\n",
       "    </tr>\n",
       "  </tbody>\n",
       "</table>\n",
       "</div>"
      ],
      "text/plain": [
       "   step    amount  oldbalanceOrg  newbalanceOrig  oldbalanceDest  \\\n",
       "0     1   9839.64       170136.0       160296.36             0.0   \n",
       "1     1   1864.28        21249.0        19384.72             0.0   \n",
       "2     1    181.00          181.0            0.00             0.0   \n",
       "3     1    181.00          181.0            0.00         21182.0   \n",
       "4     1  11668.14        41554.0        29885.86             0.0   \n",
       "\n",
       "   newbalanceDest  isFraud  hasMerchantAccount  simplified_type  \n",
       "0             0.0        0                   1                0  \n",
       "1             0.0        0                   1                0  \n",
       "2             0.0        1                   0                1  \n",
       "3             0.0        1                   0                2  \n",
       "4             0.0        0                   1                0  "
      ]
     },
     "execution_count": 13,
     "metadata": {},
     "output_type": "execute_result"
    }
   ],
   "source": [
    "reduced_data = reduced_data.drop(columns=['isFlaggedFraud'])\n",
    "reduced_data.head()"
   ]
  },
  {
   "cell_type": "code",
   "execution_count": 14,
   "metadata": {},
   "outputs": [
    {
     "data": {
      "text/html": [
       "<div>\n",
       "<style scoped>\n",
       "    .dataframe tbody tr th:only-of-type {\n",
       "        vertical-align: middle;\n",
       "    }\n",
       "\n",
       "    .dataframe tbody tr th {\n",
       "        vertical-align: top;\n",
       "    }\n",
       "\n",
       "    .dataframe thead th {\n",
       "        text-align: right;\n",
       "    }\n",
       "</style>\n",
       "<table border=\"1\" class=\"dataframe\">\n",
       "  <thead>\n",
       "    <tr style=\"text-align: right;\">\n",
       "      <th></th>\n",
       "      <th>hasMerchantAccount</th>\n",
       "      <th>simplified_type</th>\n",
       "      <th>step</th>\n",
       "      <th>amount</th>\n",
       "      <th>oldbalanceOrg</th>\n",
       "      <th>newbalanceOrig</th>\n",
       "      <th>oldbalanceDest</th>\n",
       "      <th>newbalanceDest</th>\n",
       "      <th>isFraud</th>\n",
       "    </tr>\n",
       "  </thead>\n",
       "  <tbody>\n",
       "    <tr>\n",
       "      <th>0</th>\n",
       "      <td>1</td>\n",
       "      <td>0</td>\n",
       "      <td>1</td>\n",
       "      <td>9839.64</td>\n",
       "      <td>170136.0</td>\n",
       "      <td>160296.36</td>\n",
       "      <td>0.0</td>\n",
       "      <td>0.0</td>\n",
       "      <td>0</td>\n",
       "    </tr>\n",
       "    <tr>\n",
       "      <th>1</th>\n",
       "      <td>1</td>\n",
       "      <td>0</td>\n",
       "      <td>1</td>\n",
       "      <td>1864.28</td>\n",
       "      <td>21249.0</td>\n",
       "      <td>19384.72</td>\n",
       "      <td>0.0</td>\n",
       "      <td>0.0</td>\n",
       "      <td>0</td>\n",
       "    </tr>\n",
       "    <tr>\n",
       "      <th>2</th>\n",
       "      <td>0</td>\n",
       "      <td>1</td>\n",
       "      <td>1</td>\n",
       "      <td>181.00</td>\n",
       "      <td>181.0</td>\n",
       "      <td>0.00</td>\n",
       "      <td>0.0</td>\n",
       "      <td>0.0</td>\n",
       "      <td>1</td>\n",
       "    </tr>\n",
       "    <tr>\n",
       "      <th>3</th>\n",
       "      <td>0</td>\n",
       "      <td>2</td>\n",
       "      <td>1</td>\n",
       "      <td>181.00</td>\n",
       "      <td>181.0</td>\n",
       "      <td>0.00</td>\n",
       "      <td>21182.0</td>\n",
       "      <td>0.0</td>\n",
       "      <td>1</td>\n",
       "    </tr>\n",
       "    <tr>\n",
       "      <th>4</th>\n",
       "      <td>1</td>\n",
       "      <td>0</td>\n",
       "      <td>1</td>\n",
       "      <td>11668.14</td>\n",
       "      <td>41554.0</td>\n",
       "      <td>29885.86</td>\n",
       "      <td>0.0</td>\n",
       "      <td>0.0</td>\n",
       "      <td>0</td>\n",
       "    </tr>\n",
       "  </tbody>\n",
       "</table>\n",
       "</div>"
      ],
      "text/plain": [
       "   hasMerchantAccount  simplified_type  step    amount  oldbalanceOrg  \\\n",
       "0                   1                0     1   9839.64       170136.0   \n",
       "1                   1                0     1   1864.28        21249.0   \n",
       "2                   0                1     1    181.00          181.0   \n",
       "3                   0                2     1    181.00          181.0   \n",
       "4                   1                0     1  11668.14        41554.0   \n",
       "\n",
       "   newbalanceOrig  oldbalanceDest  newbalanceDest  isFraud  \n",
       "0       160296.36             0.0             0.0        0  \n",
       "1        19384.72             0.0             0.0        0  \n",
       "2            0.00             0.0             0.0        1  \n",
       "3            0.00         21182.0             0.0        1  \n",
       "4        29885.86             0.0             0.0        0  "
      ]
     },
     "execution_count": 14,
     "metadata": {},
     "output_type": "execute_result"
    }
   ],
   "source": [
    "cols = reduced_data['hasMerchantAccount']\n",
    "reduced_data = reduced_data.drop(columns=['hasMerchantAccount'])\n",
    "reduced_data.insert(0, 'hasMerchantAccount', cols)\n",
    "\n",
    "cols = reduced_data['simplified_type']\n",
    "reduced_data = reduced_data.drop(columns=['simplified_type'])\n",
    "reduced_data.insert(1, 'simplified_type', cols)\n",
    "reduced_data.head()"
   ]
  },
  {
   "cell_type": "code",
   "execution_count": 15,
   "metadata": {},
   "outputs": [],
   "source": [
    "reduced_data.to_csv('reduced_data.csv', index=False)"
   ]
  },
  {
   "cell_type": "markdown",
   "metadata": {},
   "source": [
    "A partir da tabela resultante, podemos seguir para a etapa de solução do problema."
   ]
  }
 ],
 "metadata": {
  "interpreter": {
   "hash": "816c4ca1a442304386b640facc7eeaee53f275019272c999ca11fec791461f00"
  },
  "kernelspec": {
   "display_name": "Python 3.10.2 64-bit",
   "language": "python",
   "name": "python3"
  },
  "language_info": {
   "codemirror_mode": {
    "name": "ipython",
    "version": 3
   },
   "file_extension": ".py",
   "mimetype": "text/x-python",
   "name": "python",
   "nbconvert_exporter": "python",
   "pygments_lexer": "ipython3",
   "version": "3.9.1"
  },
  "orig_nbformat": 4
 },
 "nbformat": 4,
 "nbformat_minor": 2
}
