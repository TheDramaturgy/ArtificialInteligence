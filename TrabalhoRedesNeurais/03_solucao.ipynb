{
 "cells": [
  {
   "cell_type": "markdown",
   "metadata": {},
   "source": [
    "**Instituto de Informática - UFG**\n",
    "\n",
    "Disciplina: Inteligência Computacional\n",
    "\n",
    "Prof. Cedric Luiz de Carvalho\n",
    "\n",
    "\n",
    "Grupo ( J )\n",
    "\n",
    "---\n",
    "\n",
    "\n",
    "Analista de dados:\n",
    "* Arthur Cavalcante de Andrade\n",
    "\n",
    "---"
   ]
  },
  {
   "cell_type": "markdown",
   "metadata": {},
   "source": [
    "# Solução para o Problema"
   ]
  },
  {
   "cell_type": "markdown",
   "metadata": {},
   "source": [
    "O problema remete à previsão do óbito de pacientes internados.\n",
    "\n",
    "Dessa forma, iremos implementar uma rede neural que seja capaz de prever se um paciente que foi internado em um hospital irá morrer ou não."
   ]
  },
  {
   "cell_type": "markdown",
   "metadata": {},
   "source": [
    "#### Carregando as bibliotecas e módulos necessários"
   ]
  },
  {
   "cell_type": "code",
   "execution_count": 137,
   "metadata": {},
   "outputs": [],
   "source": [
    "import pandas as pd\n",
    "import numpy as np \n",
    "import matplotlib.pyplot as plt\n",
    "import sklearn\n",
    "from sklearn.neural_network import MLPClassifier\n",
    "from sklearn.neural_network import MLPRegressor\n",
    "from sklearn.model_selection import train_test_split\n",
    "from sklearn.metrics import mean_squared_error, ConfusionMatrixDisplay\n",
    "from sklearn.metrics import classification_report,confusion_matrix, plot_confusion_matrix\n",
    "from math import sqrt\n",
    "from sklearn.metrics import r2_score\n",
    "from sklearn.datasets import make_classification\n",
    "from sklearn.svm import SVC"
   ]
  },
  {
   "cell_type": "markdown",
   "metadata": {},
   "source": [
    "#### Lendo os dados e realizando verificações básicas de dados"
   ]
  },
  {
   "cell_type": "code",
   "execution_count": 2,
   "metadata": {},
   "outputs": [
    {
     "name": "stdout",
     "output_type": "stream",
     "text": [
      "(91713, 77)\n"
     ]
    },
    {
     "data": {
      "text/html": [
       "<div>\n",
       "<style scoped>\n",
       "    .dataframe tbody tr th:only-of-type {\n",
       "        vertical-align: middle;\n",
       "    }\n",
       "\n",
       "    .dataframe tbody tr th {\n",
       "        vertical-align: top;\n",
       "    }\n",
       "\n",
       "    .dataframe thead th {\n",
       "        text-align: right;\n",
       "    }\n",
       "</style>\n",
       "<table border=\"1\" class=\"dataframe\">\n",
       "  <thead>\n",
       "    <tr style=\"text-align: right;\">\n",
       "      <th></th>\n",
       "      <th>count</th>\n",
       "      <th>mean</th>\n",
       "      <th>std</th>\n",
       "      <th>min</th>\n",
       "      <th>25%</th>\n",
       "      <th>50%</th>\n",
       "      <th>75%</th>\n",
       "      <th>max</th>\n",
       "    </tr>\n",
       "  </thead>\n",
       "  <tbody>\n",
       "    <tr>\n",
       "      <th>age</th>\n",
       "      <td>91713.0</td>\n",
       "      <td>62.811510</td>\n",
       "      <td>16.632065</td>\n",
       "      <td>16.000000</td>\n",
       "      <td>53.000000</td>\n",
       "      <td>65.000000</td>\n",
       "      <td>76.000000</td>\n",
       "      <td>89.00000</td>\n",
       "    </tr>\n",
       "    <tr>\n",
       "      <th>bmi</th>\n",
       "      <td>91713.0</td>\n",
       "      <td>29.202101</td>\n",
       "      <td>8.136838</td>\n",
       "      <td>14.844926</td>\n",
       "      <td>23.784833</td>\n",
       "      <td>28.000752</td>\n",
       "      <td>32.695312</td>\n",
       "      <td>67.81499</td>\n",
       "    </tr>\n",
       "    <tr>\n",
       "      <th>elective_surgery</th>\n",
       "      <td>91713.0</td>\n",
       "      <td>0.183736</td>\n",
       "      <td>0.387271</td>\n",
       "      <td>0.000000</td>\n",
       "      <td>0.000000</td>\n",
       "      <td>0.000000</td>\n",
       "      <td>0.000000</td>\n",
       "      <td>1.00000</td>\n",
       "    </tr>\n",
       "    <tr>\n",
       "      <th>ethnicity</th>\n",
       "      <td>91713.0</td>\n",
       "      <td>0.635395</td>\n",
       "      <td>1.369270</td>\n",
       "      <td>0.000000</td>\n",
       "      <td>0.000000</td>\n",
       "      <td>0.000000</td>\n",
       "      <td>0.000000</td>\n",
       "      <td>5.00000</td>\n",
       "    </tr>\n",
       "    <tr>\n",
       "      <th>height</th>\n",
       "      <td>91713.0</td>\n",
       "      <td>169.619857</td>\n",
       "      <td>10.841803</td>\n",
       "      <td>137.200000</td>\n",
       "      <td>162.500000</td>\n",
       "      <td>170.100000</td>\n",
       "      <td>177.800000</td>\n",
       "      <td>195.59000</td>\n",
       "    </tr>\n",
       "    <tr>\n",
       "      <th>...</th>\n",
       "      <td>...</td>\n",
       "      <td>...</td>\n",
       "      <td>...</td>\n",
       "      <td>...</td>\n",
       "      <td>...</td>\n",
       "      <td>...</td>\n",
       "      <td>...</td>\n",
       "      <td>...</td>\n",
       "    </tr>\n",
       "    <tr>\n",
       "      <th>leukemia</th>\n",
       "      <td>91713.0</td>\n",
       "      <td>0.007011</td>\n",
       "      <td>0.083438</td>\n",
       "      <td>0.000000</td>\n",
       "      <td>0.000000</td>\n",
       "      <td>0.000000</td>\n",
       "      <td>0.000000</td>\n",
       "      <td>1.00000</td>\n",
       "    </tr>\n",
       "    <tr>\n",
       "      <th>lymphoma</th>\n",
       "      <td>91713.0</td>\n",
       "      <td>0.004100</td>\n",
       "      <td>0.063898</td>\n",
       "      <td>0.000000</td>\n",
       "      <td>0.000000</td>\n",
       "      <td>0.000000</td>\n",
       "      <td>0.000000</td>\n",
       "      <td>1.00000</td>\n",
       "    </tr>\n",
       "    <tr>\n",
       "      <th>solid_tumor_with_metastasis</th>\n",
       "      <td>91713.0</td>\n",
       "      <td>0.020477</td>\n",
       "      <td>0.141626</td>\n",
       "      <td>0.000000</td>\n",
       "      <td>0.000000</td>\n",
       "      <td>0.000000</td>\n",
       "      <td>0.000000</td>\n",
       "      <td>1.00000</td>\n",
       "    </tr>\n",
       "    <tr>\n",
       "      <th>apache_3j_bodysystem</th>\n",
       "      <td>91713.0</td>\n",
       "      <td>4.168777</td>\n",
       "      <td>3.809760</td>\n",
       "      <td>0.000000</td>\n",
       "      <td>0.000000</td>\n",
       "      <td>5.000000</td>\n",
       "      <td>8.000000</td>\n",
       "      <td>10.00000</td>\n",
       "    </tr>\n",
       "    <tr>\n",
       "      <th>hospital_death</th>\n",
       "      <td>91713.0</td>\n",
       "      <td>0.086302</td>\n",
       "      <td>0.280811</td>\n",
       "      <td>0.000000</td>\n",
       "      <td>0.000000</td>\n",
       "      <td>0.000000</td>\n",
       "      <td>0.000000</td>\n",
       "      <td>1.00000</td>\n",
       "    </tr>\n",
       "  </tbody>\n",
       "</table>\n",
       "<p>77 rows × 8 columns</p>\n",
       "</div>"
      ],
      "text/plain": [
       "                               count        mean        std         min  \\\n",
       "age                          91713.0   62.811510  16.632065   16.000000   \n",
       "bmi                          91713.0   29.202101   8.136838   14.844926   \n",
       "elective_surgery             91713.0    0.183736   0.387271    0.000000   \n",
       "ethnicity                    91713.0    0.635395   1.369270    0.000000   \n",
       "height                       91713.0  169.619857  10.841803  137.200000   \n",
       "...                              ...         ...        ...         ...   \n",
       "leukemia                     91713.0    0.007011   0.083438    0.000000   \n",
       "lymphoma                     91713.0    0.004100   0.063898    0.000000   \n",
       "solid_tumor_with_metastasis  91713.0    0.020477   0.141626    0.000000   \n",
       "apache_3j_bodysystem         91713.0    4.168777   3.809760    0.000000   \n",
       "hospital_death               91713.0    0.086302   0.280811    0.000000   \n",
       "\n",
       "                                    25%         50%         75%        max  \n",
       "age                           53.000000   65.000000   76.000000   89.00000  \n",
       "bmi                           23.784833   28.000752   32.695312   67.81499  \n",
       "elective_surgery               0.000000    0.000000    0.000000    1.00000  \n",
       "ethnicity                      0.000000    0.000000    0.000000    5.00000  \n",
       "height                       162.500000  170.100000  177.800000  195.59000  \n",
       "...                                 ...         ...         ...        ...  \n",
       "leukemia                       0.000000    0.000000    0.000000    1.00000  \n",
       "lymphoma                       0.000000    0.000000    0.000000    1.00000  \n",
       "solid_tumor_with_metastasis    0.000000    0.000000    0.000000    1.00000  \n",
       "apache_3j_bodysystem           0.000000    5.000000    8.000000   10.00000  \n",
       "hospital_death                 0.000000    0.000000    0.000000    1.00000  \n",
       "\n",
       "[77 rows x 8 columns]"
      ]
     },
     "execution_count": 2,
     "metadata": {},
     "output_type": "execute_result"
    }
   ],
   "source": [
    "df = pd.read_csv('imputed_dataframe.csv') \n",
    "print(df.shape)\n",
    "df.describe().transpose()"
   ]
  },
  {
   "cell_type": "markdown",
   "metadata": {},
   "source": [
    "Observando o resumo da variável `hospital_death`, observamos que o valor médio é 0.086, o que significa que cerca de 8.6% das observações no conjunto de dados têm diabetes.\n",
    "\n",
    "Visando uma boa proporção nas amostras, podemos considerar fazer uma rede neural com dados de teste que possuem amostras aleatórias, e outra rede neural com a quantidade de mortes e não mortes com proporções equivalentes.\n",
    "\n",
    "Em seguida, comparamos os resultados."
   ]
  },
  {
   "cell_type": "markdown",
   "metadata": {},
   "source": [
    "#### Criando os conjuntos de dados de treinamento e teste"
   ]
  },
  {
   "cell_type": "markdown",
   "metadata": {},
   "source": [
    "Inicialmente dividimos a variável de destino e o resto do conjunto de dados, criamos arrays das variáveis independente e dependentes, e separamos dados de treinamento e de teste."
   ]
  },
  {
   "cell_type": "code",
   "execution_count": 4,
   "metadata": {},
   "outputs": [],
   "source": [
    "#divide a variável de destino e o resto do conjunto de dados\n",
    "target_column = ['hospital_death']\n",
    "predictors = list(set(list(df.columns))-set(target_column))\n",
    "\n",
    "#cria arrays de variáveis independentes (X) e dependentes (Y)\n",
    "X = df[predictors].values\n",
    "y = df[target_column].values"
   ]
  },
  {
   "cell_type": "markdown",
   "metadata": {},
   "source": [
    "##### Dados aleatórios"
   ]
  },
  {
   "cell_type": "markdown",
   "metadata": {},
   "source": [
    "Utilizamos 20% do conjunto de dados de forma aleatória para a realização de treinos, enquanto os outros 80% dos dados serão utilizados para teste de desempenho dos modelos."
   ]
  },
  {
   "cell_type": "code",
   "execution_count": 83,
   "metadata": {},
   "outputs": [
    {
     "name": "stdout",
     "output_type": "stream",
     "text": [
      "Forma dos dados de treinamento e teste:\n",
      "(73370, 76)\n",
      "(18343, 76)\n"
     ]
    }
   ],
   "source": [
    "#divide os dados em conjunto de dados de treinamento e teste\n",
    "X_train, X_test, y_train, y_test = train_test_split(X, y, test_size=0.2, random_state=40)\n",
    "\n",
    "print('Forma dos dados de treinamento e teste:')\n",
    "print(X_train.shape); print(X_test.shape)"
   ]
  },
  {
   "cell_type": "markdown",
   "metadata": {},
   "source": [
    "##### Dados com proporção balanceada"
   ]
  },
  {
   "cell_type": "markdown",
   "metadata": {},
   "source": [
    "Para conseguir utilizar proporções, primeiro separamos conjunto de dados em casos de mortes e não mortes."
   ]
  },
  {
   "cell_type": "code",
   "execution_count": 8,
   "metadata": {},
   "outputs": [],
   "source": [
    "dfcolumns = list(df.columns.values)\n",
    "dfcolumns.remove('hospital_death')\n",
    "dfcolumns\n",
    "\n",
    "death_cases = df.loc[df['hospital_death'] == 1]\n",
    "x_death = death_cases[dfcolumns]\n",
    "y_death = death_cases['hospital_death']\n",
    "\n",
    "non_death_cases = df.loc[df['hospital_death'] == 0]\n",
    "x_non_death = non_death_cases[dfcolumns]\n",
    "y_non_death = non_death_cases['hospital_death']"
   ]
  },
  {
   "cell_type": "code",
   "execution_count": 9,
   "metadata": {},
   "outputs": [
    {
     "name": "stdout",
     "output_type": "stream",
     "text": [
      "Número de entradas com mortes:  7915\n",
      "Número de entradas sem mortes:  83798\n"
     ]
    }
   ],
   "source": [
    "print(\"Número de entradas com mortes: \", len(x_death))\n",
    "print(\"Número de entradas sem mortes: \", len(x_non_death))"
   ]
  },
  {
   "cell_type": "markdown",
   "metadata": {},
   "source": [
    "Distribuímos igualmente a quantidade desses dados em dois parâmetros: `X_balanced` e `y_balanced`\n",
    "\n",
    "Em seguida, distribuimos em proporções iguais e de forma aleatória 50% destes dados para treinamento e teste, como é mostrado no gráfico abaixo."
   ]
  },
  {
   "cell_type": "code",
   "execution_count": 11,
   "metadata": {},
   "outputs": [
    {
     "name": "stdout",
     "output_type": "stream",
     "text": [
      "Forma dos dados de treinamento e teste:\n",
      "(7915, 76)\n",
      "(7915, 76)\n"
     ]
    },
    {
     "data": {
      "text/plain": [
       "<AxesSubplot:title={'center':'Quantidade de dados separados por casos de não morte (0) e morte (1)'}>"
      ]
     },
     "execution_count": 11,
     "metadata": {},
     "output_type": "execute_result"
    },
    {
     "data": {
      "image/png": "[encoded data removed]",
      "text/plain": [
       "<Figure size 432x288 with 1 Axes>"
      ]
     },
     "metadata": {
      "needs_background": "light"
     },
     "output_type": "display_data"
    }
   ],
   "source": [
    "df_balanced = df.groupby('hospital_death').apply(lambda x: x.sample(7915))\n",
    "\n",
    "y_balanced = df_balanced['hospital_death'].copy()\n",
    "X_balanced = df_balanced.drop('hospital_death', axis=1).copy()\n",
    "\n",
    "X_train_balanced, X_test_balanced, y_train_balanced, y_test_balanced =  train_test_split(X_balanced, y_balanced, test_size=0.5, random_state=2)\n",
    "\n",
    "print('Forma dos dados de treinamento e teste:')\n",
    "print(X_train_balanced.shape); print(X_test_balanced.shape)\n",
    "\n",
    "y_train_balanced.value_counts().plot(kind='barh', title='Quantidade de dados separados por casos de não morte (0) e morte (1)')"
   ]
  },
  {
   "cell_type": "markdown",
   "metadata": {},
   "source": [
    "#### Construindo, Prevendo e Avaliando o Modelo de Rede Neural"
   ]
  },
  {
   "cell_type": "markdown",
   "metadata": {},
   "source": [
    "Nesta etapa, construiremos o modelo de rede neural usando o objeto estimador da biblioteca scikit-learn, **Multi-Layer Perceptron Classifier**."
   ]
  },
  {
   "cell_type": "markdown",
   "metadata": {},
   "source": [
    "##### Dados aleatórios"
   ]
  },
  {
   "cell_type": "markdown",
   "metadata": {},
   "source": [
    "Inicialmente construímos o modelo de rede neural com os dados aleatórios.\n",
    "\n",
    "A primeira linha instancia o modelo com o argumento `hidden_layer_sizes` definido como três camadas, que tem o mesmo número de neurônios que a contagem de recursos no conjunto de dados (neste caso 76, como exibido na célula de código anterior). \n",
    "\n",
    "A segunda linha ajusta o modelo de dados ao treinamento, enquanto a terceira e quarta linhas usam o modelo treinado para gerar previsões no conjunto de dados de treinamento e teste, respectivamente."
   ]
  },
  {
   "cell_type": "code",
   "execution_count": 157,
   "metadata": {},
   "outputs": [
    {
     "name": "stderr",
     "output_type": "stream",
     "text": [
      "C:\\Users\\TECNO\\AppData\\Local\\Programs\\Python\\Python39\\lib\\site-packages\\sklearn\\neural_network\\_multilayer_perceptron.py:1109: DataConversionWarning: A column-vector y was passed when a 1d array was expected. Please change the shape of y to (n_samples, ), for example using ravel().\n",
      "  y = column_or_1d(y, warn=True)\n"
     ]
    },
    {
     "data": {
      "text/plain": [
       "MLPClassifier(activation='logistic', hidden_layer_sizes=(76, 76, 76),\n",
       "              max_iter=500)"
      ]
     },
     "execution_count": 157,
     "metadata": {},
     "output_type": "execute_result"
    }
   ],
   "source": [
    "mlp = MLPClassifier(hidden_layer_sizes=(76,76,76), activation='logistic', solver='adam', max_iter=500)\n",
    "mlp.fit(X_train,y_train)"
   ]
  },
  {
   "cell_type": "code",
   "execution_count": 158,
   "metadata": {},
   "outputs": [],
   "source": [
    "predict_train = mlp.predict(X_train)\n",
    "predict_test = mlp.predict(X_test)"
   ]
  },
  {
   "cell_type": "markdown",
   "metadata": {},
   "source": [
    "Uma vez que as previsões são geradas, podemos avaliar o desempenho do modelo.\n",
    "\n",
    "O código abaixo imprime a matriz de confusão e os resultados do relatório de confusão nos dados de treinamento."
   ]
  },
  {
   "cell_type": "code",
   "execution_count": 179,
   "metadata": {},
   "outputs": [
    {
     "name": "stdout",
     "output_type": "stream",
     "text": [
      "Resultados para 'predict_train':\n"
     ]
    },
    {
     "data": {
      "image/png": "[encoded data removed]",
      "text/plain": [
       "<Figure size 432x288 with 2 Axes>"
      ]
     },
     "metadata": {
      "needs_background": "light"
     },
     "output_type": "display_data"
    },
    {
     "name": "stdout",
     "output_type": "stream",
     "text": [
      "              precision    recall  f1-score   support\n",
      "\n",
      "           0       0.94      0.98      0.96     67064\n",
      "           1       0.59      0.30      0.39      6306\n",
      "\n",
      "    accuracy                           0.92     73370\n",
      "   macro avg       0.76      0.64      0.68     73370\n",
      "weighted avg       0.91      0.92      0.91     73370\n",
      "\n"
     ]
    },
    {
     "data": {
      "text/plain": [
       "<Figure size 432x288 with 0 Axes>"
      ]
     },
     "metadata": {},
     "output_type": "display_data"
    }
   ],
   "source": [
    "print(\"Resultados para 'predict_train':\")\n",
    "#print(confusion_matrix(y_train,predict_train))\n",
    "cm = confusion_matrix(y_train, predict_train, labels=mlp.classes_)\n",
    "disp = ConfusionMatrixDisplay(confusion_matrix=cm, display_labels=mlp.classes_)\n",
    "disp.plot()\n",
    "plt.show()\n",
    "plt.savefig('predict_train.png')\n",
    "\n",
    "print(classification_report(y_train,predict_train))"
   ]
  },
  {
   "cell_type": "markdown",
   "metadata": {},
   "source": [
    "O próximo passo é avaliar o desempenho do modelo nos dados de teste."
   ]
  },
  {
   "cell_type": "code",
   "execution_count": 178,
   "metadata": {},
   "outputs": [
    {
     "name": "stdout",
     "output_type": "stream",
     "text": [
      "Resultados para 'predict_test':\n"
     ]
    },
    {
     "data": {
      "image/png": "[encoded data removed]",
      "text/plain": [
       "<Figure size 432x288 with 2 Axes>"
      ]
     },
     "metadata": {
      "needs_background": "light"
     },
     "output_type": "display_data"
    },
    {
     "name": "stdout",
     "output_type": "stream",
     "text": [
      "              precision    recall  f1-score   support\n",
      "\n",
      "           0       0.94      0.98      0.96     16734\n",
      "           1       0.62      0.31      0.41      1609\n",
      "\n",
      "    accuracy                           0.92     18343\n",
      "   macro avg       0.78      0.64      0.68     18343\n",
      "weighted avg       0.91      0.92      0.91     18343\n",
      "\n"
     ]
    },
    {
     "data": {
      "text/plain": [
       "<Figure size 432x288 with 0 Axes>"
      ]
     },
     "metadata": {},
     "output_type": "display_data"
    }
   ],
   "source": [
    "print(\"Resultados para 'predict_test':\")\n",
    "#print(confusion_matrix(y_test,predict_test))\n",
    "cm = confusion_matrix(y_test, predict_test, labels=mlp.classes_)\n",
    "disp = ConfusionMatrixDisplay(confusion_matrix=cm, display_labels=mlp.classes_)\n",
    "disp.plot()\n",
    "plt.show()\n",
    "plt.savefig('predict_test.png')\n",
    "\n",
    "print(classification_report(y_test,predict_test))"
   ]
  },
  {
   "cell_type": "markdown",
   "metadata": {},
   "source": [
    "##### Dados com proporção balanceada"
   ]
  },
  {
   "cell_type": "markdown",
   "metadata": {},
   "source": [
    "Em seguida, construímos o modelo de rede neural com os dados proporcionalmente balanceados.\n",
    "\n",
    "Utilizamos os mesmos parâmetros definidos anteriormente para a construção da rede neural, alterando apenas os dados de treinamento."
   ]
  },
  {
   "cell_type": "code",
   "execution_count": 174,
   "metadata": {},
   "outputs": [
    {
     "data": {
      "text/plain": [
       "MLPClassifier(activation='logistic', hidden_layer_sizes=(76, 76, 76),\n",
       "              max_iter=500)"
      ]
     },
     "execution_count": 174,
     "metadata": {},
     "output_type": "execute_result"
    }
   ],
   "source": [
    "mlp_balanced = MLPClassifier(hidden_layer_sizes=(76,76,76), activation='logistic', solver='adam', max_iter=500)\n",
    "mlp_balanced.fit(X_train_balanced,y_train_balanced)"
   ]
  },
  {
   "cell_type": "markdown",
   "metadata": {},
   "source": [
    "Após a geração das previsões, novamente podemos avaliar o desempenho do modelo.\n",
    "\n",
    "Primeiramente utilizando matriz de confusão e os resultados do relatório de confusão nos dados de treinamento."
   ]
  },
  {
   "cell_type": "code",
   "execution_count": 175,
   "metadata": {},
   "outputs": [
    {
     "name": "stderr",
     "output_type": "stream",
     "text": [
      "C:\\Users\\TECNO\\AppData\\Local\\Programs\\Python\\Python39\\lib\\site-packages\\sklearn\\base.py:450: UserWarning: X does not have valid feature names, but MLPClassifier was fitted with feature names\n",
      "  warnings.warn(\n",
      "C:\\Users\\TECNO\\AppData\\Local\\Programs\\Python\\Python39\\lib\\site-packages\\sklearn\\base.py:450: UserWarning: X does not have valid feature names, but MLPClassifier was fitted with feature names\n",
      "  warnings.warn(\n"
     ]
    }
   ],
   "source": [
    "predict_train_balanced = mlp_balanced.predict(X_train)\n",
    "predict_test_balanced = mlp_balanced.predict(X_test)"
   ]
  },
  {
   "cell_type": "code",
   "execution_count": 180,
   "metadata": {},
   "outputs": [
    {
     "name": "stdout",
     "output_type": "stream",
     "text": [
      "Resultados para 'predict_train_balanced':\n"
     ]
    },
    {
     "data": {
      "image/png": "[encoded data removed]",
      "text/plain": [
       "<Figure size 432x288 with 2 Axes>"
      ]
     },
     "metadata": {
      "needs_background": "light"
     },
     "output_type": "display_data"
    },
    {
     "name": "stdout",
     "output_type": "stream",
     "text": [
      "              precision    recall  f1-score   support\n",
      "\n",
      "           0       0.89      0.00      0.01     67064\n",
      "           1       0.09      0.99      0.16      6306\n",
      "\n",
      "    accuracy                           0.09     73370\n",
      "   macro avg       0.49      0.50      0.08     73370\n",
      "weighted avg       0.82      0.09      0.02     73370\n",
      "\n"
     ]
    },
    {
     "data": {
      "text/plain": [
       "<Figure size 432x288 with 0 Axes>"
      ]
     },
     "metadata": {},
     "output_type": "display_data"
    }
   ],
   "source": [
    "print(\"Resultados para 'predict_train_balanced':\")\n",
    "#print(confusion_matrix(y_train,predict_train))\n",
    "cm = confusion_matrix(y_train, predict_train_balanced, labels=mlp_balanced.classes_)\n",
    "disp = ConfusionMatrixDisplay(confusion_matrix=cm, display_labels=mlp_balanced.classes_)\n",
    "disp.plot()\n",
    "plt.show()\n",
    "plt.savefig('predict_train_balanced.png')\n",
    "\n",
    "print(classification_report(y_train,predict_train_balanced))"
   ]
  },
  {
   "cell_type": "markdown",
   "metadata": {},
   "source": [
    "E por fim, avaliando o desempenho do modelo nos dados de teste."
   ]
  },
  {
   "cell_type": "code",
   "execution_count": 181,
   "metadata": {},
   "outputs": [
    {
     "name": "stdout",
     "output_type": "stream",
     "text": [
      "Resultados para 'predict_test_balanced':\n"
     ]
    },
    {
     "data": {
      "image/png": "[encoded data removed]",
      "text/plain": [
       "<Figure size 432x288 with 2 Axes>"
      ]
     },
     "metadata": {
      "needs_background": "light"
     },
     "output_type": "display_data"
    },
    {
     "name": "stdout",
     "output_type": "stream",
     "text": [
      "              precision    recall  f1-score   support\n",
      "\n",
      "           0       0.88      0.01      0.01     16734\n",
      "           1       0.09      0.99      0.16      1609\n",
      "\n",
      "    accuracy                           0.09     18343\n",
      "   macro avg       0.48      0.50      0.09     18343\n",
      "weighted avg       0.81      0.09      0.02     18343\n",
      "\n"
     ]
    },
    {
     "data": {
      "text/plain": [
       "<Figure size 432x288 with 0 Axes>"
      ]
     },
     "metadata": {},
     "output_type": "display_data"
    }
   ],
   "source": [
    "print(\"Resultados para 'predict_test_balanced':\")\n",
    "#print(confusion_matrix(y_test,predict_test))\n",
    "cm = confusion_matrix(y_test, predict_test_balanced, labels=mlp_balanced.classes_)\n",
    "disp = ConfusionMatrixDisplay(confusion_matrix=cm, display_labels=mlp_balanced.classes_)\n",
    "disp.plot()\n",
    "plt.show()\n",
    "plt.savefig('predict_test_balanced.png')\n",
    "\n",
    "print(classification_report(y_test,predict_test_balanced))"
   ]
  },
  {
   "cell_type": "markdown",
   "metadata": {},
   "source": [
    "#### Avaliação do desempenho dos modelos"
   ]
  },
  {
   "cell_type": "markdown",
   "metadata": {},
   "source": [
    "Ao comparar os resultados dos modelos gerados, obtivemos as seguintes conclusões:\n",
    "\n",
    "* Quanto maior a quantidade de dados de treino, mais alta a precisão das previsões geradas.\n",
    "\n",
    "* Utilizando os dados aleatórios, observamos que a rede neural tende a prever com maior frequência que os casos encontrados não resultarão em mortes, isso porque é levado em conta a baixa frequência de mortes resultantes nos dados de treinamento.\n",
    "\n",
    "* Utilizando os dados balanceados, a rede neural é treinada com uma possibilidade muito mais recorrente para casos de morte (o que não é uma estimativa real para todo o resto dos dados), que acaba resultando em previsões frequentes para casos de morte.\n",
    "\n",
    "Para que a precisão dos modelos gerados aumente, é importante utilizar dados com proporções ded resultaddos próximas do contexto geral, utilizando a maior quantidade de dados de treinamento possível."
   ]
  }
 ],
 "metadata": {
  "interpreter": {
   "hash": "9afbf6012fdb590bc3d26f0bf875e125819565329c4a7d832fab09835362d310"
  },
  "kernelspec": {
   "display_name": "Python 3.9.1 64-bit",
   "language": "python",
   "name": "python3"
  },
  "language_info": {
   "codemirror_mode": {
    "name": "ipython",
    "version": 3
   },
   "file_extension": ".py",
   "mimetype": "text/x-python",
   "name": "python",
   "nbconvert_exporter": "python",
   "pygments_lexer": "ipython3",
   "version": "3.9.1"
  },
  "orig_nbformat": 4
 },
 "nbformat": 4,
 "nbformat_minor": 2
}
