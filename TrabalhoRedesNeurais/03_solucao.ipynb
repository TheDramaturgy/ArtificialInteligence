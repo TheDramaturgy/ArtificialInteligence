{
 "cells": [
  {
   "cell_type": "markdown",
   "metadata": {},
   "source": [
    "**Instituto de Informática - UFG**\n",
    "\n",
    "Disciplina: Inteligência Computacional\n",
    "\n",
    "Prof. Cedric Luiz de Carvalho\n",
    "\n",
    "\n",
    "Grupo ( J )\n",
    "\n",
    "---\n",
    "\n",
    "\n",
    "Analista de dados:\n",
    "* Arthur Cavalcante de Andrade\n",
    "* William Teixeira Pires Junior\n",
    "\n",
    "---"
   ]
  },
  {
   "cell_type": "markdown",
   "metadata": {},
   "source": [
    "# Solução para o Problema"
   ]
  },
  {
   "cell_type": "markdown",
   "metadata": {},
   "source": [
    "O problema remete à previsão do óbito de pacientes internados.\n",
    "\n",
    "Dessa forma, iremos implementar uma rede neural que seja capaz de prever se um paciente que foi internado em um hospital irá morrer ou não."
   ]
  },
  {
   "cell_type": "markdown",
   "metadata": {},
   "source": [
    "#### Carregando as bibliotecas e módulos necessários"
   ]
  },
  {
   "cell_type": "code",
   "execution_count": 3,
   "metadata": {},
   "outputs": [],
   "source": [
    "import pandas as pd\n",
    "import numpy as np \n",
    "import matplotlib.pyplot as plt\n",
    "import sklearn\n",
    "from sklearn.neural_network import MLPClassifier\n",
    "from sklearn.neural_network import MLPRegressor\n",
    "from sklearn.model_selection import train_test_split\n",
    "from sklearn.metrics import mean_squared_error\n",
    "from math import sqrt\n",
    "from sklearn.metrics import r2_score"
   ]
  },
  {
   "cell_type": "markdown",
   "metadata": {},
   "source": [
    "#### Lendo os dados e realizando verificações básicas de dados"
   ]
  },
  {
   "cell_type": "code",
   "execution_count": 4,
   "metadata": {},
   "outputs": [
    {
     "name": "stdout",
     "output_type": "stream",
     "text": [
      "(91713, 77)\n"
     ]
    },
    {
     "data": {
      "text/html": [
       "<div>\n",
       "<style scoped>\n",
       "    .dataframe tbody tr th:only-of-type {\n",
       "        vertical-align: middle;\n",
       "    }\n",
       "\n",
       "    .dataframe tbody tr th {\n",
       "        vertical-align: top;\n",
       "    }\n",
       "\n",
       "    .dataframe thead th {\n",
       "        text-align: right;\n",
       "    }\n",
       "</style>\n",
       "<table border=\"1\" class=\"dataframe\">\n",
       "  <thead>\n",
       "    <tr style=\"text-align: right;\">\n",
       "      <th></th>\n",
       "      <th>count</th>\n",
       "      <th>mean</th>\n",
       "      <th>std</th>\n",
       "      <th>min</th>\n",
       "      <th>25%</th>\n",
       "      <th>50%</th>\n",
       "      <th>75%</th>\n",
       "      <th>max</th>\n",
       "    </tr>\n",
       "  </thead>\n",
       "  <tbody>\n",
       "    <tr>\n",
       "      <th>age</th>\n",
       "      <td>91713.0</td>\n",
       "      <td>62.295247</td>\n",
       "      <td>16.384012</td>\n",
       "      <td>16.000000</td>\n",
       "      <td>53.00000</td>\n",
       "      <td>64.000000</td>\n",
       "      <td>75.000000</td>\n",
       "      <td>89.00000</td>\n",
       "    </tr>\n",
       "    <tr>\n",
       "      <th>bmi</th>\n",
       "      <td>91713.0</td>\n",
       "      <td>29.185818</td>\n",
       "      <td>8.118970</td>\n",
       "      <td>14.844926</td>\n",
       "      <td>23.78776</td>\n",
       "      <td>28.007812</td>\n",
       "      <td>32.653061</td>\n",
       "      <td>67.81499</td>\n",
       "    </tr>\n",
       "    <tr>\n",
       "      <th>elective_surgery</th>\n",
       "      <td>91713.0</td>\n",
       "      <td>0.183736</td>\n",
       "      <td>0.387271</td>\n",
       "      <td>0.000000</td>\n",
       "      <td>0.00000</td>\n",
       "      <td>0.000000</td>\n",
       "      <td>0.000000</td>\n",
       "      <td>1.00000</td>\n",
       "    </tr>\n",
       "    <tr>\n",
       "      <th>ethnicity</th>\n",
       "      <td>91713.0</td>\n",
       "      <td>0.635395</td>\n",
       "      <td>1.369270</td>\n",
       "      <td>0.000000</td>\n",
       "      <td>0.00000</td>\n",
       "      <td>0.000000</td>\n",
       "      <td>0.000000</td>\n",
       "      <td>5.00000</td>\n",
       "    </tr>\n",
       "    <tr>\n",
       "      <th>height</th>\n",
       "      <td>91713.0</td>\n",
       "      <td>169.641588</td>\n",
       "      <td>10.716578</td>\n",
       "      <td>137.200000</td>\n",
       "      <td>162.56000</td>\n",
       "      <td>170.000000</td>\n",
       "      <td>177.800000</td>\n",
       "      <td>195.59000</td>\n",
       "    </tr>\n",
       "    <tr>\n",
       "      <th>...</th>\n",
       "      <td>...</td>\n",
       "      <td>...</td>\n",
       "      <td>...</td>\n",
       "      <td>...</td>\n",
       "      <td>...</td>\n",
       "      <td>...</td>\n",
       "      <td>...</td>\n",
       "      <td>...</td>\n",
       "    </tr>\n",
       "    <tr>\n",
       "      <th>leukemia</th>\n",
       "      <td>91713.0</td>\n",
       "      <td>0.007011</td>\n",
       "      <td>0.083438</td>\n",
       "      <td>0.000000</td>\n",
       "      <td>0.00000</td>\n",
       "      <td>0.000000</td>\n",
       "      <td>0.000000</td>\n",
       "      <td>1.00000</td>\n",
       "    </tr>\n",
       "    <tr>\n",
       "      <th>lymphoma</th>\n",
       "      <td>91713.0</td>\n",
       "      <td>0.004100</td>\n",
       "      <td>0.063898</td>\n",
       "      <td>0.000000</td>\n",
       "      <td>0.00000</td>\n",
       "      <td>0.000000</td>\n",
       "      <td>0.000000</td>\n",
       "      <td>1.00000</td>\n",
       "    </tr>\n",
       "    <tr>\n",
       "      <th>solid_tumor_with_metastasis</th>\n",
       "      <td>91713.0</td>\n",
       "      <td>0.020477</td>\n",
       "      <td>0.141626</td>\n",
       "      <td>0.000000</td>\n",
       "      <td>0.00000</td>\n",
       "      <td>0.000000</td>\n",
       "      <td>0.000000</td>\n",
       "      <td>1.00000</td>\n",
       "    </tr>\n",
       "    <tr>\n",
       "      <th>apache_3j_bodysystem</th>\n",
       "      <td>91713.0</td>\n",
       "      <td>4.168777</td>\n",
       "      <td>3.809760</td>\n",
       "      <td>0.000000</td>\n",
       "      <td>0.00000</td>\n",
       "      <td>5.000000</td>\n",
       "      <td>8.000000</td>\n",
       "      <td>10.00000</td>\n",
       "    </tr>\n",
       "    <tr>\n",
       "      <th>hospital_death</th>\n",
       "      <td>91713.0</td>\n",
       "      <td>0.086302</td>\n",
       "      <td>0.280811</td>\n",
       "      <td>0.000000</td>\n",
       "      <td>0.00000</td>\n",
       "      <td>0.000000</td>\n",
       "      <td>0.000000</td>\n",
       "      <td>1.00000</td>\n",
       "    </tr>\n",
       "  </tbody>\n",
       "</table>\n",
       "<p>77 rows × 8 columns</p>\n",
       "</div>"
      ],
      "text/plain": [
       "                               count        mean        std         min  \\\n",
       "age                          91713.0   62.295247  16.384012   16.000000   \n",
       "bmi                          91713.0   29.185818   8.118970   14.844926   \n",
       "elective_surgery             91713.0    0.183736   0.387271    0.000000   \n",
       "ethnicity                    91713.0    0.635395   1.369270    0.000000   \n",
       "height                       91713.0  169.641588  10.716578  137.200000   \n",
       "...                              ...         ...        ...         ...   \n",
       "leukemia                     91713.0    0.007011   0.083438    0.000000   \n",
       "lymphoma                     91713.0    0.004100   0.063898    0.000000   \n",
       "solid_tumor_with_metastasis  91713.0    0.020477   0.141626    0.000000   \n",
       "apache_3j_bodysystem         91713.0    4.168777   3.809760    0.000000   \n",
       "hospital_death               91713.0    0.086302   0.280811    0.000000   \n",
       "\n",
       "                                   25%         50%         75%        max  \n",
       "age                           53.00000   64.000000   75.000000   89.00000  \n",
       "bmi                           23.78776   28.007812   32.653061   67.81499  \n",
       "elective_surgery               0.00000    0.000000    0.000000    1.00000  \n",
       "ethnicity                      0.00000    0.000000    0.000000    5.00000  \n",
       "height                       162.56000  170.000000  177.800000  195.59000  \n",
       "...                                ...         ...         ...        ...  \n",
       "leukemia                       0.00000    0.000000    0.000000    1.00000  \n",
       "lymphoma                       0.00000    0.000000    0.000000    1.00000  \n",
       "solid_tumor_with_metastasis    0.00000    0.000000    0.000000    1.00000  \n",
       "apache_3j_bodysystem           0.00000    5.000000    8.000000   10.00000  \n",
       "hospital_death                 0.00000    0.000000    0.000000    1.00000  \n",
       "\n",
       "[77 rows x 8 columns]"
      ]
     },
     "execution_count": 4,
     "metadata": {},
     "output_type": "execute_result"
    }
   ],
   "source": [
    "df = pd.read_csv('statistic_data.csv') \n",
    "print(df.shape)\n",
    "df.describe().transpose()"
   ]
  },
  {
   "cell_type": "markdown",
   "metadata": {},
   "source": [
    "Observando o resumo da variável `hospital_death`, observamos que o valor médio é 0.086, o que significa que cerca de 8.6% das observações no conjunto de dados têm diabetes.\n",
    "\n",
    "Visando uma boa proporção nas amostras, podemos considerar fazer uma rede neural com dados de teste que possuem a quantidade de mortes e não mortes com proporções equivalentes, e outra rede neural com amostras aleatórias. Em seguida, comparar os resultados."
   ]
  },
  {
   "cell_type": "markdown",
   "metadata": {},
   "source": [
    "#### Criando os conjuntos de dados de treinamento e teste"
   ]
  },
  {
   "cell_type": "markdown",
   "metadata": {},
   "source": [
    "##### Dados aleatórios"
   ]
  },
  {
   "cell_type": "markdown",
   "metadata": {},
   "source": [
    "Inicialmente dividimos a variável de destino e o resto do conjunto de dados, criamos arrays das variáveis independente e dependentes, e em seguida separamos dados de treinamento e de teste."
   ]
  },
  {
   "cell_type": "code",
   "execution_count": 10,
   "metadata": {},
   "outputs": [
    {
     "name": "stdout",
     "output_type": "stream",
     "text": [
      "(64199, 76)\n",
      "(27514, 76)\n"
     ]
    }
   ],
   "source": [
    "#divide a variável de destino e o resto do conjunto de dados\n",
    "target_column = ['hospital_death']\n",
    "predictors = list(set(list(df.columns))-set(target_column))\n",
    "\n",
    "#cria arrays de variáveis independentes (X) e dependentes (Y)\n",
    "X = df[predictors].values\n",
    "y = df[target_column].values\n",
    "\n",
    "#divide os dados em conjunto de dados de treinamento e teste\n",
    "X_train, X_test, y_train, y_test = train_test_split(X, y, test_size=0.30, random_state=40)\n",
    "\n",
    "#imprime a forma dos dados de treinamento e teste\n",
    "print(X_train.shape); print(X_test.shape)"
   ]
  },
  {
   "cell_type": "markdown",
   "metadata": {},
   "source": [
    "##### Dados com proporção equivalente"
   ]
  },
  {
   "cell_type": "markdown",
   "metadata": {},
   "source": [
    "#### Construindo, Prevendo e Avaliando o Modelo de Rede Neural"
   ]
  },
  {
   "cell_type": "markdown",
   "metadata": {},
   "source": [
    "Nesta etapa, construiremos o modelo de rede neural usando o objeto estimador da biblioteca scikit-learn, **Multi-Layer Perceptron Classifier**.\n",
    "\n",
    "A primeira linha instancia o modelo com o argumento `hidden_layer_sizes` definido como três camadas, que tem o mesmo número de neurônios que a contagem de recursos no conjunto de dados. \n",
    "\n",
    "A segunda linha ajusta o modelo de dados ao treinamento, enquanto a terceira e quarta linhas usam o modelo treinado para gerar previsões no conjunto de dados de treinamento e teste, respectivamente."
   ]
  },
  {
   "cell_type": "code",
   "execution_count": 11,
   "metadata": {},
   "outputs": [
    {
     "name": "stderr",
     "output_type": "stream",
     "text": [
      "C:\\Users\\TECNO\\AppData\\Local\\Programs\\Python\\Python39\\lib\\site-packages\\sklearn\\neural_network\\_multilayer_perceptron.py:1109: DataConversionWarning: A column-vector y was passed when a 1d array was expected. Please change the shape of y to (n_samples, ), for example using ravel().\n",
      "  y = column_or_1d(y, warn=True)\n"
     ]
    }
   ],
   "source": [
    "mlp = MLPClassifier(hidden_layer_sizes=(76,76,76), activation='relu', solver='adam', max_iter=500)\n",
    "mlp.fit(X_train,y_train)\n",
    "\n",
    "predict_train = mlp.predict(X_train)\n",
    "predict_test = mlp.predict(X_test)"
   ]
  },
  {
   "cell_type": "markdown",
   "metadata": {},
   "source": [
    "Uma vez que as previsões são geradas, podemos avaliar o desempenho do modelo.\n",
    "\n",
    "Sendo um algoritmo de classificação, primeiro importaremos os módulos necessários, o que é feito na primeira linha do código abaixo.\n",
    "\n",
    "A segunda e terceira linhas de código imprimem a matriz de confusão e os resultados do relatório de confusão nos dados de treinamento."
   ]
  },
  {
   "cell_type": "code",
   "execution_count": 12,
   "metadata": {},
   "outputs": [
    {
     "name": "stdout",
     "output_type": "stream",
     "text": [
      "[[58265   375]\n",
      " [ 1038  4521]]\n",
      "              precision    recall  f1-score   support\n",
      "\n",
      "           0       0.98      0.99      0.99     58640\n",
      "           1       0.92      0.81      0.86      5559\n",
      "\n",
      "    accuracy                           0.98     64199\n",
      "   macro avg       0.95      0.90      0.93     64199\n",
      "weighted avg       0.98      0.98      0.98     64199\n",
      "\n"
     ]
    }
   ],
   "source": [
    "from sklearn.metrics import classification_report,confusion_matrix\n",
    "print(confusion_matrix(y_train,predict_train))\n",
    "print(classification_report(y_train,predict_train))"
   ]
  },
  {
   "cell_type": "markdown",
   "metadata": {},
   "source": [
    "O próximo passo é avaliar o desempenho do modelo nos dados de teste que é feito com as linhas de código abaixo."
   ]
  },
  {
   "cell_type": "code",
   "execution_count": 13,
   "metadata": {},
   "outputs": [
    {
     "name": "stdout",
     "output_type": "stream",
     "text": [
      "[[23996  1162]\n",
      " [ 1495   861]]\n",
      "              precision    recall  f1-score   support\n",
      "\n",
      "           0       0.94      0.95      0.95     25158\n",
      "           1       0.43      0.37      0.39      2356\n",
      "\n",
      "    accuracy                           0.90     27514\n",
      "   macro avg       0.68      0.66      0.67     27514\n",
      "weighted avg       0.90      0.90      0.90     27514\n",
      "\n"
     ]
    }
   ],
   "source": [
    "print(confusion_matrix(y_test,predict_test))\n",
    "print(classification_report(y_test,predict_test))"
   ]
  }
 ],
 "metadata": {
  "interpreter": {
   "hash": "9afbf6012fdb590bc3d26f0bf875e125819565329c4a7d832fab09835362d310"
  },
  "kernelspec": {
   "display_name": "Python 3.9.1 64-bit",
   "language": "python",
   "name": "python3"
  },
  "language_info": {
   "codemirror_mode": {
    "name": "ipython",
    "version": 3
   },
   "file_extension": ".py",
   "mimetype": "text/x-python",
   "name": "python",
   "nbconvert_exporter": "python",
   "pygments_lexer": "ipython3",
   "version": "3.9.1"
  },
  "orig_nbformat": 4
 },
 "nbformat": 4,
 "nbformat_minor": 2
}
