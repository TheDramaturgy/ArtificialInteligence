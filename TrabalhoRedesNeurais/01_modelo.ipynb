{
 "cells": [
  {
   "cell_type": "markdown",
   "metadata": {},
   "source": [
    "**Instituto de Informática - UFG**\n",
    "\n",
    "Disciplina: Inteligência Computacional\n",
    "\n",
    "Prof. Cedric Luiz de Carvalho\n",
    "\n",
    "\n",
    "Grupo ( J )\n",
    "\n",
    "---\n",
    "\n",
    "\n",
    "Analista de dados:\n",
    "* William Teixeira Pires Junior\n",
    "\n",
    "---\n",
    "\n",
    "Engenheiro(a) do conhecimento:\n",
    "* Arthur Cavalcante de Andrade\n",
    "\n",
    "---"
   ]
  },
  {
   "cell_type": "markdown",
   "metadata": {},
   "source": [
    "# Modelo"
   ]
  },
  {
   "cell_type": "markdown",
   "metadata": {},
   "source": [
    "Com a pandemia vimos a na prática a importância de reduzir a mortalidade em UTIs, e o conhecimento prévio de pacientes que podem ter complicações pode direcionar médicos a tomarem ações mais eficientes e assim evitar mortes. Com esse intuito, a medicina definiu os padrões `APACHE` (Acute Physiology and Chronic Health Evaluation) que oferece classificações de diagnostico e até um modelo de predição da probabilidade de morte de um paciente."
   ]
  },
  {
   "cell_type": "markdown",
   "metadata": {},
   "source": [
    "Nosso objetivo é então, usando uma base de dados com diversas informações sobre pacientes internados em UTI, incluindo diversos diagnósticos `APACHE`, comorbidades, resultados de exames além de características físicas."
   ]
  },
  {
   "cell_type": "markdown",
   "metadata": {},
   "source": [
    "A base de dados apresenta algumas colunas irrelevantes como identificadores e até uma coluna anonimizada que foi mantida vazia, realizaremos avaliações para tentar identificar correlações entre morte e algumas das colunas, converter valores simbólicos para numéricos e usar diferentes técnicas para lidar com dados incompletos na base para que seja habilitada a ser passada para o algoritmo gerador de rede neural, técnica que utilizaremos para tentar predizer se uma pessoa internada pode vir a óbito ou não."
   ]
  },
  {
   "cell_type": "markdown",
   "metadata": {},
   "source": [
    "Para gerar a rede neural será utilizado o algoritmo estimador **Multi-Layer Perceptron Classifier** da biblioteca `scikit-learn`.\n",
    "\n",
    "O algoritmo será definido com a função de ativação sigmoidal, comumente utilizada por redes neurais com propagação positiva (Feedforward) que precisam ter como saída apenas números positivos, em redes neurais multicamadas."
   ]
  },
  {
   "cell_type": "markdown",
   "metadata": {},
   "source": [
    "Utilizaremos diferentes conjuntos de dados de treinamento para as redes neurais, realizando testes posteriormente, para avaliar de que forma é possível projetar conjuntos com melhores resultados para a geração de uma rede neural."
   ]
  },
  {
   "cell_type": "markdown",
   "metadata": {},
   "source": [
    "Ao final, realizamos conclusões sobre as informações encontradas nos resultados dos treinamentos e testes."
   ]
  }
 ],
 "metadata": {
  "interpreter": {
   "hash": "816c4ca1a442304386b640facc7eeaee53f275019272c999ca11fec791461f00"
  },
  "kernelspec": {
   "display_name": "Python 3.10.2 64-bit",
   "language": "python",
   "name": "python3"
  },
  "language_info": {
   "codemirror_mode": {
    "name": "ipython",
    "version": 3
   },
   "file_extension": ".py",
   "mimetype": "text/x-python",
   "name": "python",
   "nbconvert_exporter": "python",
   "pygments_lexer": "ipython3",
   "version": "3.9.1"
  },
  "orig_nbformat": 4
 },
 "nbformat": 4,
 "nbformat_minor": 2
}
