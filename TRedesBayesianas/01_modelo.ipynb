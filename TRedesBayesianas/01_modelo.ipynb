{
 "cells": [
  {
   "cell_type": "markdown",
   "metadata": {},
   "source": [
    "**Instituto de Informática - UFG**\n",
    "\n",
    "Disciplina: Inteligência Computacional\n",
    "\n",
    "Prof. Cedric Luiz de Carvalho\n",
    "\n",
    "\n",
    "Grupo ( B )\n",
    "\n",
    "---\n",
    "\n",
    "\n",
    "Analista de dados:\n",
    "* Arthur Cavalcante de Andrade\n",
    "\n",
    "---\n",
    "\n",
    "Engenheiro(a) do conhecimento:\n",
    "* William Teixeira Pires Junior\n",
    "\n",
    "---"
   ]
  },
  {
   "cell_type": "markdown",
   "metadata": {},
   "source": [
    "# Modelo"
   ]
  },
  {
   "cell_type": "markdown",
   "metadata": {},
   "source": [
    "As doenças cardiovasculares são a maior causa de morte no planeta. Milhões de pessoas morrem anualmente por problemas cardíacos.  O assunto tem sido objeto de pesquisa tanto na academia quanto na indústria. Por exemplo, [Saheki e outros](http://sites.poli.usp.br/p/fabio.cozman/Publications/Article/saheki-sharovsky-cozman-coupe-enia2003.pdf) desenvolveram uma rede bayesiana para tratar do assunto.\n",
    "\n",
    "A partir do estudo de trabalhos já desenvolvidos e da [base de dados](https://www.kaggle.com/andrewmvd/heart-failure-clinical-data) disponibilizada, construímos uma rede bayesiana que permita fazer predições de óbitos por essas doenças.\n",
    "\n",
    "Sabendo disso, neste notebook descrevemos o funcionamento do modelo de redes bayesianas."
   ]
  },
  {
   "cell_type": "markdown",
   "metadata": {},
   "source": [
    "### Teorema de Bayes"
   ]
  },
  {
   "cell_type": "markdown",
   "metadata": {},
   "source": [
    "O Teorema de Bayes descreve a probabilidade de um evento dado que outro evento já ocorreu, o que é chamado de **probabilidade condicional**.\n",
    "\n",
    "Nesse teorema precisamos ter alguma informação anterior, ou seja, saber que um determinado evento já ocorreu e qual a probabilidade desse evento, essa informação é chamada ***a priori***.\n",
    "\n",
    "Caso não tenhamos as probabilidades a priori, podemos estimá-las ou utilizar algumas distribuição de probabilidade conhecida (Distribuição Normal, Gaussiana, Poisson, etc).\n",
    "\n",
    "Com base nas probabilidades a priori e novos dados obtidos, a chamada **verossimilhança**, temos as probabilidades ***a posteriori***, que podem ser consideradas as novas ou atuais probabilidades.\n",
    "\n",
    "**P(A|B) = P(B|A) * P(A) / P(B)**\n",
    "\n",
    "*(posteriori = verossimilhança * priori / evidência)*"
   ]
  },
  {
   "cell_type": "markdown",
   "metadata": {},
   "source": [
    "### Redes Bayesianas"
   ]
  },
  {
   "cell_type": "markdown",
   "metadata": {},
   "source": [
    "Estas redes são a representação das relações entre as probabilidades de ocorrência de eventos **utilizando probabilidades a priori e a posteriori** relacionadas através de um grafo, onde os **vértices são as variáveis aleatórias e as arestas são as relações de dependência**.\n",
    "\n",
    "É possível obter a **distribuição de probabilidade conjunta da rede** multiplicando as probabilidades condicionais em cada nó em todos os caminhos da rede.\n",
    "\n",
    "Ela pode ser tida como uma forma de **representar** um conhecimento especialista sobre incertezas do objeto de estudo e de **inferir** sobre o que era desconhecido, ou seja, onde as probabilidades não são representadas diretamente no modelo.\n",
    "\n",
    "Como destacado por (RUSSELL; NORVIG, 1995), inferências podem ser realizadas sobre redes Bayesianas, em quatro maneiras distintas:\n",
    "\n",
    "1. **Diagnósticos:** partindo dos efeitos para as causas;\n",
    "2. **Causa:** partindo das causas para os efeitos;\n",
    "3. **Intercausal:** entre causas de um efeito comum;\n",
    "4. **Mistas:** combinação de dois ou mais tipos descritos acima."
   ]
  },
  {
   "cell_type": "markdown",
   "metadata": {},
   "source": [
    "### Redes Bayesianas Ingênuas (Navy Bayes)"
   ]
  },
  {
   "cell_type": "markdown",
   "metadata": {},
   "source": [
    "As Redes Bayesianas Ingênuas assumem que existe independência entre todos os atributos, assim sendo, todos os atributos tem influência direta sobre a classe que queremos identificar. Assim, podemos calcular a probabilidade a posteriori de forma simples:"
   ]
  },
  {
   "cell_type": "markdown",
   "metadata": {},
   "source": [
    "- P(Ci) * P(D1,..., Dn | Ci)\n",
    "\n",
    "Onde ``Ci`` é uma das possíveis classificações e ``D1`` a ``Dn`` são os atributos que tem influência na classe."
   ]
  },
  {
   "cell_type": "markdown",
   "metadata": {},
   "source": [
    "### Conclusão"
   ]
  },
  {
   "cell_type": "markdown",
   "metadata": {},
   "source": [
    "As redes Bayesianas utilizam dos conceitos de mapas causais, para modelar domínios. Mapas causais estes que descrevem as variáveis (nós) e as relações de causa e efeito entre elas, na forma de um grafo acíclico. A intensidade das relações é dada pelas tabelas de probabilidade condicional de cada variável, que quantifica as probabilidades de ocorrência de um evento dado seus pais.\n",
    "\n",
    "O cálculo das probabilidades é obtido com a aplicação do teorema de Bayes, a partir das probabilidades a priori, adquiridas com o auxílio de um especialista ou através de um banco de dados.\n",
    "\n",
    "Com isso podemos concluir que uma rede Bayesiana que represente corretamente um domínio, pode ser considerada um método bastante atrativo para armazenamento e extração de conhecimento. E ainda podemos destacar o não menos relevante método de classificação Naive Bayes, o qual foi provado por inúmeros trabalhos que mesmo possuindo\n",
    "fortes restrições, é incrivelmente eficiente."
   ]
  }
 ],
 "metadata": {
  "interpreter": {
   "hash": "816c4ca1a442304386b640facc7eeaee53f275019272c999ca11fec791461f00"
  },
  "kernelspec": {
   "display_name": "Python 3.10.2 64-bit",
   "language": "python",
   "name": "python3"
  },
  "language_info": {
   "codemirror_mode": {
    "name": "ipython",
    "version": 3
   },
   "file_extension": ".py",
   "mimetype": "text/x-python",
   "name": "python",
   "nbconvert_exporter": "python",
   "pygments_lexer": "ipython3",
   "version": "3.9.1"
  },
  "orig_nbformat": 4
 },
 "nbformat": 4,
 "nbformat_minor": 2
}
