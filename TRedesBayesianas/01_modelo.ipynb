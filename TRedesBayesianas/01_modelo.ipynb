{
 "cells": [
  {
   "cell_type": "markdown",
   "metadata": {},
   "source": [
    "**Instituto de Informática - UFG**\n",
    "\n",
    "Disciplina: Inteligência Computacional\n",
    "\n",
    "Prof. Cedric Luiz de Carvalho\n",
    "\n",
    "\n",
    "Grupo ( B )\n",
    "\n",
    "---\n",
    "\n",
    "\n",
    "Analista de dados:\n",
    "* Arthur Cavalcante de Andrade\n",
    "\n",
    "---\n",
    "\n",
    "Engenheiro(a) do conhecimento:\n",
    "* William Teixeira Pires Junior\n",
    "\n",
    "---"
   ]
  },
  {
   "cell_type": "markdown",
   "metadata": {},
   "source": [
    "# Modelo"
   ]
  },
  {
   "cell_type": "markdown",
   "metadata": {},
   "source": [
    "As doenças cardiovasculares são a maior causa de morte no planeta. Milhões de pessoas morrem anualmente por problemas cardíacos.  O assunto tem sido objeto de pesquisa tanto na academia quanto na indústria. Por exemplo, [Saheki e outros](http://sites.poli.usp.br/p/fabio.cozman/Publications/Article/saheki-sharovsky-cozman-coupe-enia2003.pdf) desenvolveram uma rede bayesiana para tratar do assunto.\n",
    "\n",
    "A partir do estudo de trabalhos já desenvolvidos e da [base de dados](https://www.kaggle.com/andrewmvd/heart-failure-clinical-data) disponibilizada, construímos uma rede bayesiana que permita fazer predições de óbitos por essas doenças.\n",
    "\n",
    "Sabendo disso, neste notebook descrevemos o funcionamento do modelo de redes bayesianas."
   ]
  },
  {
   "cell_type": "markdown",
   "metadata": {},
   "source": [
    "### Teorema de Bayes"
   ]
  },
  {
   "cell_type": "markdown",
   "metadata": {},
   "source": [
    "O Teorema de Bayes descreve a probabilidade de um evento dado que outro evento já ocorreu, o que é chamado de **probabilidade condicional**.\n",
    "\n",
    "Nesse teorema precisamos ter alguma informação anterior, ou seja, saber que um determinado evento já ocorreu e qual a probabilidade desse evento, essa informação é chamada ***a priori***.\n",
    "\n",
    "Caso não tenhamos as probabilidades a priori, podemos estimá-las ou utilizar algumas distribuição de probabilidade conhecida (Distribuição Normal, Gaussiana, Poisson, etc).\n",
    "\n",
    "Com base nas probabilidades a priori e novos dados obtidos, a chamada **verossimilhança**, temos as probabilidades ***a posteriori***, que podem ser consideradas as novas ou atuais probabilidades.\n",
    "\n",
    "**P(A|B) = P(B|A) * P(A) / P(B)**\n",
    "\n",
    "*(posteriori = verossimilhança * priori / evidência)*"
   ]
  },
  {
   "cell_type": "markdown",
   "metadata": {},
   "source": [
    "### Redes Bayesianas Ingênuas"
   ]
  },
  {
   "cell_type": "markdown",
   "metadata": {},
   "source": [
    "As Redes Bayesianas Ingênuas assumem que existe independência entre todos os atributos, assim sendo, todos os atributos tem influência direta sobre a classe que queremos identificar. Assim, podemos calcular a probabilidade a posteriori de forma simples:"
   ]
  },
  {
   "cell_type": "markdown",
   "metadata": {},
   "source": [
    "- P(Ci) * P(D1,..., Dn | Ci)\n",
    "\n",
    "Onde ``Ci`` é uma das possíveis classificações e ``D1`` a ``Dn`` são os atributos que tem influência na classe."
   ]
  }
 ],
 "metadata": {
  "interpreter": {
   "hash": "816c4ca1a442304386b640facc7eeaee53f275019272c999ca11fec791461f00"
  },
  "kernelspec": {
   "display_name": "Python 3.10.2 64-bit",
   "language": "python",
   "name": "python3"
  },
  "language_info": {
   "codemirror_mode": {
    "name": "ipython",
    "version": 3
   },
   "file_extension": ".py",
   "mimetype": "text/x-python",
   "name": "python",
   "nbconvert_exporter": "python",
   "pygments_lexer": "ipython3",
   "version": "3.9.1"
  },
  "orig_nbformat": 4
 },
 "nbformat": 4,
 "nbformat_minor": 2
}
